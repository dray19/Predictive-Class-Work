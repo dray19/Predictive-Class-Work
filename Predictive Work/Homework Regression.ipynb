{
 "cells": [
  {
   "cell_type": "markdown",
   "metadata": {},
   "source": [
    "## Energy Efficiency Data Set\n",
    "### Homework 2\n",
    "#### Drazen Zack"
   ]
  },
  {
   "cell_type": "markdown",
   "metadata": {},
   "source": [
    "### Loading libraries"
   ]
  },
  {
   "cell_type": "code",
   "execution_count": 1,
   "metadata": {},
   "outputs": [],
   "source": [
    "import pandas as pd\n",
    "import numpy as np\n",
    "import matplotlib.pyplot as plt\n",
    "import seaborn as sns\n",
    "import warnings\n",
    "warnings.filterwarnings('ignore')\n",
    "import scipy as sp\n",
    "from scipy.stats import skew, boxcox, zscore\n",
    "import statsmodels.api as sm\n",
    "from patsy import dmatrices\n",
    "from statsmodels.stats.outliers_influence import variance_inflation_factor\n",
    "from sklearn.linear_model import LinearRegression\n",
    "from sklearn.model_selection import train_test_split\n",
    "from sklearn.metrics import mean_squared_error, r2_score, mean_absolute_error\n",
    "from sklearn.preprocessing import StandardScaler, MinMaxScaler\n",
    "from sklearn.decomposition import PCA \n",
    "import pylab\n",
    "from statsmodels.graphics.gofplots import ProbPlot\n",
    "from statsmodels.stats.stattools import durbin_watson\n",
    "from statsmodels import stats\n",
    "import math\n",
    "import pylab "
   ]
  },
  {
   "cell_type": "markdown",
   "metadata": {},
   "source": [
    "### Exploratory Data Analysis"
   ]
  },
  {
   "cell_type": "markdown",
   "metadata": {},
   "source": [
    "Droping columns that are not needed"
   ]
  },
  {
   "cell_type": "code",
   "execution_count": 2,
   "metadata": {},
   "outputs": [
    {
     "data": {
      "text/html": [
       "<div>\n",
       "<style scoped>\n",
       "    .dataframe tbody tr th:only-of-type {\n",
       "        vertical-align: middle;\n",
       "    }\n",
       "\n",
       "    .dataframe tbody tr th {\n",
       "        vertical-align: top;\n",
       "    }\n",
       "\n",
       "    .dataframe thead th {\n",
       "        text-align: right;\n",
       "    }\n",
       "</style>\n",
       "<table border=\"1\" class=\"dataframe\">\n",
       "  <thead>\n",
       "    <tr style=\"text-align: right;\">\n",
       "      <th></th>\n",
       "      <th>X1</th>\n",
       "      <th>X2</th>\n",
       "      <th>X3</th>\n",
       "      <th>X4</th>\n",
       "      <th>X5</th>\n",
       "      <th>X6</th>\n",
       "      <th>X7</th>\n",
       "      <th>X8</th>\n",
       "      <th>Y2</th>\n",
       "    </tr>\n",
       "  </thead>\n",
       "  <tbody>\n",
       "    <tr>\n",
       "      <th>0</th>\n",
       "      <td>0.98</td>\n",
       "      <td>514.5</td>\n",
       "      <td>294.0</td>\n",
       "      <td>110.25</td>\n",
       "      <td>7.0</td>\n",
       "      <td>2.0</td>\n",
       "      <td>0.0</td>\n",
       "      <td>0.0</td>\n",
       "      <td>21.33</td>\n",
       "    </tr>\n",
       "    <tr>\n",
       "      <th>1</th>\n",
       "      <td>0.98</td>\n",
       "      <td>514.5</td>\n",
       "      <td>294.0</td>\n",
       "      <td>110.25</td>\n",
       "      <td>7.0</td>\n",
       "      <td>3.0</td>\n",
       "      <td>0.0</td>\n",
       "      <td>0.0</td>\n",
       "      <td>21.33</td>\n",
       "    </tr>\n",
       "    <tr>\n",
       "      <th>2</th>\n",
       "      <td>0.98</td>\n",
       "      <td>514.5</td>\n",
       "      <td>294.0</td>\n",
       "      <td>110.25</td>\n",
       "      <td>7.0</td>\n",
       "      <td>4.0</td>\n",
       "      <td>0.0</td>\n",
       "      <td>0.0</td>\n",
       "      <td>21.33</td>\n",
       "    </tr>\n",
       "    <tr>\n",
       "      <th>3</th>\n",
       "      <td>0.98</td>\n",
       "      <td>514.5</td>\n",
       "      <td>294.0</td>\n",
       "      <td>110.25</td>\n",
       "      <td>7.0</td>\n",
       "      <td>5.0</td>\n",
       "      <td>0.0</td>\n",
       "      <td>0.0</td>\n",
       "      <td>21.33</td>\n",
       "    </tr>\n",
       "    <tr>\n",
       "      <th>4</th>\n",
       "      <td>0.90</td>\n",
       "      <td>563.5</td>\n",
       "      <td>318.5</td>\n",
       "      <td>122.50</td>\n",
       "      <td>7.0</td>\n",
       "      <td>2.0</td>\n",
       "      <td>0.0</td>\n",
       "      <td>0.0</td>\n",
       "      <td>28.28</td>\n",
       "    </tr>\n",
       "  </tbody>\n",
       "</table>\n",
       "</div>"
      ],
      "text/plain": [
       "     X1     X2     X3      X4   X5   X6   X7   X8     Y2\n",
       "0  0.98  514.5  294.0  110.25  7.0  2.0  0.0  0.0  21.33\n",
       "1  0.98  514.5  294.0  110.25  7.0  3.0  0.0  0.0  21.33\n",
       "2  0.98  514.5  294.0  110.25  7.0  4.0  0.0  0.0  21.33\n",
       "3  0.98  514.5  294.0  110.25  7.0  5.0  0.0  0.0  21.33\n",
       "4  0.90  563.5  318.5  122.50  7.0  2.0  0.0  0.0  28.28"
      ]
     },
     "execution_count": 2,
     "metadata": {},
     "output_type": "execute_result"
    }
   ],
   "source": [
    "df = pd.read_csv('ENB2012_data.csv')\n",
    "df.drop('Unnamed: 10', inplace = True, axis = 1)\n",
    "df.drop('Unnamed: 11', inplace = True, axis = 1)\n",
    "df.drop('Y1', inplace = True, axis = 1)\n",
    "df.head()"
   ]
  },
  {
   "cell_type": "markdown",
   "metadata": {},
   "source": [
    "### Changed name of Y2 to cooling load"
   ]
  },
  {
   "cell_type": "markdown",
   "metadata": {},
   "source": [
    "Of the two y variables I decided to pick y2 as my y variable. "
   ]
  },
  {
   "cell_type": "code",
   "execution_count": 3,
   "metadata": {},
   "outputs": [
    {
     "data": {
      "text/html": [
       "<div>\n",
       "<style scoped>\n",
       "    .dataframe tbody tr th:only-of-type {\n",
       "        vertical-align: middle;\n",
       "    }\n",
       "\n",
       "    .dataframe tbody tr th {\n",
       "        vertical-align: top;\n",
       "    }\n",
       "\n",
       "    .dataframe thead th {\n",
       "        text-align: right;\n",
       "    }\n",
       "</style>\n",
       "<table border=\"1\" class=\"dataframe\">\n",
       "  <thead>\n",
       "    <tr style=\"text-align: right;\">\n",
       "      <th></th>\n",
       "      <th>X1</th>\n",
       "      <th>X2</th>\n",
       "      <th>X3</th>\n",
       "      <th>X4</th>\n",
       "      <th>X5</th>\n",
       "      <th>X6</th>\n",
       "      <th>X7</th>\n",
       "      <th>X8</th>\n",
       "      <th>cooling_load</th>\n",
       "    </tr>\n",
       "  </thead>\n",
       "  <tbody>\n",
       "    <tr>\n",
       "      <th>0</th>\n",
       "      <td>0.98</td>\n",
       "      <td>514.5</td>\n",
       "      <td>294.0</td>\n",
       "      <td>110.25</td>\n",
       "      <td>7.0</td>\n",
       "      <td>2.0</td>\n",
       "      <td>0.0</td>\n",
       "      <td>0.0</td>\n",
       "      <td>21.33</td>\n",
       "    </tr>\n",
       "    <tr>\n",
       "      <th>1</th>\n",
       "      <td>0.98</td>\n",
       "      <td>514.5</td>\n",
       "      <td>294.0</td>\n",
       "      <td>110.25</td>\n",
       "      <td>7.0</td>\n",
       "      <td>3.0</td>\n",
       "      <td>0.0</td>\n",
       "      <td>0.0</td>\n",
       "      <td>21.33</td>\n",
       "    </tr>\n",
       "    <tr>\n",
       "      <th>2</th>\n",
       "      <td>0.98</td>\n",
       "      <td>514.5</td>\n",
       "      <td>294.0</td>\n",
       "      <td>110.25</td>\n",
       "      <td>7.0</td>\n",
       "      <td>4.0</td>\n",
       "      <td>0.0</td>\n",
       "      <td>0.0</td>\n",
       "      <td>21.33</td>\n",
       "    </tr>\n",
       "    <tr>\n",
       "      <th>3</th>\n",
       "      <td>0.98</td>\n",
       "      <td>514.5</td>\n",
       "      <td>294.0</td>\n",
       "      <td>110.25</td>\n",
       "      <td>7.0</td>\n",
       "      <td>5.0</td>\n",
       "      <td>0.0</td>\n",
       "      <td>0.0</td>\n",
       "      <td>21.33</td>\n",
       "    </tr>\n",
       "    <tr>\n",
       "      <th>4</th>\n",
       "      <td>0.90</td>\n",
       "      <td>563.5</td>\n",
       "      <td>318.5</td>\n",
       "      <td>122.50</td>\n",
       "      <td>7.0</td>\n",
       "      <td>2.0</td>\n",
       "      <td>0.0</td>\n",
       "      <td>0.0</td>\n",
       "      <td>28.28</td>\n",
       "    </tr>\n",
       "  </tbody>\n",
       "</table>\n",
       "</div>"
      ],
      "text/plain": [
       "     X1     X2     X3      X4   X5   X6   X7   X8  cooling_load\n",
       "0  0.98  514.5  294.0  110.25  7.0  2.0  0.0  0.0         21.33\n",
       "1  0.98  514.5  294.0  110.25  7.0  3.0  0.0  0.0         21.33\n",
       "2  0.98  514.5  294.0  110.25  7.0  4.0  0.0  0.0         21.33\n",
       "3  0.98  514.5  294.0  110.25  7.0  5.0  0.0  0.0         21.33\n",
       "4  0.90  563.5  318.5  122.50  7.0  2.0  0.0  0.0         28.28"
      ]
     },
     "execution_count": 3,
     "metadata": {},
     "output_type": "execute_result"
    }
   ],
   "source": [
    "df.rename({'Y2':'cooling_load'}, inplace = True, axis = 1)\n",
    "df.head()"
   ]
  },
  {
   "cell_type": "markdown",
   "metadata": {},
   "source": [
    "### Finding Na values by column "
   ]
  },
  {
   "cell_type": "markdown",
   "metadata": {},
   "source": [
    "When loading the data into python there seemed to be a problem of rows that had no values in any column at the end of the dataset. To remove them I just used the function dropna.  "
   ]
  },
  {
   "cell_type": "code",
   "execution_count": 4,
   "metadata": {},
   "outputs": [
    {
     "data": {
      "text/plain": [
       "X1              528\n",
       "X2              528\n",
       "X3              528\n",
       "X4              528\n",
       "X5              528\n",
       "X6              528\n",
       "X7              528\n",
       "X8              528\n",
       "cooling_load    528\n",
       "dtype: int64"
      ]
     },
     "execution_count": 4,
     "metadata": {},
     "output_type": "execute_result"
    }
   ],
   "source": [
    "df.isnull().sum()"
   ]
  },
  {
   "cell_type": "code",
   "execution_count": 5,
   "metadata": {},
   "outputs": [
    {
     "name": "stdout",
     "output_type": "stream",
     "text": [
      "(1296, 9)\n",
      "(768, 9)\n"
     ]
    },
    {
     "data": {
      "text/plain": [
       "X1              0\n",
       "X2              0\n",
       "X3              0\n",
       "X4              0\n",
       "X5              0\n",
       "X6              0\n",
       "X7              0\n",
       "X8              0\n",
       "cooling_load    0\n",
       "dtype: int64"
      ]
     },
     "execution_count": 5,
     "metadata": {},
     "output_type": "execute_result"
    }
   ],
   "source": [
    "df1 = df.dropna()\n",
    "print(df.shape)\n",
    "print(df1.shape)\n",
    "df1.isnull().sum()"
   ]
  },
  {
   "cell_type": "markdown",
   "metadata": {},
   "source": [
    "### Summary Statistics"
   ]
  },
  {
   "cell_type": "markdown",
   "metadata": {},
   "source": [
    "Summary statistics where created to gain an understanding of the dataset. When looking at the mean for each column, the magnitude of X2, X3, and X4 is much bigger than the other columns. Scaling will be needed.  A view of the skewness in the dataset was added to get an understanding of the distribution. X1 and X3 are the most positively skewed and X2 and X4 are slightly negatively skewed. Cooling load is also positively skewed. The rest are skewed a little or are not skewed at all. "
   ]
  },
  {
   "cell_type": "code",
   "execution_count": 6,
   "metadata": {},
   "outputs": [
    {
     "data": {
      "text/html": [
       "<div>\n",
       "<style scoped>\n",
       "    .dataframe tbody tr th:only-of-type {\n",
       "        vertical-align: middle;\n",
       "    }\n",
       "\n",
       "    .dataframe tbody tr th {\n",
       "        vertical-align: top;\n",
       "    }\n",
       "\n",
       "    .dataframe thead th {\n",
       "        text-align: right;\n",
       "    }\n",
       "</style>\n",
       "<table border=\"1\" class=\"dataframe\">\n",
       "  <thead>\n",
       "    <tr style=\"text-align: right;\">\n",
       "      <th></th>\n",
       "      <th>X1</th>\n",
       "      <th>X2</th>\n",
       "      <th>X3</th>\n",
       "      <th>X4</th>\n",
       "      <th>X5</th>\n",
       "      <th>X6</th>\n",
       "      <th>X7</th>\n",
       "      <th>X8</th>\n",
       "      <th>cooling_load</th>\n",
       "    </tr>\n",
       "  </thead>\n",
       "  <tbody>\n",
       "    <tr>\n",
       "      <th>count</th>\n",
       "      <td>768.000000</td>\n",
       "      <td>768.000000</td>\n",
       "      <td>768.000000</td>\n",
       "      <td>768.000000</td>\n",
       "      <td>768.00000</td>\n",
       "      <td>768.000000</td>\n",
       "      <td>768.000000</td>\n",
       "      <td>768.00000</td>\n",
       "      <td>768.000000</td>\n",
       "    </tr>\n",
       "    <tr>\n",
       "      <th>mean</th>\n",
       "      <td>0.764167</td>\n",
       "      <td>671.708333</td>\n",
       "      <td>318.500000</td>\n",
       "      <td>176.604167</td>\n",
       "      <td>5.25000</td>\n",
       "      <td>3.500000</td>\n",
       "      <td>0.234375</td>\n",
       "      <td>2.81250</td>\n",
       "      <td>24.587760</td>\n",
       "    </tr>\n",
       "    <tr>\n",
       "      <th>std</th>\n",
       "      <td>0.105777</td>\n",
       "      <td>88.086116</td>\n",
       "      <td>43.626481</td>\n",
       "      <td>45.165950</td>\n",
       "      <td>1.75114</td>\n",
       "      <td>1.118763</td>\n",
       "      <td>0.133221</td>\n",
       "      <td>1.55096</td>\n",
       "      <td>9.513306</td>\n",
       "    </tr>\n",
       "    <tr>\n",
       "      <th>min</th>\n",
       "      <td>0.620000</td>\n",
       "      <td>514.500000</td>\n",
       "      <td>245.000000</td>\n",
       "      <td>110.250000</td>\n",
       "      <td>3.50000</td>\n",
       "      <td>2.000000</td>\n",
       "      <td>0.000000</td>\n",
       "      <td>0.00000</td>\n",
       "      <td>10.900000</td>\n",
       "    </tr>\n",
       "    <tr>\n",
       "      <th>25%</th>\n",
       "      <td>0.682500</td>\n",
       "      <td>606.375000</td>\n",
       "      <td>294.000000</td>\n",
       "      <td>140.875000</td>\n",
       "      <td>3.50000</td>\n",
       "      <td>2.750000</td>\n",
       "      <td>0.100000</td>\n",
       "      <td>1.75000</td>\n",
       "      <td>15.620000</td>\n",
       "    </tr>\n",
       "    <tr>\n",
       "      <th>50%</th>\n",
       "      <td>0.750000</td>\n",
       "      <td>673.750000</td>\n",
       "      <td>318.500000</td>\n",
       "      <td>183.750000</td>\n",
       "      <td>5.25000</td>\n",
       "      <td>3.500000</td>\n",
       "      <td>0.250000</td>\n",
       "      <td>3.00000</td>\n",
       "      <td>22.080000</td>\n",
       "    </tr>\n",
       "    <tr>\n",
       "      <th>75%</th>\n",
       "      <td>0.830000</td>\n",
       "      <td>741.125000</td>\n",
       "      <td>343.000000</td>\n",
       "      <td>220.500000</td>\n",
       "      <td>7.00000</td>\n",
       "      <td>4.250000</td>\n",
       "      <td>0.400000</td>\n",
       "      <td>4.00000</td>\n",
       "      <td>33.132500</td>\n",
       "    </tr>\n",
       "    <tr>\n",
       "      <th>max</th>\n",
       "      <td>0.980000</td>\n",
       "      <td>808.500000</td>\n",
       "      <td>416.500000</td>\n",
       "      <td>220.500000</td>\n",
       "      <td>7.00000</td>\n",
       "      <td>5.000000</td>\n",
       "      <td>0.400000</td>\n",
       "      <td>5.00000</td>\n",
       "      <td>48.030000</td>\n",
       "    </tr>\n",
       "  </tbody>\n",
       "</table>\n",
       "</div>"
      ],
      "text/plain": [
       "               X1          X2          X3          X4         X5          X6  \\\n",
       "count  768.000000  768.000000  768.000000  768.000000  768.00000  768.000000   \n",
       "mean     0.764167  671.708333  318.500000  176.604167    5.25000    3.500000   \n",
       "std      0.105777   88.086116   43.626481   45.165950    1.75114    1.118763   \n",
       "min      0.620000  514.500000  245.000000  110.250000    3.50000    2.000000   \n",
       "25%      0.682500  606.375000  294.000000  140.875000    3.50000    2.750000   \n",
       "50%      0.750000  673.750000  318.500000  183.750000    5.25000    3.500000   \n",
       "75%      0.830000  741.125000  343.000000  220.500000    7.00000    4.250000   \n",
       "max      0.980000  808.500000  416.500000  220.500000    7.00000    5.000000   \n",
       "\n",
       "               X7         X8  cooling_load  \n",
       "count  768.000000  768.00000    768.000000  \n",
       "mean     0.234375    2.81250     24.587760  \n",
       "std      0.133221    1.55096      9.513306  \n",
       "min      0.000000    0.00000     10.900000  \n",
       "25%      0.100000    1.75000     15.620000  \n",
       "50%      0.250000    3.00000     22.080000  \n",
       "75%      0.400000    4.00000     33.132500  \n",
       "max      0.400000    5.00000     48.030000  "
      ]
     },
     "execution_count": 6,
     "metadata": {},
     "output_type": "execute_result"
    }
   ],
   "source": [
    "df1.describe()"
   ]
  },
  {
   "cell_type": "code",
   "execution_count": 7,
   "metadata": {},
   "outputs": [
    {
     "data": {
      "text/plain": [
       "X1              0.495513\n",
       "X2             -0.125131\n",
       "X3              0.533417\n",
       "X4             -0.162764\n",
       "X5              0.000000\n",
       "X6              0.000000\n",
       "X7             -0.060254\n",
       "X8             -0.088689\n",
       "cooling_load    0.395992\n",
       "dtype: float64"
      ]
     },
     "execution_count": 7,
     "metadata": {},
     "output_type": "execute_result"
    }
   ],
   "source": [
    "df1.skew()"
   ]
  },
  {
   "cell_type": "markdown",
   "metadata": {},
   "source": [
    "### Histograms "
   ]
  },
  {
   "cell_type": "markdown",
   "metadata": {},
   "source": [
    "A histogram was created for each of the columns in the dataset. There isn’t any normal distributed data in the dataset.  X5 and X6 have a uniform distribution which is why there skew is zero. The cooling load histogram shows a slight positive skew. X4 and X2 are negatively skewed which backs up the skew data from above. Same with X1 and X3 which had a skew that was positive and the histogram shows the same results. "
   ]
  },
  {
   "cell_type": "code",
   "execution_count": 8,
   "metadata": {},
   "outputs": [
    {
     "data": {
      "text/plain": [
       "array([[<matplotlib.axes._subplots.AxesSubplot object at 0x10f1eab38>,\n",
       "        <matplotlib.axes._subplots.AxesSubplot object at 0x10f22aba8>,\n",
       "        <matplotlib.axes._subplots.AxesSubplot object at 0x1077a4eb8>],\n",
       "       [<matplotlib.axes._subplots.AxesSubplot object at 0x10f25c9b0>,\n",
       "        <matplotlib.axes._subplots.AxesSubplot object at 0x10f285cc0>,\n",
       "        <matplotlib.axes._subplots.AxesSubplot object at 0x10f285cf8>],\n",
       "       [<matplotlib.axes._subplots.AxesSubplot object at 0x110773320>,\n",
       "        <matplotlib.axes._subplots.AxesSubplot object at 0x11079c630>,\n",
       "        <matplotlib.axes._subplots.AxesSubplot object at 0x1107c4940>]],\n",
       "      dtype=object)"
      ]
     },
     "execution_count": 8,
     "metadata": {},
     "output_type": "execute_result"
    },
    {
     "data": {
      "image/png": "[encoded data removed]",
      "text/plain": [
       "<Figure size 1080x1440 with 9 Axes>"
      ]
     },
     "metadata": {},
     "output_type": "display_data"
    }
   ],
   "source": [
    "fig = plt.figure(figsize = (15,20))\n",
    "ax = fig.gca()\n",
    "df1.hist(ax = ax,bins = 10)"
   ]
  },
  {
   "cell_type": "markdown",
   "metadata": {},
   "source": [
    "A Q-Q plot was added to check if cooling load the dependent variable had a normal distribution. Based on the results of the histogram and the Q-Q plot the data in cooling load doesn’t have a normal distribution."
   ]
  },
  {
   "cell_type": "code",
   "execution_count": 9,
   "metadata": {},
   "outputs": [
    {
     "data": {
      "image/png": "[encoded data removed]",
      "text/plain": [
       "<Figure size 720x576 with 1 Axes>"
      ]
     },
     "metadata": {},
     "output_type": "display_data"
    },
    {
     "data": {
      "image/png": "[encoded data removed]",
      "text/plain": [
       "<Figure size 432x288 with 1 Axes>"
      ]
     },
     "metadata": {},
     "output_type": "display_data"
    }
   ],
   "source": [
    "plt.figure(figsize=(10,8))\n",
    "plt.hist(x=df1['cooling_load'], bins = 10)\n",
    "plt.title('Cooling Load Histogram')\n",
    "plt.xlabel('Cooling Load')\n",
    "plt.ylabel('Count')\n",
    "\n",
    "\n",
    "sm.qqplot(df1['cooling_load'], line = 'q')\n",
    "plt.title('Cooling Load qqplot')\n",
    "pylab.show()\n"
   ]
  },
  {
   "cell_type": "markdown",
   "metadata": {},
   "source": [
    "### Correlation"
   ]
  },
  {
   "cell_type": "markdown",
   "metadata": {},
   "source": [
    "Correlation of all the variables was taken because all variables are numeric in this dataset. From viewing the correlation plot created there is highly correlated variables that are not correlated with the dependent variable cooling load. A table was created to see all correlated variables that have a correlation greater than 0.8. Some type of transformation is going to be needed on these highly correlated variables. "
   ]
  },
  {
   "cell_type": "code",
   "execution_count": 10,
   "metadata": {},
   "outputs": [
    {
     "data": {
      "text/plain": [
       "<matplotlib.axes._subplots.AxesSubplot at 0x1110c9320>"
      ]
     },
     "execution_count": 10,
     "metadata": {},
     "output_type": "execute_result"
    },
    {
     "data": {
      "image/png": "[encoded data removed]",
      "text/plain": [
       "<Figure size 1296x1296 with 2 Axes>"
      ]
     },
     "metadata": {},
     "output_type": "display_data"
    }
   ],
   "source": [
    "### Correlation plot\n",
    "cor = df1.corr()\n",
    "f,ax = plt.subplots(figsize = (18,18))\n",
    "plt.title(' Correlation Heatmap')\n",
    "sns.heatmap(cor, annot = True, linewidths = .5, fmt='.3f', ax = ax)"
   ]
  },
  {
   "cell_type": "code",
   "execution_count": 11,
   "metadata": {},
   "outputs": [
    {
     "name": "stdout",
     "output_type": "stream",
     "text": [
      "Correlation Greater Than 0.8\n"
     ]
    },
    {
     "data": {
      "text/plain": [
       "X1  X2              0.991901\n",
       "X4  X5              0.972512\n",
       "X5  cooling_load    0.895785\n",
       "X2  X4              0.880720\n",
       "X1  X4              0.868823\n",
       "X4  cooling_load    0.862547\n",
       "X2  X5              0.858148\n",
       "X1  X5              0.827747\n",
       "dtype: float64"
      ]
     },
     "execution_count": 11,
     "metadata": {},
     "output_type": "execute_result"
    }
   ],
   "source": [
    "def get_redundant_pairs(df):\n",
    "    pairs_to_drop = set()\n",
    "    cols = df.columns\n",
    "    for i in range(0, df.shape[1]):\n",
    "        for j in range(0, i+1):\n",
    "            pairs_to_drop.add((cols[i], cols[j]))\n",
    "    return pairs_to_drop\n",
    "\n",
    "def get_top_abs_correlations(df, n=5):\n",
    "    au_corr = df.corr().abs().unstack()\n",
    "    labels_to_drop = get_redundant_pairs(df)\n",
    "    au_corr = au_corr.drop(labels=labels_to_drop).sort_values(ascending=False)\n",
    "    return au_corr[0:n]\n",
    "print('Correlation Greater Than 0.8')\n",
    "get_top_abs_correlations(df1,8)"
   ]
  },
  {
   "cell_type": "markdown",
   "metadata": {},
   "source": [
    "### Scatterplot of Correlated variables greater than .8"
   ]
  },
  {
   "cell_type": "markdown",
   "metadata": {},
   "source": [
    "Scatter plots of the variables that had a correlation greater than 0.8 were created to view the relationships. All of the scatterplots show that all of the relationships match the correlation number from above. An observation from the scatterplots was that a lot of the points are on top of each other. "
   ]
  },
  {
   "cell_type": "code",
   "execution_count": 12,
   "metadata": {},
   "outputs": [
    {
     "data": {
      "text/plain": [
       "Text(0.5,1,'X1 vs. X2')"
      ]
     },
     "execution_count": 12,
     "metadata": {},
     "output_type": "execute_result"
    },
    {
     "data": {
      "text/plain": [
       "<Figure size 1440x576 with 0 Axes>"
      ]
     },
     "metadata": {},
     "output_type": "display_data"
    },
    {
     "data": {
      "image/png": "[encoded data removed]",
      "text/plain": [
       "<Figure size 360x360 with 1 Axes>"
      ]
     },
     "metadata": {},
     "output_type": "display_data"
    }
   ],
   "source": [
    "#### Scatterplot\n",
    "sns.set_style(\"darkgrid\")\n",
    "plt.figure(figsize=(20,8))\n",
    "sns.lmplot(x=\"X1\", y=\"X2\", data=df1,fit_reg=False)\n",
    "plt.title('X1 vs. X2')"
   ]
  },
  {
   "cell_type": "code",
   "execution_count": 13,
   "metadata": {},
   "outputs": [
    {
     "data": {
      "text/plain": [
       "Text(0.5,1,'X1 vs. X4')"
      ]
     },
     "execution_count": 13,
     "metadata": {},
     "output_type": "execute_result"
    },
    {
     "data": {
      "text/plain": [
       "<Figure size 1440x576 with 0 Axes>"
      ]
     },
     "metadata": {},
     "output_type": "display_data"
    },
    {
     "data": {
      "image/png": "[encoded data removed]",
      "text/plain": [
       "<Figure size 360x360 with 1 Axes>"
      ]
     },
     "metadata": {},
     "output_type": "display_data"
    }
   ],
   "source": [
    "#### Scatterplot\n",
    "sns.set_style(\"darkgrid\")\n",
    "plt.figure(figsize=(20,8))\n",
    "sns.lmplot(x=\"X1\", y=\"X4\", data=df1,fit_reg=False)\n",
    "plt.title('X1 vs. X4')"
   ]
  },
  {
   "cell_type": "code",
   "execution_count": 14,
   "metadata": {},
   "outputs": [
    {
     "data": {
      "text/plain": [
       "Text(0.5,1,'X1 vs. X5')"
      ]
     },
     "execution_count": 14,
     "metadata": {},
     "output_type": "execute_result"
    },
    {
     "data": {
      "text/plain": [
       "<Figure size 1440x576 with 0 Axes>"
      ]
     },
     "metadata": {},
     "output_type": "display_data"
    },
    {
     "data": {
      "image/png": "[encoded data removed]",
      "text/plain": [
       "<Figure size 360x360 with 1 Axes>"
      ]
     },
     "metadata": {},
     "output_type": "display_data"
    }
   ],
   "source": [
    "#### Scatterplot\n",
    "sns.set_style(\"darkgrid\")\n",
    "plt.figure(figsize=(20,8))\n",
    "sns.lmplot(x=\"X1\", y=\"X5\", data=df1,fit_reg=False)\n",
    "plt.title('X1 vs. X5')"
   ]
  },
  {
   "cell_type": "code",
   "execution_count": 15,
   "metadata": {},
   "outputs": [
    {
     "data": {
      "text/plain": [
       "Text(0.5,1,'X2 vs. X4')"
      ]
     },
     "execution_count": 15,
     "metadata": {},
     "output_type": "execute_result"
    },
    {
     "data": {
      "text/plain": [
       "<Figure size 1440x576 with 0 Axes>"
      ]
     },
     "metadata": {},
     "output_type": "display_data"
    },
    {
     "data": {
      "image/png": "[encoded data removed]",
      "text/plain": [
       "<Figure size 360x360 with 1 Axes>"
      ]
     },
     "metadata": {},
     "output_type": "display_data"
    }
   ],
   "source": [
    "#### Scatterplot\n",
    "sns.set_style(\"darkgrid\")\n",
    "plt.figure(figsize=(20,8))\n",
    "sns.lmplot(x=\"X2\", y=\"X4\", data=df1,fit_reg=False)\n",
    "plt.title('X2 vs. X4')"
   ]
  },
  {
   "cell_type": "code",
   "execution_count": 16,
   "metadata": {},
   "outputs": [
    {
     "data": {
      "text/plain": [
       "Text(0.5,1,'X2 vs. X5')"
      ]
     },
     "execution_count": 16,
     "metadata": {},
     "output_type": "execute_result"
    },
    {
     "data": {
      "text/plain": [
       "<Figure size 1440x576 with 0 Axes>"
      ]
     },
     "metadata": {},
     "output_type": "display_data"
    },
    {
     "data": {
      "image/png": "[encoded data removed]",
      "text/plain": [
       "<Figure size 360x360 with 1 Axes>"
      ]
     },
     "metadata": {},
     "output_type": "display_data"
    }
   ],
   "source": [
    "#### Scatterplot\n",
    "sns.set_style(\"darkgrid\")\n",
    "plt.figure(figsize=(20,8))\n",
    "sns.lmplot(x=\"X2\", y=\"X5\", data=df1,fit_reg=False)\n",
    "plt.title('X2 vs. X5')"
   ]
  },
  {
   "cell_type": "code",
   "execution_count": 17,
   "metadata": {},
   "outputs": [
    {
     "data": {
      "text/plain": [
       "Text(0.5,1,'X4 vs. X5')"
      ]
     },
     "execution_count": 17,
     "metadata": {},
     "output_type": "execute_result"
    },
    {
     "data": {
      "text/plain": [
       "<Figure size 1440x576 with 0 Axes>"
      ]
     },
     "metadata": {},
     "output_type": "display_data"
    },
    {
     "data": {
      "image/png": "[encoded data removed]",
      "text/plain": [
       "<Figure size 360x360 with 1 Axes>"
      ]
     },
     "metadata": {},
     "output_type": "display_data"
    }
   ],
   "source": [
    "#### Scatterplot\n",
    "sns.set_style(\"darkgrid\")\n",
    "plt.figure(figsize=(20,8))\n",
    "sns.lmplot(x=\"X4\", y=\"X5\", data=df1,fit_reg=False)\n",
    "plt.title('X4 vs. X5')"
   ]
  },
  {
   "cell_type": "markdown",
   "metadata": {},
   "source": [
    "## Regressoion Models"
   ]
  },
  {
   "cell_type": "markdown",
   "metadata": {},
   "source": [
    "### PCA Linear Regression"
   ]
  },
  {
   "cell_type": "markdown",
   "metadata": {},
   "source": [
    "Since more than two variables had a high correlation between each other PCA was used. The results from predicting with the test and train data show that the model isn’t over fit to the training data. Also, R squared and adjusted R squared are in the .80 to .90 range, which shows that the model explains a majority of the variation in cool loading.  The mean absolute error from the test data of 2.73 isn’t that bad but the goal will be to get the mean absolute error lower. "
   ]
  },
  {
   "cell_type": "code",
   "execution_count": 18,
   "metadata": {},
   "outputs": [
    {
     "data": {
      "text/plain": [
       "LinearRegression(copy_X=True, fit_intercept=True, n_jobs=1, normalize=False)"
      ]
     },
     "execution_count": 18,
     "metadata": {},
     "output_type": "execute_result"
    }
   ],
   "source": [
    "#### Spliting, Scaling, and PCA on Data\n",
    "X = df1.drop('cooling_load', axis =1 ) \n",
    "y = df1[['cooling_load']]\n",
    "\n",
    "X_train, X_test, y_train, y_test = train_test_split(X, y, test_size = 0.2, random_state = 0)\n",
    "sc1 = MinMaxScaler()\n",
    "X_train = sc1.fit_transform(X_train)\n",
    "X_test = sc1.transform(X_test)\n",
    "X_train.shape, X_test.shape\n",
    "\n",
    "pca = PCA(.95)\n",
    "X_train_pca = pca.fit_transform(X_train)\n",
    "X_test_pca = pca.transform(X_test)\n",
    "\n",
    "lin = LinearRegression()\n",
    "lin.fit(X_train_pca, y_train)"
   ]
  },
  {
   "cell_type": "markdown",
   "metadata": {},
   "source": [
    "#### Created an Adjusted R Squared Function"
   ]
  },
  {
   "cell_type": "code",
   "execution_count": 19,
   "metadata": {},
   "outputs": [],
   "source": [
    "def adjusted_r_squared(x,y):\n",
    "    r_squared= r2_score(x, y)\n",
    "    adj_2 = 1 - (1-r_squared)*(len(x)-1)/(len(x)-y.shape[1]-1)\n",
    "    return(adj_2)\n",
    "    "
   ]
  },
  {
   "cell_type": "code",
   "execution_count": 20,
   "metadata": {},
   "outputs": [
    {
     "data": {
      "text/html": [
       "<div>\n",
       "<style scoped>\n",
       "    .dataframe tbody tr th:only-of-type {\n",
       "        vertical-align: middle;\n",
       "    }\n",
       "\n",
       "    .dataframe tbody tr th {\n",
       "        vertical-align: top;\n",
       "    }\n",
       "\n",
       "    .dataframe thead th {\n",
       "        text-align: right;\n",
       "    }\n",
       "</style>\n",
       "<table border=\"1\" class=\"dataframe\">\n",
       "  <thead>\n",
       "    <tr style=\"text-align: right;\">\n",
       "      <th></th>\n",
       "      <th>R squared</th>\n",
       "      <th>Adjusted R squared</th>\n",
       "      <th>MSE</th>\n",
       "      <th>RMSE</th>\n",
       "      <th>MAE</th>\n",
       "    </tr>\n",
       "  </thead>\n",
       "  <tbody>\n",
       "    <tr>\n",
       "      <th>0</th>\n",
       "      <td>0.866003</td>\n",
       "      <td>0.865784</td>\n",
       "      <td>11.984781</td>\n",
       "      <td>3.461904</td>\n",
       "      <td>2.513822</td>\n",
       "    </tr>\n",
       "  </tbody>\n",
       "</table>\n",
       "</div>"
      ],
      "text/plain": [
       "   R squared  Adjusted R squared        MSE      RMSE       MAE\n",
       "0   0.866003            0.865784  11.984781  3.461904  2.513822"
      ]
     },
     "execution_count": 20,
     "metadata": {},
     "output_type": "execute_result"
    }
   ],
   "source": [
    "#### Predictions on Train Set\n",
    "train_pred = lin.predict(X_train_pca)\n",
    "R2 = pd.DataFrame([r2_score(y_train, train_pred)], columns=['R squared'])\n",
    "adj_1 = pd.DataFrame([adjusted_r_squared(y_train, train_pred)], columns=['Adjusted R squared'])\n",
    "mse1 =  pd.DataFrame([mean_squared_error(y_train, train_pred)], columns=['MSE'])\n",
    "rmse1 =  pd.DataFrame([np.sqrt(mean_squared_error(y_train, train_pred))], columns=['RMSE'])\n",
    "mae1 = pd.DataFrame([mean_absolute_error(y_train, train_pred)], columns=['MAE'])\n",
    "train_PCA = pd.concat([R2, adj_1, mse1, rmse1, mae1], axis = 1)\n",
    "train_PCA"
   ]
  },
  {
   "cell_type": "code",
   "execution_count": 21,
   "metadata": {},
   "outputs": [
    {
     "data": {
      "text/html": [
       "<div>\n",
       "<style scoped>\n",
       "    .dataframe tbody tr th:only-of-type {\n",
       "        vertical-align: middle;\n",
       "    }\n",
       "\n",
       "    .dataframe tbody tr th {\n",
       "        vertical-align: top;\n",
       "    }\n",
       "\n",
       "    .dataframe thead th {\n",
       "        text-align: right;\n",
       "    }\n",
       "</style>\n",
       "<table border=\"1\" class=\"dataframe\">\n",
       "  <thead>\n",
       "    <tr style=\"text-align: right;\">\n",
       "      <th></th>\n",
       "      <th>R squared</th>\n",
       "      <th>Adjusted R squared</th>\n",
       "      <th>MSE</th>\n",
       "      <th>RMSE</th>\n",
       "      <th>MAE</th>\n",
       "    </tr>\n",
       "  </thead>\n",
       "  <tbody>\n",
       "    <tr>\n",
       "      <th>0</th>\n",
       "      <td>0.85031</td>\n",
       "      <td>0.849325</td>\n",
       "      <td>14.079197</td>\n",
       "      <td>3.752226</td>\n",
       "      <td>2.72934</td>\n",
       "    </tr>\n",
       "  </tbody>\n",
       "</table>\n",
       "</div>"
      ],
      "text/plain": [
       "   R squared  Adjusted R squared        MSE      RMSE      MAE\n",
       "0    0.85031            0.849325  14.079197  3.752226  2.72934"
      ]
     },
     "execution_count": 21,
     "metadata": {},
     "output_type": "execute_result"
    }
   ],
   "source": [
    "#### Predictions on Test Set\n",
    "y_pred = lin.predict(X_test_pca)\n",
    "R2 = pd.DataFrame([r2_score(y_test, y_pred)], columns=['R squared'])\n",
    "adj_1 = pd.DataFrame([adjusted_r_squared(y_test, y_pred)], columns=['Adjusted R squared'])\n",
    "mse1 =  pd.DataFrame([mean_squared_error(y_test, y_pred)], columns=['MSE'])\n",
    "rmse1 =  pd.DataFrame([np.sqrt(mean_squared_error(y_test, y_pred))], columns=['RMSE'])\n",
    "mae1 = pd.DataFrame([mean_absolute_error(y_test, y_pred)], columns=['MAE'])\n",
    "test_PCA = pd.concat([R2, adj_1, mse1, rmse1, mae1], axis = 1)\n",
    "test_PCA"
   ]
  },
  {
   "cell_type": "markdown",
   "metadata": {},
   "source": [
    "### Four Assumptions About Residuals"
   ]
  },
  {
   "cell_type": "markdown",
   "metadata": {},
   "source": [
    "- **Zero Mean Assumption:** The mean of the residuals for this model is -0.14, which is pretty good but the goal is to be closer to zero.  \n",
    "- **Constant Variance Assumption:** In this model the constant variance assumption is violated because of the funnel shape of the Residual Plot. The goal is to have no noticeable patterns. \n",
    "- **Normality Assumption:** In this linear model the residuals are not in a normal distribution which violates the normality assumption. The Q-Q plot is evidence of this violation. The blue points are to be right on the red line if the data is normally distributed. Also, the AD test states that the data is not normally distributed because the statistic value that is given from the residuals is not below the critical values. The lower the statistic the better. \n",
    "- **Independence Assumption:** The Durbin Watson test gives a number between 0 and 4. The goal is to be between 1.5 and 2.5. If it is more or less than this range than there is auto-correlation. The value of 2.06 shows no auto-correlation. "
   ]
  },
  {
   "cell_type": "code",
   "execution_count": 22,
   "metadata": {},
   "outputs": [
    {
     "data": {
      "image/png": "[encoded data removed]",
      "text/plain": [
       "<Figure size 432x288 with 1 Axes>"
      ]
     },
     "metadata": {},
     "output_type": "display_data"
    },
    {
     "name": "stdout",
     "output_type": "stream",
     "text": [
      "AD Test\n",
      "statistic:  2.8197576321556426\n",
      "critical_values:  [0.562 0.64  0.768 0.896 1.065]\n",
      "significance_level:  [15.  10.   5.   2.5  1. ]\n",
      "--------------------------------------------------------------------------------\n",
      "Residual Mean:  -0.14477214124830637\n",
      "--------------------------------------------------------------------------------\n",
      "Durbin Watson: [2.0607965]\n"
     ]
    },
    {
     "data": {
      "image/png": "[encoded data removed]",
      "text/plain": [
       "<Figure size 432x288 with 1 Axes>"
      ]
     },
     "metadata": {},
     "output_type": "display_data"
    }
   ],
   "source": [
    "residual_0 = y_test - y_pred\n",
    "res_0 = np.array(residual_0)\n",
    "scored_res = residual_0.apply(zscore)\n",
    "sort_res = scored_res.sort_values(['cooling_load'])\n",
    "\n",
    "## normality assumption\n",
    "sm.qqplot(sort_res , line = 'q')\n",
    "plt.title('Residual qqplot')\n",
    "plt.ylabel('Standardized Residuals')\n",
    "pylab.show()\n",
    "res = np.array(residual_0)\n",
    "ad = sp.stats.anderson(res_0.ravel(), dist = 'norm')\n",
    "\n",
    "print('AD Test')\n",
    "print('statistic: ', ad.statistic)\n",
    "print('critical_values: ', ad.critical_values)\n",
    "print('significance_level: ', ad.significance_level)\n",
    "print('--'*40)\n",
    "#### Zero-Mean Assumption, Constant Variance Assumption\n",
    "sns.residplot(y_pred, res_0)\n",
    "plt.title('Residual plot')\n",
    "plt.xlabel('Predicted values')\n",
    "plt.ylabel('Standardized Residuals')\n",
    "print('Residual Mean: ', res_0.mean())\n",
    "print('--'*40) \n",
    "#### Independence Assumption\n",
    "print('Durbin Watson:', durbin_watson(residual_0, axis = 0))"
   ]
  },
  {
   "cell_type": "markdown",
   "metadata": {},
   "source": [
    "### Boxcox transformation on Cooling Load Linear Regression"
   ]
  },
  {
   "cell_type": "markdown",
   "metadata": {},
   "source": [
    "Since the dependent variable in the case is slightly positively skewed a boxcox transformation was completed. Also, PCA was used again. The results from predicting with the test and train data show that the model isn’t over fit to the training data. Also, R squared and adjusted R squared are in the .88 to .90 range, which shows that the model explains a lot of the variation in cooling load.  The mean absolute error from the test data of 0.07 is great. When performing the transformation on the data the magnitude of the cooling load is smaller which could be a cause for the small MAE.  Looking in to the four assumptions of a linear model show that the model didn’t change very much from the first model. "
   ]
  },
  {
   "cell_type": "code",
   "execution_count": 23,
   "metadata": {},
   "outputs": [
    {
     "data": {
      "text/html": [
       "<div>\n",
       "<style scoped>\n",
       "    .dataframe tbody tr th:only-of-type {\n",
       "        vertical-align: middle;\n",
       "    }\n",
       "\n",
       "    .dataframe tbody tr th {\n",
       "        vertical-align: top;\n",
       "    }\n",
       "\n",
       "    .dataframe thead th {\n",
       "        text-align: right;\n",
       "    }\n",
       "</style>\n",
       "<table border=\"1\" class=\"dataframe\">\n",
       "  <thead>\n",
       "    <tr style=\"text-align: right;\">\n",
       "      <th></th>\n",
       "      <th>X1</th>\n",
       "      <th>X2</th>\n",
       "      <th>X3</th>\n",
       "      <th>X4</th>\n",
       "      <th>X5</th>\n",
       "      <th>X6</th>\n",
       "      <th>X7</th>\n",
       "      <th>X8</th>\n",
       "      <th>cooling_load</th>\n",
       "      <th>y_boxcox</th>\n",
       "    </tr>\n",
       "  </thead>\n",
       "  <tbody>\n",
       "    <tr>\n",
       "      <th>0</th>\n",
       "      <td>0.98</td>\n",
       "      <td>514.5</td>\n",
       "      <td>294.0</td>\n",
       "      <td>110.25</td>\n",
       "      <td>7.0</td>\n",
       "      <td>2.0</td>\n",
       "      <td>0.0</td>\n",
       "      <td>0.0</td>\n",
       "      <td>21.33</td>\n",
       "      <td>2.602171</td>\n",
       "    </tr>\n",
       "    <tr>\n",
       "      <th>1</th>\n",
       "      <td>0.98</td>\n",
       "      <td>514.5</td>\n",
       "      <td>294.0</td>\n",
       "      <td>110.25</td>\n",
       "      <td>7.0</td>\n",
       "      <td>3.0</td>\n",
       "      <td>0.0</td>\n",
       "      <td>0.0</td>\n",
       "      <td>21.33</td>\n",
       "      <td>2.602171</td>\n",
       "    </tr>\n",
       "    <tr>\n",
       "      <th>2</th>\n",
       "      <td>0.98</td>\n",
       "      <td>514.5</td>\n",
       "      <td>294.0</td>\n",
       "      <td>110.25</td>\n",
       "      <td>7.0</td>\n",
       "      <td>4.0</td>\n",
       "      <td>0.0</td>\n",
       "      <td>0.0</td>\n",
       "      <td>21.33</td>\n",
       "      <td>2.602171</td>\n",
       "    </tr>\n",
       "    <tr>\n",
       "      <th>3</th>\n",
       "      <td>0.98</td>\n",
       "      <td>514.5</td>\n",
       "      <td>294.0</td>\n",
       "      <td>110.25</td>\n",
       "      <td>7.0</td>\n",
       "      <td>5.0</td>\n",
       "      <td>0.0</td>\n",
       "      <td>0.0</td>\n",
       "      <td>21.33</td>\n",
       "      <td>2.602171</td>\n",
       "    </tr>\n",
       "    <tr>\n",
       "      <th>4</th>\n",
       "      <td>0.90</td>\n",
       "      <td>563.5</td>\n",
       "      <td>318.5</td>\n",
       "      <td>122.50</td>\n",
       "      <td>7.0</td>\n",
       "      <td>2.0</td>\n",
       "      <td>0.0</td>\n",
       "      <td>0.0</td>\n",
       "      <td>28.28</td>\n",
       "      <td>2.801161</td>\n",
       "    </tr>\n",
       "  </tbody>\n",
       "</table>\n",
       "</div>"
      ],
      "text/plain": [
       "     X1     X2     X3      X4   X5   X6   X7   X8  cooling_load  y_boxcox\n",
       "0  0.98  514.5  294.0  110.25  7.0  2.0  0.0  0.0         21.33  2.602171\n",
       "1  0.98  514.5  294.0  110.25  7.0  3.0  0.0  0.0         21.33  2.602171\n",
       "2  0.98  514.5  294.0  110.25  7.0  4.0  0.0  0.0         21.33  2.602171\n",
       "3  0.98  514.5  294.0  110.25  7.0  5.0  0.0  0.0         21.33  2.602171\n",
       "4  0.90  563.5  318.5  122.50  7.0  2.0  0.0  0.0         28.28  2.801161"
      ]
     },
     "execution_count": 23,
     "metadata": {},
     "output_type": "execute_result"
    }
   ],
   "source": [
    "#### Boxcox transformation\n",
    "y_box1, lmbd = boxcox(df1['cooling_load'])\n",
    "y_box = pd.DataFrame(y_box1 ,columns=['y_boxcox'])\n",
    "df2 = pd.concat([df1, y_box], axis = 1)\n",
    "df2.head()"
   ]
  },
  {
   "cell_type": "markdown",
   "metadata": {},
   "source": [
    "Comparing Skew from transformation with non-transformation. The skew of the data is now much closer to zero"
   ]
  },
  {
   "cell_type": "code",
   "execution_count": 24,
   "metadata": {},
   "outputs": [
    {
     "name": "stdout",
     "output_type": "stream",
     "text": [
      "Raw Skew for Cooling Load:  0.39599246696276713\n",
      "Boxcox Skew:  0.020855720693397327\n"
     ]
    },
    {
     "data": {
      "text/plain": [
       "Text(0,0.5,'Count')"
      ]
     },
     "execution_count": 24,
     "metadata": {},
     "output_type": "execute_result"
    },
    {
     "data": {
      "image/png": "[encoded data removed]",
      "text/plain": [
       "<Figure size 720x576 with 1 Axes>"
      ]
     },
     "metadata": {},
     "output_type": "display_data"
    }
   ],
   "source": [
    "print('Raw Skew for Cooling Load: ',df['cooling_load'].skew())\n",
    "print('Boxcox Skew: ',y_box['y_boxcox'].skew())\n",
    "plt.figure(figsize=(10,8))\n",
    "plt.hist(x=y_box1, bins = 30)\n",
    "plt.title('Boxcox Cooling Load Histogram')\n",
    "plt.xlabel('Boxcox Cooling Load')\n",
    "plt.ylabel('Count')"
   ]
  },
  {
   "cell_type": "code",
   "execution_count": 25,
   "metadata": {},
   "outputs": [
    {
     "data": {
      "text/plain": [
       "LinearRegression(copy_X=True, fit_intercept=True, n_jobs=1, normalize=False)"
      ]
     },
     "execution_count": 25,
     "metadata": {},
     "output_type": "execute_result"
    }
   ],
   "source": [
    "#### Spliting, Scaling, and PCA on Data\n",
    "df3 = df2.copy()\n",
    "df3.drop('cooling_load', inplace = True, axis = 1)\n",
    "X = df3.drop('y_boxcox', axis =1 ) \n",
    "y = df3[['y_boxcox']]\n",
    "\n",
    "X_train, X_test, y_train, y_test = train_test_split(X, y, test_size = 0.2, random_state = 0)\n",
    "sc1 = MinMaxScaler()\n",
    "X_train = sc1.fit_transform(X_train)\n",
    "X_test = sc1.transform(X_test)\n",
    "X_train.shape, X_test.shape\n",
    "\n",
    "pca = PCA(.95)\n",
    "X_train_pca_2 = pca.fit_transform(X_train)\n",
    "X_test_pca_2 = pca.transform(X_test)\n",
    "\n",
    "lin2 = LinearRegression()\n",
    "lin2.fit(X_train_pca_2, y_train)"
   ]
  },
  {
   "cell_type": "code",
   "execution_count": 26,
   "metadata": {},
   "outputs": [
    {
     "data": {
      "text/html": [
       "<div>\n",
       "<style scoped>\n",
       "    .dataframe tbody tr th:only-of-type {\n",
       "        vertical-align: middle;\n",
       "    }\n",
       "\n",
       "    .dataframe tbody tr th {\n",
       "        vertical-align: top;\n",
       "    }\n",
       "\n",
       "    .dataframe thead th {\n",
       "        text-align: right;\n",
       "    }\n",
       "</style>\n",
       "<table border=\"1\" class=\"dataframe\">\n",
       "  <thead>\n",
       "    <tr style=\"text-align: right;\">\n",
       "      <th></th>\n",
       "      <th>R squared</th>\n",
       "      <th>Adjusted R squared</th>\n",
       "      <th>MSE</th>\n",
       "      <th>RMSE</th>\n",
       "      <th>MAE</th>\n",
       "    </tr>\n",
       "  </thead>\n",
       "  <tbody>\n",
       "    <tr>\n",
       "      <th>0</th>\n",
       "      <td>0.90447</td>\n",
       "      <td>0.904314</td>\n",
       "      <td>0.007345</td>\n",
       "      <td>0.085704</td>\n",
       "      <td>0.065905</td>\n",
       "    </tr>\n",
       "  </tbody>\n",
       "</table>\n",
       "</div>"
      ],
      "text/plain": [
       "   R squared  Adjusted R squared       MSE      RMSE       MAE\n",
       "0    0.90447            0.904314  0.007345  0.085704  0.065905"
      ]
     },
     "execution_count": 26,
     "metadata": {},
     "output_type": "execute_result"
    }
   ],
   "source": [
    "#### Predictions on Train Set\n",
    "train_pred_2 = lin2.predict(X_train_pca_2)\n",
    "R2 = pd.DataFrame([r2_score(y_train, train_pred_2)], columns=['R squared'])\n",
    "adj_1 = pd.DataFrame([adjusted_r_squared(y_train, train_pred_2)], columns=['Adjusted R squared'])\n",
    "mse1 =  pd.DataFrame([mean_squared_error(y_train, train_pred_2)], columns=['MSE'])\n",
    "rmse1 =  pd.DataFrame([np.sqrt(mean_squared_error(y_train, train_pred_2))], columns=['RMSE'])\n",
    "mae1 = pd.DataFrame([mean_absolute_error(y_train, train_pred_2)], columns=['MAE'])\n",
    "train_PCA_box = pd.concat([R2, adj_1, mse1, rmse1, mae1], axis = 1)\n",
    "train_PCA_box"
   ]
  },
  {
   "cell_type": "code",
   "execution_count": 27,
   "metadata": {},
   "outputs": [
    {
     "data": {
      "text/html": [
       "<div>\n",
       "<style scoped>\n",
       "    .dataframe tbody tr th:only-of-type {\n",
       "        vertical-align: middle;\n",
       "    }\n",
       "\n",
       "    .dataframe tbody tr th {\n",
       "        vertical-align: top;\n",
       "    }\n",
       "\n",
       "    .dataframe thead th {\n",
       "        text-align: right;\n",
       "    }\n",
       "</style>\n",
       "<table border=\"1\" class=\"dataframe\">\n",
       "  <thead>\n",
       "    <tr style=\"text-align: right;\">\n",
       "      <th></th>\n",
       "      <th>R squared</th>\n",
       "      <th>Adjusted R squared</th>\n",
       "      <th>MSE</th>\n",
       "      <th>RMSE</th>\n",
       "      <th>MAE</th>\n",
       "    </tr>\n",
       "  </thead>\n",
       "  <tbody>\n",
       "    <tr>\n",
       "      <th>0</th>\n",
       "      <td>0.900562</td>\n",
       "      <td>0.899908</td>\n",
       "      <td>0.008116</td>\n",
       "      <td>0.090089</td>\n",
       "      <td>0.070447</td>\n",
       "    </tr>\n",
       "  </tbody>\n",
       "</table>\n",
       "</div>"
      ],
      "text/plain": [
       "   R squared  Adjusted R squared       MSE      RMSE       MAE\n",
       "0   0.900562            0.899908  0.008116  0.090089  0.070447"
      ]
     },
     "execution_count": 27,
     "metadata": {},
     "output_type": "execute_result"
    }
   ],
   "source": [
    "#### Predictions on Test Set\n",
    "y_pred_2 = lin2.predict(X_test_pca_2)\n",
    "R2 = pd.DataFrame([r2_score(y_test, y_pred_2)], columns=['R squared'])\n",
    "adj_1 = pd.DataFrame([adjusted_r_squared(y_test, y_pred_2)], columns=['Adjusted R squared'])\n",
    "mse1 =  pd.DataFrame([mean_squared_error(y_test, y_pred_2)], columns=['MSE'])\n",
    "rmse1 =  pd.DataFrame([np.sqrt(mean_squared_error(y_test, y_pred_2))], columns=['RMSE'])\n",
    "mae1 = pd.DataFrame([mean_absolute_error(y_test, y_pred_2)], columns=['MAE'])\n",
    "test_PCA_box = pd.concat([R2, adj_1, mse1, rmse1, mae1], axis = 1)\n",
    "test_PCA_box"
   ]
  },
  {
   "cell_type": "markdown",
   "metadata": {},
   "source": [
    "### Four Assumptions About Residuals"
   ]
  },
  {
   "cell_type": "markdown",
   "metadata": {},
   "source": [
    "- **Zero Mean Assumption**: The mean of the residuals for this model is -0.007. This low mean could be from the transformation on the dependent variable\n",
    "\n",
    "- **Constant Variance Assumption:** In this model the constant variance assumption is violated because of the funnel shape of the Residual Plot. Goal is to have no noticeable patterns. \n",
    "\n",
    "- **Normality Assumption:** In this linear model the residuals are not in a normal distribution which violates the normality assumption. The Q-Q plot is evidence of this violation. The blue points are to be right on the red line if the data is normally distributed. Also, the AD test shows a value of 2.30 which is much larger than the critical values \n",
    "\n",
    "- **Independence Assumption:**  The value of 2.15 shows no auto-correlation. \n"
   ]
  },
  {
   "cell_type": "code",
   "execution_count": 28,
   "metadata": {},
   "outputs": [
    {
     "data": {
      "image/png": "[encoded data removed]",
      "text/plain": [
       "<Figure size 432x288 with 1 Axes>"
      ]
     },
     "metadata": {},
     "output_type": "display_data"
    },
    {
     "name": "stdout",
     "output_type": "stream",
     "text": [
      "AD Test\n",
      "statistic:  2.3036542251074366\n",
      "critical_values:  [0.562 0.64  0.768 0.896 1.065]\n",
      "significance_level:  [15.  10.   5.   2.5  1. ]\n",
      "--------------------------------------------------------------------------------\n",
      "Residual Mean:  -0.007972083774301308\n",
      "--------------------------------------------------------------------------------\n",
      "Durbin Watson: [2.15729366]\n"
     ]
    },
    {
     "data": {
      "image/png": "[encoded data removed]",
      "text/plain": [
       "<Figure size 432x288 with 1 Axes>"
      ]
     },
     "metadata": {},
     "output_type": "display_data"
    }
   ],
   "source": [
    "residual_1 = y_test - y_pred_2\n",
    "res_1 = np.array(residual_1)\n",
    "scored_res_1 = residual_1.apply(zscore)\n",
    "sort_res_1 = scored_res_1.sort_values(['y_boxcox'])\n",
    "\n",
    "## normality assumption\n",
    "sm.qqplot(sort_res_1,line ='45')\n",
    "plt.ylabel('Standardized Residuals')\n",
    "plt.title('Residual qqplot')\n",
    "pylab.show()\n",
    "res = np.array(residual_1)\n",
    "ad = sp.stats.anderson(res_1.ravel(), dist = 'norm')\n",
    "print('AD Test')\n",
    "print('statistic: ', ad.statistic)\n",
    "print('critical_values: ', ad.critical_values)\n",
    "print('significance_level: ', ad.significance_level)\n",
    "print('--'*40)\n",
    "#### Zero-Mean Assumption, Constant Variance Assumption\n",
    "sns.residplot(y_pred, scored_res_1)\n",
    "plt.title('Residual plot')\n",
    "plt.xlabel('Predicted values')\n",
    "plt.ylabel('Standardized Residuals')\n",
    "print('Residual Mean: ', res_1.mean())\n",
    "print('--'*40)\n",
    "#### Independence Assumption\n",
    "print('Durbin Watson:', durbin_watson(residual_1, axis = 0))"
   ]
  },
  {
   "cell_type": "markdown",
   "metadata": {},
   "source": [
    "#### Ridge Regression"
   ]
  },
  {
   "cell_type": "markdown",
   "metadata": {},
   "source": [
    "In this model Ridge regression was used. A for loop was created to loop through different alpha’s in the model. The model with the highest R squared was selected, which was an alpha of 1. The R squared and adjusted R squared for the test data has a range of .80 to .90 , which shows that the model explains a lot of the variation in cooling load.  The mean absolute error from the test data of 2.322, which isn’t the best but is better than the model with only PCA. Also, the R squared from the test and train are close. This shows that the model is not over fit to the training data. "
   ]
  },
  {
   "cell_type": "code",
   "execution_count": 29,
   "metadata": {},
   "outputs": [],
   "source": [
    "### Split and Scaling of data\n",
    "from sklearn.linear_model import Ridge\n",
    "\n",
    "X = df1.drop('cooling_load', axis =1 ) \n",
    "y = df1[['cooling_load']]\n",
    "\n",
    "X_train, X_test, y_train, y_test = train_test_split(X, y, test_size = 0.2, random_state = 0)\n",
    "sc1 = MinMaxScaler()\n",
    "X_train_scaled = sc1.fit_transform(X_train)\n",
    "X_test_scaled = sc1.transform(X_test)"
   ]
  },
  {
   "cell_type": "code",
   "execution_count": 30,
   "metadata": {},
   "outputs": [
    {
     "name": "stdout",
     "output_type": "stream",
     "text": [
      "Alpha = 0.00\n",
      "num abs(coeff) > 1.0: 6, r-squared training: 0.89\n",
      "Alpha = 1.00\n",
      "num abs(coeff) > 1.0: 6, r-squared training: 0.89\n",
      "Alpha = 10.00\n",
      "num abs(coeff) > 1.0: 5, r-squared training: 0.87\n",
      "Alpha = 20.00\n",
      "num abs(coeff) > 1.0: 5, r-squared training: 0.86\n",
      "Alpha = 50.00\n",
      "num abs(coeff) > 1.0: 5, r-squared training: 0.83\n",
      "Alpha = 100.00\n",
      "num abs(coeff) > 1.0: 6, r-squared training: 0.78\n",
      "Alpha = 1000.00\n",
      "num abs(coeff) > 1.0: 2, r-squared training: 0.34\n"
     ]
    }
   ],
   "source": [
    "### For loop for best alpha\n",
    "for this_alpha in [0, 1, 10, 20, 50, 100, 1000]:\n",
    "    model_rid = Ridge(alpha = this_alpha).fit(X_train_scaled, y_train)\n",
    "    r2_train = model_rid.score(X_train_scaled, y_train)\n",
    "    num_coeff_bigger = np.sum(abs(model_rid.coef_) > 1.0)\n",
    "    print('Alpha = {:.2f}\\nnum abs(coeff) > 1.0: {}, \\\n",
    "r-squared training: {:.2f}'\n",
    "         .format(this_alpha, num_coeff_bigger, r2_train))"
   ]
  },
  {
   "cell_type": "code",
   "execution_count": 31,
   "metadata": {},
   "outputs": [
    {
     "data": {
      "text/plain": [
       "(array([17.72626808]),\n",
       " array([[-8.42983196, -1.26806043,  3.08997557, -4.09406157, 16.617924  ,\n",
       "          0.43367769,  5.95159925,  0.12172997]]))"
      ]
     },
     "execution_count": 31,
     "metadata": {},
     "output_type": "execute_result"
    }
   ],
   "source": [
    "#### intercept and coefficient\n",
    "model_rid = Ridge(alpha = 1)\n",
    "model_rid.fit(X_train_scaled, y_train)\n",
    "rigt0, rigt1 = model_rid.intercept_, model_rid.coef_\n",
    "rigt0, rigt1"
   ]
  },
  {
   "cell_type": "code",
   "execution_count": 32,
   "metadata": {},
   "outputs": [
    {
     "data": {
      "text/html": [
       "<div>\n",
       "<style scoped>\n",
       "    .dataframe tbody tr th:only-of-type {\n",
       "        vertical-align: middle;\n",
       "    }\n",
       "\n",
       "    .dataframe tbody tr th {\n",
       "        vertical-align: top;\n",
       "    }\n",
       "\n",
       "    .dataframe thead th {\n",
       "        text-align: right;\n",
       "    }\n",
       "</style>\n",
       "<table border=\"1\" class=\"dataframe\">\n",
       "  <thead>\n",
       "    <tr style=\"text-align: right;\">\n",
       "      <th></th>\n",
       "      <th>R squared</th>\n",
       "      <th>Adjusted R squared</th>\n",
       "      <th>MSE</th>\n",
       "      <th>RMSE</th>\n",
       "      <th>MAE</th>\n",
       "    </tr>\n",
       "  </thead>\n",
       "  <tbody>\n",
       "    <tr>\n",
       "      <th>0</th>\n",
       "      <td>0.885749</td>\n",
       "      <td>0.885562</td>\n",
       "      <td>10.21864</td>\n",
       "      <td>3.196661</td>\n",
       "      <td>2.283485</td>\n",
       "    </tr>\n",
       "  </tbody>\n",
       "</table>\n",
       "</div>"
      ],
      "text/plain": [
       "   R squared  Adjusted R squared       MSE      RMSE       MAE\n",
       "0   0.885749            0.885562  10.21864  3.196661  2.283485"
      ]
     },
     "execution_count": 32,
     "metadata": {},
     "output_type": "execute_result"
    }
   ],
   "source": [
    "#### Predictions on Train Set\n",
    "pred_ridge_train = model_rid.predict(X_train_scaled)\n",
    "R2 = pd.DataFrame([r2_score(y_train, pred_ridge_train)], columns=['R squared'])\n",
    "adj_1 = pd.DataFrame([adjusted_r_squared(y_train, pred_ridge_train)], columns=['Adjusted R squared'])\n",
    "mse1 =  pd.DataFrame([mean_squared_error(y_train, pred_ridge_train)], columns=['MSE'])\n",
    "rmse1 =  pd.DataFrame([np.sqrt(mean_squared_error(y_train, pred_ridge_train))], columns=['RMSE'])\n",
    "mae1 = pd.DataFrame([mean_absolute_error(y_train, pred_ridge_train)], columns=['MAE'])\n",
    "train_ridge = pd.concat([R2, adj_1, mse1, rmse1, mae1], axis = 1)\n",
    "train_ridge\n"
   ]
  },
  {
   "cell_type": "code",
   "execution_count": 33,
   "metadata": {},
   "outputs": [
    {
     "data": {
      "text/html": [
       "<div>\n",
       "<style scoped>\n",
       "    .dataframe tbody tr th:only-of-type {\n",
       "        vertical-align: middle;\n",
       "    }\n",
       "\n",
       "    .dataframe tbody tr th {\n",
       "        vertical-align: top;\n",
       "    }\n",
       "\n",
       "    .dataframe thead th {\n",
       "        text-align: right;\n",
       "    }\n",
       "</style>\n",
       "<table border=\"1\" class=\"dataframe\">\n",
       "  <thead>\n",
       "    <tr style=\"text-align: right;\">\n",
       "      <th></th>\n",
       "      <th>R squared</th>\n",
       "      <th>Adjusted R squared</th>\n",
       "      <th>MSE</th>\n",
       "      <th>RMSE</th>\n",
       "      <th>MAE</th>\n",
       "    </tr>\n",
       "  </thead>\n",
       "  <tbody>\n",
       "    <tr>\n",
       "      <th>0</th>\n",
       "      <td>0.880223</td>\n",
       "      <td>0.879435</td>\n",
       "      <td>11.26569</td>\n",
       "      <td>3.35644</td>\n",
       "      <td>2.322524</td>\n",
       "    </tr>\n",
       "  </tbody>\n",
       "</table>\n",
       "</div>"
      ],
      "text/plain": [
       "   R squared  Adjusted R squared       MSE     RMSE       MAE\n",
       "0   0.880223            0.879435  11.26569  3.35644  2.322524"
      ]
     },
     "execution_count": 33,
     "metadata": {},
     "output_type": "execute_result"
    }
   ],
   "source": [
    "#### Predictions on Test Set\n",
    "pred_ridge = model_rid.predict(X_test_scaled)\n",
    "\n",
    "R2 = pd.DataFrame([r2_score(y_test,pred_ridge)], columns=['R squared'])\n",
    "adj_1 = pd.DataFrame([adjusted_r_squared(y_test, pred_ridge)], columns=['Adjusted R squared'])\n",
    "mse1 =  pd.DataFrame([mean_squared_error(y_test, pred_ridge)], columns=['MSE'])\n",
    "rmse1 =  pd.DataFrame([np.sqrt(mean_squared_error(y_test, pred_ridge))], columns=['RMSE'])\n",
    "mae1 = pd.DataFrame([mean_absolute_error(y_test, pred_ridge)], columns=['MAE'])\n",
    "test_ridge = pd.concat([R2, adj_1, mse1, rmse1, mae1], axis = 1)\n",
    "test_ridge"
   ]
  },
  {
   "cell_type": "markdown",
   "metadata": {},
   "source": [
    "### Four Assumptions About Residuals"
   ]
  },
  {
   "cell_type": "markdown",
   "metadata": {},
   "source": [
    "- **Zero Mean Assumption:** The mean of the residuals for this model is -0.13. The mean for ridge regression is lower than the mean from PCA only. \n",
    "\n",
    "- **Constant Variance Assumption:** In this model the constant variance assumption is violated because of the funnel shape of the Residual Plot. Goal is to have no noticeable patterns. \n",
    "\n",
    "- **Normality Assumption:** In this linear model the residuals are not in a normal distribution which violates the normality assumption. The Q-Q plot is evidence of this violation. The blue points are around the line at the bottom but not at the top. The points at the top nowhere near the line could be outliers. Also, the AD test has a statistic of 3.19 which is not close to the critical values. \n",
    "\n",
    "- **Independence Assumption:** The Durbin Watson test gives a value of 2.007, which states that the residuals are independent. \n"
   ]
  },
  {
   "cell_type": "code",
   "execution_count": 34,
   "metadata": {},
   "outputs": [
    {
     "data": {
      "image/png": "[encoded data removed]",
      "text/plain": [
       "<Figure size 432x288 with 1 Axes>"
      ]
     },
     "metadata": {},
     "output_type": "display_data"
    },
    {
     "name": "stdout",
     "output_type": "stream",
     "text": [
      "AD Test\n",
      "statistic:  3.1934909375378595\n",
      "critical_values:  [0.562 0.64  0.768 0.896 1.065]\n",
      "significance_level:  [15.  10.   5.   2.5  1. ]\n",
      "--------------------------------------------------------------------------------\n",
      "Residual Mean:  -0.13169671614791012\n",
      "--------------------------------------------------------------------------------\n",
      "Durbin Watson: [2.00650549]\n"
     ]
    },
    {
     "data": {
      "image/png": "[encoded data removed]",
      "text/plain": [
       "<Figure size 432x288 with 1 Axes>"
      ]
     },
     "metadata": {},
     "output_type": "display_data"
    }
   ],
   "source": [
    "residual_4 = y_test - pred_ridge\n",
    "res_4 = np.array(residual_4)\n",
    "scored_res_4 = residual_4.apply(zscore)\n",
    "sort_res_4 = scored_res_4.sort_values(['cooling_load'])\n",
    "    \n",
    "## normality assumption\n",
    "sm.qqplot(sort_res_4, line='45')\n",
    "plt.title('Residual qqplot')\n",
    "plt.ylabel('Standardized Residuals')\n",
    "pylab.show()\n",
    "res = np.array(residual_4)\n",
    "ad = sp.stats.anderson(res_4.ravel(), dist = 'norm')\n",
    "print('AD Test')\n",
    "print('statistic: ', ad.statistic)\n",
    "print('critical_values: ', ad.critical_values)\n",
    "print('significance_level: ', ad.significance_level)\n",
    "print('--'*40)\n",
    "#### Zero-Mean Assumption, Constant Variance Assumption\n",
    "sns.residplot(pred_ridge, scored_res_4)\n",
    "plt.title('Residual plot')\n",
    "plt.xlabel('Predicted values')\n",
    "plt.ylabel('Standardized Residuals')\n",
    "print('Residual Mean: ', res_4.mean())\n",
    "print('--'*40)\n",
    "#### Independence Assumption\n",
    "print('Durbin Watson:', durbin_watson(residual_4, axis = 0))"
   ]
  },
  {
   "cell_type": "markdown",
   "metadata": {},
   "source": [
    "### Lassos Regression"
   ]
  },
  {
   "cell_type": "markdown",
   "metadata": {},
   "source": [
    "Lasso regression was used for the last model. A for loop was created to loop through different alpha’s in the model. The model with the highest R squared was selected, which was an alpha of 0.5. In Lasso the coefficients of variables that are not useful to the model are zero. For this dataset X1, X2, X4, and X6 are zero. The mean absolute error from the test data of 2.45, is better than the model with only PCA, but not as good as the ridge regression model. The R squared from the test and train are close. This shows that the model is not over fit to the training data. "
   ]
  },
  {
   "cell_type": "code",
   "execution_count": 35,
   "metadata": {},
   "outputs": [],
   "source": [
    "#### Split and Scale data\n",
    "from sklearn.linear_model import Lasso\n",
    "\n",
    "X = df1.drop('cooling_load', axis =1 ) \n",
    "y = df1[['cooling_load']]\n",
    "\n",
    "X_train, X_test, y_train, y_test = train_test_split(X, y, test_size = 0.2, random_state = 0)\n",
    "sc1 = StandardScaler()\n",
    "X_train_scaled = sc1.fit_transform(X_train)\n",
    "X_test_scaled = sc1.transform(X_test)"
   ]
  },
  {
   "cell_type": "code",
   "execution_count": 36,
   "metadata": {},
   "outputs": [
    {
     "name": "stdout",
     "output_type": "stream",
     "text": [
      "Alpha = 0.50\n",
      "Features kept: 3, r-squared training: 0.87\n",
      "\n",
      "Alpha = 1.00\n",
      "Features kept: 3, r-squared training: 0.85\n",
      "\n",
      "Alpha = 2.00\n",
      "Features kept: 3, r-squared training: 0.77\n",
      "\n",
      "Alpha = 3.00\n",
      "Features kept: 1, r-squared training: 0.70\n",
      "\n",
      "Alpha = 5.00\n",
      "Features kept: 1, r-squared training: 0.52\n",
      "\n",
      "Alpha = 10.00\n",
      "Features kept: 0, r-squared training: 0.00\n",
      "\n",
      "Alpha = 20.00\n",
      "Features kept: 0, r-squared training: 0.00\n",
      "\n",
      "Alpha = 50.00\n",
      "Features kept: 0, r-squared training: 0.00\n",
      "\n"
     ]
    }
   ],
   "source": [
    "#### For Loop fpr best alpha\n",
    "for alpha in [0.5, 1, 2, 3, 5, 10, 20, 50]:\n",
    "    linlasso = Lasso(alpha, max_iter = 10000).fit(X_train_scaled, y_train)\n",
    "    r2_train = linlasso.score(X_train_scaled, y_train)\n",
    "    \n",
    "    print('Alpha = {:.2f}\\nFeatures kept: {}, r-squared training: {:.2f}\\n'\n",
    "         .format(alpha, np.sum(linlasso.coef_ != 0), r2_train))"
   ]
  },
  {
   "cell_type": "code",
   "execution_count": 37,
   "metadata": {},
   "outputs": [
    {
     "data": {
      "text/plain": [
       "(array([24.51814332]),\n",
       " array([ 0.        , -0.        ,  1.38929513, -0.        ,  7.59496782,\n",
       "         0.        ,  1.52148195,  0.        ]))"
      ]
     },
     "execution_count": 37,
     "metadata": {},
     "output_type": "execute_result"
    }
   ],
   "source": [
    "#### intercept and coefficient\n",
    "model_las = Lasso(alpha = 0.5)\n",
    "model_las.fit(X_train_scaled, y_train)\n",
    "last0, last1 = model_las.intercept_, model_las.coef_\n",
    "last0, last1"
   ]
  },
  {
   "cell_type": "code",
   "execution_count": 38,
   "metadata": {},
   "outputs": [
    {
     "data": {
      "text/html": [
       "<div>\n",
       "<style scoped>\n",
       "    .dataframe tbody tr th:only-of-type {\n",
       "        vertical-align: middle;\n",
       "    }\n",
       "\n",
       "    .dataframe tbody tr th {\n",
       "        vertical-align: top;\n",
       "    }\n",
       "\n",
       "    .dataframe thead th {\n",
       "        text-align: right;\n",
       "    }\n",
       "</style>\n",
       "<table border=\"1\" class=\"dataframe\">\n",
       "  <thead>\n",
       "    <tr style=\"text-align: right;\">\n",
       "      <th></th>\n",
       "      <th>Columns</th>\n",
       "      <th>Coef</th>\n",
       "    </tr>\n",
       "  </thead>\n",
       "  <tbody>\n",
       "    <tr>\n",
       "      <th>0</th>\n",
       "      <td>X1</td>\n",
       "      <td>0.000000</td>\n",
       "    </tr>\n",
       "    <tr>\n",
       "      <th>1</th>\n",
       "      <td>X2</td>\n",
       "      <td>-0.000000</td>\n",
       "    </tr>\n",
       "    <tr>\n",
       "      <th>2</th>\n",
       "      <td>X3</td>\n",
       "      <td>1.389295</td>\n",
       "    </tr>\n",
       "    <tr>\n",
       "      <th>3</th>\n",
       "      <td>X4</td>\n",
       "      <td>-0.000000</td>\n",
       "    </tr>\n",
       "    <tr>\n",
       "      <th>4</th>\n",
       "      <td>X5</td>\n",
       "      <td>7.594968</td>\n",
       "    </tr>\n",
       "    <tr>\n",
       "      <th>5</th>\n",
       "      <td>X6</td>\n",
       "      <td>0.000000</td>\n",
       "    </tr>\n",
       "    <tr>\n",
       "      <th>6</th>\n",
       "      <td>X7</td>\n",
       "      <td>1.521482</td>\n",
       "    </tr>\n",
       "    <tr>\n",
       "      <th>7</th>\n",
       "      <td>X8</td>\n",
       "      <td>0.000000</td>\n",
       "    </tr>\n",
       "  </tbody>\n",
       "</table>\n",
       "</div>"
      ],
      "text/plain": [
       "  Columns      Coef\n",
       "0      X1  0.000000\n",
       "1      X2 -0.000000\n",
       "2      X3  1.389295\n",
       "3      X4 -0.000000\n",
       "4      X5  7.594968\n",
       "5      X6  0.000000\n",
       "6      X7  1.521482\n",
       "7      X8  0.000000"
      ]
     },
     "execution_count": 38,
     "metadata": {},
     "output_type": "execute_result"
    }
   ],
   "source": [
    "#### coefficient and column headers\n",
    "coef = pd.DataFrame(model_las.coef_, columns=['Coef'])\n",
    "col = pd.DataFrame(X_train.columns, columns=['Columns'])\n",
    "pd.concat([col, coef], axis = 1)"
   ]
  },
  {
   "cell_type": "code",
   "execution_count": 39,
   "metadata": {},
   "outputs": [
    {
     "data": {
      "text/html": [
       "<div>\n",
       "<style scoped>\n",
       "    .dataframe tbody tr th:only-of-type {\n",
       "        vertical-align: middle;\n",
       "    }\n",
       "\n",
       "    .dataframe tbody tr th {\n",
       "        vertical-align: top;\n",
       "    }\n",
       "\n",
       "    .dataframe thead th {\n",
       "        text-align: right;\n",
       "    }\n",
       "</style>\n",
       "<table border=\"1\" class=\"dataframe\">\n",
       "  <thead>\n",
       "    <tr style=\"text-align: right;\">\n",
       "      <th></th>\n",
       "      <th>R squared</th>\n",
       "      <th>Adjusted R squared</th>\n",
       "      <th>MSE</th>\n",
       "      <th>RMSE</th>\n",
       "      <th>MAE</th>\n",
       "    </tr>\n",
       "  </thead>\n",
       "  <tbody>\n",
       "    <tr>\n",
       "      <th>0</th>\n",
       "      <td>0.873497</td>\n",
       "      <td>0.87329</td>\n",
       "      <td>11.314499</td>\n",
       "      <td>3.363703</td>\n",
       "      <td>2.399097</td>\n",
       "    </tr>\n",
       "  </tbody>\n",
       "</table>\n",
       "</div>"
      ],
      "text/plain": [
       "   R squared  Adjusted R squared        MSE      RMSE       MAE\n",
       "0   0.873497             0.87329  11.314499  3.363703  2.399097"
      ]
     },
     "execution_count": 39,
     "metadata": {},
     "output_type": "execute_result"
    }
   ],
   "source": [
    "#### Predictions on Train Set\n",
    "las_pred_train = model_las.predict(X_train_scaled)\n",
    "las_pred_train = las_pred_train.reshape(-1,1)\n",
    "\n",
    "R2 = pd.DataFrame([r2_score(y_train, las_pred_train)], columns=['R squared'])\n",
    "adj_1 = pd.DataFrame([adjusted_r_squared(y_train, las_pred_train)], columns=['Adjusted R squared'])\n",
    "mse1 =  pd.DataFrame([mean_squared_error(y_train, las_pred_train)], columns=['MSE'])\n",
    "rmse1 =  pd.DataFrame([np.sqrt(mean_squared_error(y_train, las_pred_train))], columns=['RMSE'])\n",
    "mae1 = pd.DataFrame([mean_absolute_error(y_train, las_pred_train)], columns=['MAE'])\n",
    "train_lasso = pd.concat([R2, adj_1, mse1, rmse1, mae1], axis = 1)\n",
    "train_lasso"
   ]
  },
  {
   "cell_type": "code",
   "execution_count": 40,
   "metadata": {},
   "outputs": [
    {
     "data": {
      "text/html": [
       "<div>\n",
       "<style scoped>\n",
       "    .dataframe tbody tr th:only-of-type {\n",
       "        vertical-align: middle;\n",
       "    }\n",
       "\n",
       "    .dataframe tbody tr th {\n",
       "        vertical-align: top;\n",
       "    }\n",
       "\n",
       "    .dataframe thead th {\n",
       "        text-align: right;\n",
       "    }\n",
       "</style>\n",
       "<table border=\"1\" class=\"dataframe\">\n",
       "  <thead>\n",
       "    <tr style=\"text-align: right;\">\n",
       "      <th></th>\n",
       "      <th>R squared</th>\n",
       "      <th>Adjusted R squared</th>\n",
       "      <th>MSE</th>\n",
       "      <th>RMSE</th>\n",
       "      <th>MAE</th>\n",
       "    </tr>\n",
       "  </thead>\n",
       "  <tbody>\n",
       "    <tr>\n",
       "      <th>0</th>\n",
       "      <td>0.865972</td>\n",
       "      <td>0.86509</td>\n",
       "      <td>12.606082</td>\n",
       "      <td>3.550505</td>\n",
       "      <td>2.459497</td>\n",
       "    </tr>\n",
       "  </tbody>\n",
       "</table>\n",
       "</div>"
      ],
      "text/plain": [
       "   R squared  Adjusted R squared        MSE      RMSE       MAE\n",
       "0   0.865972             0.86509  12.606082  3.550505  2.459497"
      ]
     },
     "execution_count": 40,
     "metadata": {},
     "output_type": "execute_result"
    }
   ],
   "source": [
    "#### Predictions on Test Set\n",
    "las_pred_test = model_las.predict(X_test_scaled)\n",
    "las_pred_test = las_pred_test.reshape(-1,1)\n",
    "\n",
    "R2 = pd.DataFrame([r2_score(y_test,las_pred_test)], columns=['R squared'])\n",
    "adj_1 = pd.DataFrame([adjusted_r_squared(y_test, las_pred_test)], columns=['Adjusted R squared'])\n",
    "mse1 =  pd.DataFrame([mean_squared_error(y_test, las_pred_test)], columns=['MSE'])\n",
    "rmse1 =  pd.DataFrame([np.sqrt(mean_squared_error(y_test, las_pred_test))], columns=['RMSE'])\n",
    "mae1 = pd.DataFrame([mean_absolute_error(y_test, las_pred_test)], columns=['MAE'])\n",
    "test_lasso = pd.concat([R2, adj_1, mse1, rmse1, mae1], axis = 1)\n",
    "test_lasso"
   ]
  },
  {
   "cell_type": "markdown",
   "metadata": {},
   "source": [
    "### Four Assumptions About Residuals"
   ]
  },
  {
   "cell_type": "markdown",
   "metadata": {},
   "source": [
    "- **Zero Mean Assumption:** The mean of the residuals for this model is -0.13. The mean for lasso regression is very close to the mean of the ridge regression. \n",
    "\n",
    "- **Constant Variance Assumption:** In this model the constant variance assumption is violated because of the funnel shape of the residual plot. Goal is to have no noticeable patterns. Also, there is a huge split between the lower predicted values and high predicted values in the residual plot. \n",
    "\n",
    "- **Normality Assumption:** In this linear model the residuals are not in a normal distribution which violates the normality assumption. The Q-Q plot is evidence of this violation. The blue points are around the line in the middle but not close to the line at the bottom and top. Also, the AD test has a statistic of 3.655 which is not close to the critical values. \n",
    "\n",
    "- **Independence Assumption:** The Durbin Watson test gives a value of 2.13, which states that the residuals are independent. \n"
   ]
  },
  {
   "cell_type": "code",
   "execution_count": 41,
   "metadata": {},
   "outputs": [
    {
     "data": {
      "image/png": "[encoded data removed]",
      "text/plain": [
       "<Figure size 432x288 with 1 Axes>"
      ]
     },
     "metadata": {},
     "output_type": "display_data"
    },
    {
     "name": "stdout",
     "output_type": "stream",
     "text": [
      "AD Test\n",
      "statistic:  3.655167310369393\n",
      "critical_values:  [0.562 0.64  0.768 0.896 1.065]\n",
      "significance_level:  [15.  10.   5.   2.5  1. ]\n",
      "--------------------------------------------------------------------------------\n",
      "Residual Mean:  -0.1348362929048708\n",
      "--------------------------------------------------------------------------------\n",
      "Durbin Watson: [2.13771759]\n"
     ]
    },
    {
     "data": {
      "image/png": "[encoded data removed]",
      "text/plain": [
       "<Figure size 432x288 with 1 Axes>"
      ]
     },
     "metadata": {},
     "output_type": "display_data"
    }
   ],
   "source": [
    "residual_5 = y_test - las_pred_test\n",
    "res_5 = np.array(residual_5)\n",
    "scored_res_5 = residual_5.apply(zscore)\n",
    "sort_res_5 = scored_res_5.sort_values(['cooling_load'])\n",
    "    \n",
    "## normality assumption\n",
    "sm.qqplot(sort_res_5, line='q')\n",
    "plt.title('Residual qqplot')\n",
    "plt.ylabel('Standardized Residuals')\n",
    "pylab.show()\n",
    "res = np.array(residual_5)\n",
    "ad = sp.stats.anderson(res_5.ravel(), dist = 'norm')\n",
    "print('AD Test')\n",
    "print('statistic: ', ad.statistic)\n",
    "print('critical_values: ', ad.critical_values)\n",
    "print('significance_level: ', ad.significance_level)\n",
    "print('--'*40)\n",
    "#### Zero-Mean Assumption, Constant Variance Assumption\n",
    "sns.residplot(las_pred_test, scored_res_5)\n",
    "plt.title('Residual plot')\n",
    "plt.xlabel('Predicted values')\n",
    "plt.ylabel('Standardized Residuals')\n",
    "print('Residual Mean: ', res_5.mean())\n",
    "print('--'*40)\n",
    "#### Independence Assumption\n",
    "print('Durbin Watson:', durbin_watson(residual_5, axis = 0))"
   ]
  },
  {
   "cell_type": "markdown",
   "metadata": {},
   "source": [
    "### Comparison of Models"
   ]
  },
  {
   "cell_type": "markdown",
   "metadata": {},
   "source": [
    "A comparison of all the model’s metrics from the test dataset was created.  After viewing the metrics, the ridge regression model is the best. It has the highest R squared and lowest MAE of a model that didn’t have a transformation on the dependent variable. If there was more data a comparison of both the boxcox model and the ridge regression model would be the next step. "
   ]
  },
  {
   "cell_type": "code",
   "execution_count": 42,
   "metadata": {},
   "outputs": [
    {
     "data": {
      "text/html": [
       "<div>\n",
       "<style scoped>\n",
       "    .dataframe tbody tr th:only-of-type {\n",
       "        vertical-align: middle;\n",
       "    }\n",
       "\n",
       "    .dataframe tbody tr th {\n",
       "        vertical-align: top;\n",
       "    }\n",
       "\n",
       "    .dataframe thead th {\n",
       "        text-align: right;\n",
       "    }\n",
       "</style>\n",
       "<table border=\"1\" class=\"dataframe\">\n",
       "  <thead>\n",
       "    <tr style=\"text-align: right;\">\n",
       "      <th></th>\n",
       "      <th>Model</th>\n",
       "      <th>R squared</th>\n",
       "      <th>Adjusted R squared</th>\n",
       "      <th>MSE</th>\n",
       "      <th>RMSE</th>\n",
       "      <th>MAE</th>\n",
       "    </tr>\n",
       "  </thead>\n",
       "  <tbody>\n",
       "    <tr>\n",
       "      <th>0</th>\n",
       "      <td>PCA Only Model</td>\n",
       "      <td>0.850310</td>\n",
       "      <td>0.849325</td>\n",
       "      <td>14.079197</td>\n",
       "      <td>3.752226</td>\n",
       "      <td>2.729340</td>\n",
       "    </tr>\n",
       "    <tr>\n",
       "      <th>0</th>\n",
       "      <td>PCA Model With Boxcox</td>\n",
       "      <td>0.900562</td>\n",
       "      <td>0.899908</td>\n",
       "      <td>0.008116</td>\n",
       "      <td>0.090089</td>\n",
       "      <td>0.070447</td>\n",
       "    </tr>\n",
       "    <tr>\n",
       "      <th>0</th>\n",
       "      <td>Lasso</td>\n",
       "      <td>0.865972</td>\n",
       "      <td>0.865090</td>\n",
       "      <td>12.606082</td>\n",
       "      <td>3.550505</td>\n",
       "      <td>2.459497</td>\n",
       "    </tr>\n",
       "    <tr>\n",
       "      <th>0</th>\n",
       "      <td>Ridge</td>\n",
       "      <td>0.880223</td>\n",
       "      <td>0.879435</td>\n",
       "      <td>11.265690</td>\n",
       "      <td>3.356440</td>\n",
       "      <td>2.322524</td>\n",
       "    </tr>\n",
       "  </tbody>\n",
       "</table>\n",
       "</div>"
      ],
      "text/plain": [
       "                   Model  R squared  Adjusted R squared        MSE      RMSE  \\\n",
       "0         PCA Only Model   0.850310            0.849325  14.079197  3.752226   \n",
       "0  PCA Model With Boxcox   0.900562            0.899908   0.008116  0.090089   \n",
       "0                  Lasso   0.865972            0.865090  12.606082  3.550505   \n",
       "0                  Ridge   0.880223            0.879435  11.265690  3.356440   \n",
       "\n",
       "        MAE  \n",
       "0  2.729340  \n",
       "0  0.070447  \n",
       "0  2.459497  \n",
       "0  2.322524  "
      ]
     },
     "execution_count": 42,
     "metadata": {},
     "output_type": "execute_result"
    }
   ],
   "source": [
    "test_PCA['Model'] = 'PCA Only Model'\n",
    "test_PCA_box['Model'] = 'PCA Model With Boxcox'\n",
    "test_lasso['Model'] = 'Lasso'\n",
    "test_ridge['Model'] = 'Ridge'\n",
    "\n",
    "df_all = pd.concat([test_PCA, test_PCA_box, test_lasso, test_ridge])\n",
    "df_all = df_all.iloc[:,[5,0,1,2,3,4]]\n",
    "df_all"
   ]
  },
  {
   "cell_type": "markdown",
   "metadata": {},
   "source": [
    "## Conclusion"
   ]
  },
  {
   "cell_type": "markdown",
   "metadata": {},
   "source": [
    "When going through the EDA process with this dataset the biggest take away was that many of the variables in the dataset are highly correlated with other variables that are not the dependent variable. Once this information came to light, the first step was to create a model that didn’t have multicollinearity. PCA was the first choice to handle the correlation problem. PCA was added to the two linear regression models. When the boxcox transformation was conducted on the dependent variable the best R squared and MAE was found. Based on the linear assumption information the model with the boxcox transformation was no different than the other models. The model still had a funnel shape in the residuals plot and the residuals were still not normally distributed.  The low MAE most likely came from the lower magnitude of cooling load from the transformation.  When viewing ridge and lasso regression the two models of comparable metrics with ridge being slightly better. With the highest R squared and the lowest MAE out of all the models that didn’t have boxcox done on the dependent variable ridge regression seems to be the best. If there was more data to test a more in-depth comparison between the boxcox model and the ridge model would have been the next step. "
   ]
  },
  {
   "cell_type": "code",
   "execution_count": null,
   "metadata": {},
   "outputs": [],
   "source": []
  }
 ],
 "metadata": {
  "kernelspec": {
   "display_name": "Python 3",
   "language": "python",
   "name": "python3"
  },
  "language_info": {
   "codemirror_mode": {
    "name": "ipython",
    "version": 3
   },
   "file_extension": ".py",
   "mimetype": "text/x-python",
   "name": "python",
   "nbconvert_exporter": "python",
   "pygments_lexer": "ipython3",
   "version": "3.6.9"
  }
 },
 "nbformat": 4,
 "nbformat_minor": 2
}
