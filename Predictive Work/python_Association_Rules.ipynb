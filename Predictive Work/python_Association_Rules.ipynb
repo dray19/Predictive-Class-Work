{
 "cells": [
  {
   "cell_type": "markdown",
   "metadata": {},
   "source": [
    "### Import libraries"
   ]
  },
  {
   "cell_type": "code",
   "execution_count": 1,
   "metadata": {},
   "outputs": [],
   "source": [
    "import pandas as pd\n",
    "import numpy as np \n",
    "import matplotlib.pyplot as plt\n",
    "import seaborn as sns\n",
    "from apyori import apriori \n",
    "import warnings\n",
    "warnings.filterwarnings('ignore')"
   ]
  },
  {
   "cell_type": "markdown",
   "metadata": {},
   "source": [
    "### Load Data and Gather Columns Needed"
   ]
  },
  {
   "cell_type": "code",
   "execution_count": 2,
   "metadata": {},
   "outputs": [
    {
     "data": {
      "text/html": [
       "<div>\n",
       "<style scoped>\n",
       "    .dataframe tbody tr th:only-of-type {\n",
       "        vertical-align: middle;\n",
       "    }\n",
       "\n",
       "    .dataframe tbody tr th {\n",
       "        vertical-align: top;\n",
       "    }\n",
       "\n",
       "    .dataframe thead th {\n",
       "        text-align: right;\n",
       "    }\n",
       "</style>\n",
       "<table border=\"1\" class=\"dataframe\">\n",
       "  <thead>\n",
       "    <tr style=\"text-align: right;\">\n",
       "      <th></th>\n",
       "      <th>VMail Plan</th>\n",
       "      <th>Int'l Plan</th>\n",
       "      <th>CustServ Calls</th>\n",
       "      <th>Churn?</th>\n",
       "    </tr>\n",
       "  </thead>\n",
       "  <tbody>\n",
       "    <tr>\n",
       "      <th>0</th>\n",
       "      <td>yes</td>\n",
       "      <td>no</td>\n",
       "      <td>1</td>\n",
       "      <td>False.</td>\n",
       "    </tr>\n",
       "    <tr>\n",
       "      <th>1</th>\n",
       "      <td>yes</td>\n",
       "      <td>no</td>\n",
       "      <td>1</td>\n",
       "      <td>False.</td>\n",
       "    </tr>\n",
       "  </tbody>\n",
       "</table>\n",
       "</div>"
      ],
      "text/plain": [
       "  VMail Plan Int'l Plan  CustServ Calls  Churn?\n",
       "0        yes         no               1  False.\n",
       "1        yes         no               1  False."
      ]
     },
     "execution_count": 2,
     "metadata": {},
     "output_type": "execute_result"
    }
   ],
   "source": [
    "df = pd.read_csv(\"Churn.csv\")\n",
    "df2 = df[[\"VMail Plan\",\"Int'l Plan\",\"CustServ Calls\",\"Churn?\"]]\n",
    "df2.head(2)"
   ]
  },
  {
   "cell_type": "markdown",
   "metadata": {},
   "source": [
    "### Create columns that are suitable for the apriori algorithm"
   ]
  },
  {
   "cell_type": "code",
   "execution_count": 3,
   "metadata": {},
   "outputs": [
    {
     "data": {
      "text/html": [
       "<div>\n",
       "<style scoped>\n",
       "    .dataframe tbody tr th:only-of-type {\n",
       "        vertical-align: middle;\n",
       "    }\n",
       "\n",
       "    .dataframe tbody tr th {\n",
       "        vertical-align: top;\n",
       "    }\n",
       "\n",
       "    .dataframe thead th {\n",
       "        text-align: right;\n",
       "    }\n",
       "</style>\n",
       "<table border=\"1\" class=\"dataframe\">\n",
       "  <thead>\n",
       "    <tr style=\"text-align: right;\">\n",
       "      <th></th>\n",
       "      <th>VMail Plan</th>\n",
       "      <th>Int'l Plan</th>\n",
       "      <th>CustServ Calls</th>\n",
       "      <th>Churn?</th>\n",
       "    </tr>\n",
       "  </thead>\n",
       "  <tbody>\n",
       "    <tr>\n",
       "      <th>0</th>\n",
       "      <td>VMail_Plan=yes</td>\n",
       "      <td>Intl_Plan=no</td>\n",
       "      <td>CustServ_Calls=1</td>\n",
       "      <td>Churn=False.</td>\n",
       "    </tr>\n",
       "    <tr>\n",
       "      <th>1</th>\n",
       "      <td>VMail_Plan=yes</td>\n",
       "      <td>Intl_Plan=no</td>\n",
       "      <td>CustServ_Calls=1</td>\n",
       "      <td>Churn=False.</td>\n",
       "    </tr>\n",
       "  </tbody>\n",
       "</table>\n",
       "</div>"
      ],
      "text/plain": [
       "       VMail Plan    Int'l Plan    CustServ Calls        Churn?\n",
       "0  VMail_Plan=yes  Intl_Plan=no  CustServ_Calls=1  Churn=False.\n",
       "1  VMail_Plan=yes  Intl_Plan=no  CustServ_Calls=1  Churn=False."
      ]
     },
     "execution_count": 3,
     "metadata": {},
     "output_type": "execute_result"
    }
   ],
   "source": [
    "df2['VMail Plan'] = 'VMail_Plan=' + df2['VMail Plan']\n",
    "df2[\"Int'l Plan\"] = \"Intl_Plan=\" + df2[\"Int'l Plan\"]\n",
    "df2['CustServ Calls'] = 'CustServ_Calls='  + df2['CustServ Calls'].astype(str)\n",
    "df2['Churn?'] = 'Churn=' + df2['Churn?']\n",
    "df2.head(2)"
   ]
  },
  {
   "cell_type": "markdown",
   "metadata": {},
   "source": [
    "### Check for missing values"
   ]
  },
  {
   "cell_type": "code",
   "execution_count": 4,
   "metadata": {},
   "outputs": [
    {
     "name": "stdout",
     "output_type": "stream",
     "text": [
      "Null values:\n",
      "VMail Plan        0\n",
      "Int'l Plan        0\n",
      "CustServ Calls    0\n",
      "Churn?            0\n",
      "dtype: int64\n"
     ]
    }
   ],
   "source": [
    "print(\"Null values:\")\n",
    "print(df2.isnull().sum())"
   ]
  },
  {
   "cell_type": "markdown",
   "metadata": {},
   "source": [
    "### Number of unique values in CustServ Calls column"
   ]
  },
  {
   "cell_type": "code",
   "execution_count": 5,
   "metadata": {},
   "outputs": [
    {
     "data": {
      "text/plain": [
       "array(['CustServ_Calls=1', 'CustServ_Calls=0', 'CustServ_Calls=2',\n",
       "       'CustServ_Calls=3', 'CustServ_Calls=4', 'CustServ_Calls=5',\n",
       "       'CustServ_Calls=7', 'CustServ_Calls=9', 'CustServ_Calls=6',\n",
       "       'CustServ_Calls=8'], dtype=object)"
      ]
     },
     "execution_count": 5,
     "metadata": {},
     "output_type": "execute_result"
    }
   ],
   "source": [
    "df2[\"CustServ Calls\"].unique()"
   ]
  },
  {
   "cell_type": "markdown",
   "metadata": {},
   "source": [
    "### Preprocessing of data before using the apriori function from mlxtend"
   ]
  },
  {
   "cell_type": "markdown",
   "metadata": {},
   "source": [
    "Data  was converted in to a list of transactions so the data can be in the right format for the apriori function. As seen from the table below the data is transformed into each possible result from each column as the columns and the rows are the transactions. If the column has a true in it that means that it is in the transaction.  "
   ]
  },
  {
   "cell_type": "code",
   "execution_count": 6,
   "metadata": {},
   "outputs": [],
   "source": [
    "rec = []\n",
    "for i in range(3333):\n",
    "    rec.append([str(df2.values[i,j]) for j in range(0, 4)])"
   ]
  },
  {
   "cell_type": "code",
   "execution_count": 7,
   "metadata": {},
   "outputs": [
    {
     "data": {
      "text/html": [
       "<div>\n",
       "<style scoped>\n",
       "    .dataframe tbody tr th:only-of-type {\n",
       "        vertical-align: middle;\n",
       "    }\n",
       "\n",
       "    .dataframe tbody tr th {\n",
       "        vertical-align: top;\n",
       "    }\n",
       "\n",
       "    .dataframe thead th {\n",
       "        text-align: right;\n",
       "    }\n",
       "</style>\n",
       "<table border=\"1\" class=\"dataframe\">\n",
       "  <thead>\n",
       "    <tr style=\"text-align: right;\">\n",
       "      <th></th>\n",
       "      <th>Churn=False.</th>\n",
       "      <th>Churn=True.</th>\n",
       "      <th>CustServ_Calls=0</th>\n",
       "      <th>CustServ_Calls=1</th>\n",
       "      <th>CustServ_Calls=2</th>\n",
       "      <th>CustServ_Calls=3</th>\n",
       "      <th>CustServ_Calls=4</th>\n",
       "      <th>CustServ_Calls=5</th>\n",
       "      <th>CustServ_Calls=6</th>\n",
       "      <th>CustServ_Calls=7</th>\n",
       "      <th>CustServ_Calls=8</th>\n",
       "      <th>CustServ_Calls=9</th>\n",
       "      <th>Intl_Plan=no</th>\n",
       "      <th>Intl_Plan=yes</th>\n",
       "      <th>VMail_Plan=no</th>\n",
       "      <th>VMail_Plan=yes</th>\n",
       "    </tr>\n",
       "  </thead>\n",
       "  <tbody>\n",
       "    <tr>\n",
       "      <th>0</th>\n",
       "      <td>True</td>\n",
       "      <td>False</td>\n",
       "      <td>False</td>\n",
       "      <td>True</td>\n",
       "      <td>False</td>\n",
       "      <td>False</td>\n",
       "      <td>False</td>\n",
       "      <td>False</td>\n",
       "      <td>False</td>\n",
       "      <td>False</td>\n",
       "      <td>False</td>\n",
       "      <td>False</td>\n",
       "      <td>True</td>\n",
       "      <td>False</td>\n",
       "      <td>False</td>\n",
       "      <td>True</td>\n",
       "    </tr>\n",
       "    <tr>\n",
       "      <th>1</th>\n",
       "      <td>True</td>\n",
       "      <td>False</td>\n",
       "      <td>False</td>\n",
       "      <td>True</td>\n",
       "      <td>False</td>\n",
       "      <td>False</td>\n",
       "      <td>False</td>\n",
       "      <td>False</td>\n",
       "      <td>False</td>\n",
       "      <td>False</td>\n",
       "      <td>False</td>\n",
       "      <td>False</td>\n",
       "      <td>True</td>\n",
       "      <td>False</td>\n",
       "      <td>False</td>\n",
       "      <td>True</td>\n",
       "    </tr>\n",
       "  </tbody>\n",
       "</table>\n",
       "</div>"
      ],
      "text/plain": [
       "   Churn=False.  Churn=True.  CustServ_Calls=0  CustServ_Calls=1  \\\n",
       "0          True        False             False              True   \n",
       "1          True        False             False              True   \n",
       "\n",
       "   CustServ_Calls=2  CustServ_Calls=3  CustServ_Calls=4  CustServ_Calls=5  \\\n",
       "0             False             False             False             False   \n",
       "1             False             False             False             False   \n",
       "\n",
       "   CustServ_Calls=6  CustServ_Calls=7  CustServ_Calls=8  CustServ_Calls=9  \\\n",
       "0             False             False             False             False   \n",
       "1             False             False             False             False   \n",
       "\n",
       "   Intl_Plan=no  Intl_Plan=yes  VMail_Plan=no  VMail_Plan=yes  \n",
       "0          True          False          False            True  \n",
       "1          True          False          False            True  "
      ]
     },
     "execution_count": 7,
     "metadata": {},
     "output_type": "execute_result"
    }
   ],
   "source": [
    "from mlxtend.preprocessing import TransactionEncoder\n",
    "from mlxtend.frequent_patterns import apriori\n",
    "oht = TransactionEncoder()\n",
    "oht_ary = oht.fit(rec).transform(rec)\n",
    "df3 = pd.DataFrame(oht_ary, columns=oht.columns_)\n",
    "df3.head(2)"
   ]
  },
  {
   "cell_type": "markdown",
   "metadata": {},
   "source": [
    "### Itemset Frequency with minimum support of 0.01"
   ]
  },
  {
   "cell_type": "code",
   "execution_count": 8,
   "metadata": {},
   "outputs": [
    {
     "name": "stdout",
     "output_type": "stream",
     "text": [
      "    support            itemsets\n",
      "0  0.855086      (Churn=False.)\n",
      "1  0.144914       (Churn=True.)\n",
      "2  0.209121  (CustServ_Calls=0)\n",
      "3  0.354335  (CustServ_Calls=1)\n",
      "4  0.227723  (CustServ_Calls=2)\n"
     ]
    }
   ],
   "source": [
    "frequent_itemsets = apriori(df3, min_support=0.01, use_colnames=True)\n",
    "print(frequent_itemsets.head())"
   ]
  },
  {
   "cell_type": "markdown",
   "metadata": {},
   "source": [
    "### Creation of Association Rules "
   ]
  },
  {
   "cell_type": "code",
   "execution_count": 9,
   "metadata": {},
   "outputs": [],
   "source": [
    "from mlxtend.frequent_patterns import association_rules"
   ]
  },
  {
   "cell_type": "code",
   "execution_count": 10,
   "metadata": {},
   "outputs": [
    {
     "data": {
      "text/html": [
       "<div>\n",
       "<style scoped>\n",
       "    .dataframe tbody tr th:only-of-type {\n",
       "        vertical-align: middle;\n",
       "    }\n",
       "\n",
       "    .dataframe tbody tr th {\n",
       "        vertical-align: top;\n",
       "    }\n",
       "\n",
       "    .dataframe thead th {\n",
       "        text-align: right;\n",
       "    }\n",
       "</style>\n",
       "<table border=\"1\" class=\"dataframe\">\n",
       "  <thead>\n",
       "    <tr style=\"text-align: right;\">\n",
       "      <th></th>\n",
       "      <th>antecedents</th>\n",
       "      <th>consequents</th>\n",
       "      <th>antecedent support</th>\n",
       "      <th>consequent support</th>\n",
       "      <th>support</th>\n",
       "      <th>confidence</th>\n",
       "      <th>lift</th>\n",
       "      <th>leverage</th>\n",
       "      <th>conviction</th>\n",
       "    </tr>\n",
       "  </thead>\n",
       "  <tbody>\n",
       "    <tr>\n",
       "      <th>0</th>\n",
       "      <td>(Churn=False.)</td>\n",
       "      <td>(CustServ_Calls=0)</td>\n",
       "      <td>0.855086</td>\n",
       "      <td>0.209121</td>\n",
       "      <td>0.181518</td>\n",
       "      <td>0.212281</td>\n",
       "      <td>1.01511</td>\n",
       "      <td>0.002702</td>\n",
       "      <td>1.004011</td>\n",
       "    </tr>\n",
       "    <tr>\n",
       "      <th>1</th>\n",
       "      <td>(CustServ_Calls=0)</td>\n",
       "      <td>(Churn=False.)</td>\n",
       "      <td>0.209121</td>\n",
       "      <td>0.855086</td>\n",
       "      <td>0.181518</td>\n",
       "      <td>0.868006</td>\n",
       "      <td>1.01511</td>\n",
       "      <td>0.002702</td>\n",
       "      <td>1.097885</td>\n",
       "    </tr>\n",
       "  </tbody>\n",
       "</table>\n",
       "</div>"
      ],
      "text/plain": [
       "          antecedents         consequents  antecedent support  \\\n",
       "0      (Churn=False.)  (CustServ_Calls=0)            0.855086   \n",
       "1  (CustServ_Calls=0)      (Churn=False.)            0.209121   \n",
       "\n",
       "   consequent support   support  confidence     lift  leverage  conviction  \n",
       "0            0.209121  0.181518    0.212281  1.01511  0.002702    1.004011  \n",
       "1            0.855086  0.181518    0.868006  1.01511  0.002702    1.097885  "
      ]
     },
     "execution_count": 10,
     "metadata": {},
     "output_type": "execute_result"
    }
   ],
   "source": [
    "rules = association_rules(frequent_itemsets, metric=\"confidence\", min_threshold=0.05)\n",
    "rules.head(2)"
   ]
  },
  {
   "cell_type": "markdown",
   "metadata": {},
   "source": [
    "#### Create a column for the length of the antecedent. Then filter out any antecedent that is not equal to one. "
   ]
  },
  {
   "cell_type": "code",
   "execution_count": 11,
   "metadata": {},
   "outputs": [
    {
     "data": {
      "text/html": [
       "<div>\n",
       "<style scoped>\n",
       "    .dataframe tbody tr th:only-of-type {\n",
       "        vertical-align: middle;\n",
       "    }\n",
       "\n",
       "    .dataframe tbody tr th {\n",
       "        vertical-align: top;\n",
       "    }\n",
       "\n",
       "    .dataframe thead th {\n",
       "        text-align: right;\n",
       "    }\n",
       "</style>\n",
       "<table border=\"1\" class=\"dataframe\">\n",
       "  <thead>\n",
       "    <tr style=\"text-align: right;\">\n",
       "      <th></th>\n",
       "      <th>antecedents</th>\n",
       "      <th>consequents</th>\n",
       "      <th>antecedent support</th>\n",
       "      <th>consequent support</th>\n",
       "      <th>support</th>\n",
       "      <th>confidence</th>\n",
       "      <th>lift</th>\n",
       "      <th>leverage</th>\n",
       "      <th>conviction</th>\n",
       "      <th>antecedent_len</th>\n",
       "    </tr>\n",
       "  </thead>\n",
       "  <tbody>\n",
       "    <tr>\n",
       "      <th>0</th>\n",
       "      <td>(Churn=False.)</td>\n",
       "      <td>(CustServ_Calls=0)</td>\n",
       "      <td>0.855086</td>\n",
       "      <td>0.209121</td>\n",
       "      <td>0.181518</td>\n",
       "      <td>0.212281</td>\n",
       "      <td>1.01511</td>\n",
       "      <td>0.002702</td>\n",
       "      <td>1.004011</td>\n",
       "      <td>1</td>\n",
       "    </tr>\n",
       "    <tr>\n",
       "      <th>1</th>\n",
       "      <td>(CustServ_Calls=0)</td>\n",
       "      <td>(Churn=False.)</td>\n",
       "      <td>0.209121</td>\n",
       "      <td>0.855086</td>\n",
       "      <td>0.181518</td>\n",
       "      <td>0.868006</td>\n",
       "      <td>1.01511</td>\n",
       "      <td>0.002702</td>\n",
       "      <td>1.097885</td>\n",
       "      <td>1</td>\n",
       "    </tr>\n",
       "  </tbody>\n",
       "</table>\n",
       "</div>"
      ],
      "text/plain": [
       "          antecedents         consequents  antecedent support  \\\n",
       "0      (Churn=False.)  (CustServ_Calls=0)            0.855086   \n",
       "1  (CustServ_Calls=0)      (Churn=False.)            0.209121   \n",
       "\n",
       "   consequent support   support  confidence     lift  leverage  conviction  \\\n",
       "0            0.209121  0.181518    0.212281  1.01511  0.002702    1.004011   \n",
       "1            0.855086  0.181518    0.868006  1.01511  0.002702    1.097885   \n",
       "\n",
       "   antecedent_len  \n",
       "0               1  \n",
       "1               1  "
      ]
     },
     "execution_count": 11,
     "metadata": {},
     "output_type": "execute_result"
    }
   ],
   "source": [
    "rules[\"antecedent_len\"] = rules[\"antecedents\"].apply(lambda x: len(x))\n",
    "rules2 = rules[rules['antecedent_len'] == 1]\n",
    "rules2.head(2)"
   ]
  },
  {
   "cell_type": "markdown",
   "metadata": {},
   "source": [
    "#### Number of records from the original set of rules to the new set of rules "
   ]
  },
  {
   "cell_type": "code",
   "execution_count": 12,
   "metadata": {},
   "outputs": [
    {
     "name": "stdout",
     "output_type": "stream",
     "text": [
      "Number of records\n",
      "Rules 1: 523\n",
      "Rules 2: 242\n"
     ]
    }
   ],
   "source": [
    "print('Number of records')\n",
    "print('Rules 1:', len(rules))\n",
    "print('Rules 2:', len(rules2))"
   ]
  },
  {
   "cell_type": "markdown",
   "metadata": {},
   "source": [
    "#### Filter out any antecedent support less than 0.01."
   ]
  },
  {
   "cell_type": "code",
   "execution_count": 13,
   "metadata": {},
   "outputs": [
    {
     "data": {
      "text/html": [
       "<div>\n",
       "<style scoped>\n",
       "    .dataframe tbody tr th:only-of-type {\n",
       "        vertical-align: middle;\n",
       "    }\n",
       "\n",
       "    .dataframe tbody tr th {\n",
       "        vertical-align: top;\n",
       "    }\n",
       "\n",
       "    .dataframe thead th {\n",
       "        text-align: right;\n",
       "    }\n",
       "</style>\n",
       "<table border=\"1\" class=\"dataframe\">\n",
       "  <thead>\n",
       "    <tr style=\"text-align: right;\">\n",
       "      <th></th>\n",
       "      <th>antecedents</th>\n",
       "      <th>consequents</th>\n",
       "      <th>antecedent support</th>\n",
       "      <th>consequent support</th>\n",
       "      <th>support</th>\n",
       "      <th>confidence</th>\n",
       "      <th>lift</th>\n",
       "      <th>leverage</th>\n",
       "      <th>conviction</th>\n",
       "      <th>antecedent_len</th>\n",
       "    </tr>\n",
       "  </thead>\n",
       "  <tbody>\n",
       "    <tr>\n",
       "      <th>0</th>\n",
       "      <td>(Churn=False.)</td>\n",
       "      <td>(CustServ_Calls=0)</td>\n",
       "      <td>0.855086</td>\n",
       "      <td>0.209121</td>\n",
       "      <td>0.181518</td>\n",
       "      <td>0.212281</td>\n",
       "      <td>1.01511</td>\n",
       "      <td>0.002702</td>\n",
       "      <td>1.004011</td>\n",
       "      <td>1</td>\n",
       "    </tr>\n",
       "    <tr>\n",
       "      <th>1</th>\n",
       "      <td>(CustServ_Calls=0)</td>\n",
       "      <td>(Churn=False.)</td>\n",
       "      <td>0.209121</td>\n",
       "      <td>0.855086</td>\n",
       "      <td>0.181518</td>\n",
       "      <td>0.868006</td>\n",
       "      <td>1.01511</td>\n",
       "      <td>0.002702</td>\n",
       "      <td>1.097885</td>\n",
       "      <td>1</td>\n",
       "    </tr>\n",
       "  </tbody>\n",
       "</table>\n",
       "</div>"
      ],
      "text/plain": [
       "          antecedents         consequents  antecedent support  \\\n",
       "0      (Churn=False.)  (CustServ_Calls=0)            0.855086   \n",
       "1  (CustServ_Calls=0)      (Churn=False.)            0.209121   \n",
       "\n",
       "   consequent support   support  confidence     lift  leverage  conviction  \\\n",
       "0            0.209121  0.181518    0.212281  1.01511  0.002702    1.004011   \n",
       "1            0.855086  0.181518    0.868006  1.01511  0.002702    1.097885   \n",
       "\n",
       "   antecedent_len  \n",
       "0               1  \n",
       "1               1  "
      ]
     },
     "execution_count": 13,
     "metadata": {},
     "output_type": "execute_result"
    }
   ],
   "source": [
    "rules3 = rules2[rules2['antecedent support'] >= 0.01]\n",
    "rules3 = rules2[rules2['support'] >= 0.01]\n",
    "rules3.head(2)"
   ]
  },
  {
   "cell_type": "markdown",
   "metadata": {},
   "source": [
    "#### Number of records from the original set of rules to the new set of rules "
   ]
  },
  {
   "cell_type": "code",
   "execution_count": 14,
   "metadata": {},
   "outputs": [
    {
     "name": "stdout",
     "output_type": "stream",
     "text": [
      "Number of records\n",
      "Rules 1: 523\n",
      "Rules 2: 242\n",
      "Rules 3: 242\n"
     ]
    }
   ],
   "source": [
    "print('Number of records')\n",
    "print('Rules 1:', len(rules))\n",
    "print('Rules 2:', len(rules2))\n",
    "print('Rules 3:', len(rules3))"
   ]
  },
  {
   "cell_type": "markdown",
   "metadata": {},
   "source": [
    "#### Filter out antecedents that have churn is equal to false or true "
   ]
  },
  {
   "cell_type": "code",
   "execution_count": 15,
   "metadata": {},
   "outputs": [
    {
     "data": {
      "text/html": [
       "<div>\n",
       "<style scoped>\n",
       "    .dataframe tbody tr th:only-of-type {\n",
       "        vertical-align: middle;\n",
       "    }\n",
       "\n",
       "    .dataframe tbody tr th {\n",
       "        vertical-align: top;\n",
       "    }\n",
       "\n",
       "    .dataframe thead th {\n",
       "        text-align: right;\n",
       "    }\n",
       "</style>\n",
       "<table border=\"1\" class=\"dataframe\">\n",
       "  <thead>\n",
       "    <tr style=\"text-align: right;\">\n",
       "      <th></th>\n",
       "      <th>antecedents</th>\n",
       "      <th>consequents</th>\n",
       "      <th>antecedent support</th>\n",
       "      <th>consequent support</th>\n",
       "      <th>support</th>\n",
       "      <th>confidence</th>\n",
       "      <th>lift</th>\n",
       "      <th>leverage</th>\n",
       "      <th>conviction</th>\n",
       "      <th>antecedent_len</th>\n",
       "    </tr>\n",
       "  </thead>\n",
       "  <tbody>\n",
       "    <tr>\n",
       "      <th>1</th>\n",
       "      <td>(CustServ_Calls=0)</td>\n",
       "      <td>(Churn=False.)</td>\n",
       "      <td>0.209121</td>\n",
       "      <td>0.855086</td>\n",
       "      <td>0.181518</td>\n",
       "      <td>0.868006</td>\n",
       "      <td>1.015110</td>\n",
       "      <td>0.002702</td>\n",
       "      <td>1.097885</td>\n",
       "      <td>1</td>\n",
       "    </tr>\n",
       "    <tr>\n",
       "      <th>3</th>\n",
       "      <td>(CustServ_Calls=1)</td>\n",
       "      <td>(Churn=False.)</td>\n",
       "      <td>0.354335</td>\n",
       "      <td>0.855086</td>\n",
       "      <td>0.317732</td>\n",
       "      <td>0.896698</td>\n",
       "      <td>1.048664</td>\n",
       "      <td>0.014745</td>\n",
       "      <td>1.402820</td>\n",
       "      <td>1</td>\n",
       "    </tr>\n",
       "  </tbody>\n",
       "</table>\n",
       "</div>"
      ],
      "text/plain": [
       "          antecedents     consequents  antecedent support  consequent support  \\\n",
       "1  (CustServ_Calls=0)  (Churn=False.)            0.209121            0.855086   \n",
       "3  (CustServ_Calls=1)  (Churn=False.)            0.354335            0.855086   \n",
       "\n",
       "    support  confidence      lift  leverage  conviction  antecedent_len  \n",
       "1  0.181518    0.868006  1.015110  0.002702    1.097885               1  \n",
       "3  0.317732    0.896698  1.048664  0.014745    1.402820               1  "
      ]
     },
     "execution_count": 15,
     "metadata": {},
     "output_type": "execute_result"
    }
   ],
   "source": [
    "rules4 = rules3[rules3['antecedents'] != {'Churn=False.'}]\n",
    "rules5 = rules4[rules4['antecedents'] != {'Churn=True.'}]\n",
    "rules5.head(2)"
   ]
  },
  {
   "cell_type": "markdown",
   "metadata": {},
   "source": [
    "#### Number of records from the original set of rules to the new set of rules "
   ]
  },
  {
   "cell_type": "code",
   "execution_count": 16,
   "metadata": {},
   "outputs": [
    {
     "name": "stdout",
     "output_type": "stream",
     "text": [
      "Number of records\n",
      "Rules 1: 523\n",
      "Rules 2: 242\n",
      "Rules 3: 242\n",
      "Rules 4: 214\n",
      "Rules 5: 184\n"
     ]
    }
   ],
   "source": [
    "print('Number of records')\n",
    "print('Rules 1:', len(rules))\n",
    "print('Rules 2:', len(rules2))\n",
    "print('Rules 3:', len(rules3))\n",
    "print('Rules 4:', len(rules4))\n",
    "print('Rules 5:', len(rules5))"
   ]
  },
  {
   "cell_type": "markdown",
   "metadata": {},
   "source": [
    "#### Sort values by lift from highest to lowest"
   ]
  },
  {
   "cell_type": "code",
   "execution_count": 17,
   "metadata": {},
   "outputs": [
    {
     "data": {
      "text/html": [
       "<div>\n",
       "<style scoped>\n",
       "    .dataframe tbody tr th:only-of-type {\n",
       "        vertical-align: middle;\n",
       "    }\n",
       "\n",
       "    .dataframe tbody tr th {\n",
       "        vertical-align: top;\n",
       "    }\n",
       "\n",
       "    .dataframe thead th {\n",
       "        text-align: right;\n",
       "    }\n",
       "</style>\n",
       "<table border=\"1\" class=\"dataframe\">\n",
       "  <thead>\n",
       "    <tr style=\"text-align: right;\">\n",
       "      <th></th>\n",
       "      <th>antecedents</th>\n",
       "      <th>consequents</th>\n",
       "      <th>antecedent support</th>\n",
       "      <th>consequent support</th>\n",
       "      <th>support</th>\n",
       "      <th>confidence</th>\n",
       "      <th>lift</th>\n",
       "      <th>leverage</th>\n",
       "      <th>conviction</th>\n",
       "      <th>antecedent_len</th>\n",
       "    </tr>\n",
       "  </thead>\n",
       "  <tbody>\n",
       "    <tr>\n",
       "      <th>0</th>\n",
       "      <td>(CustServ_Calls=5)</td>\n",
       "      <td>(Churn=True., Intl_Plan=no)</td>\n",
       "      <td>0.019802</td>\n",
       "      <td>0.103810</td>\n",
       "      <td>0.010201</td>\n",
       "      <td>0.515152</td>\n",
       "      <td>4.962428</td>\n",
       "      <td>0.008145</td>\n",
       "      <td>1.848391</td>\n",
       "      <td>1</td>\n",
       "    </tr>\n",
       "    <tr>\n",
       "      <th>1</th>\n",
       "      <td>(Intl_Plan=yes)</td>\n",
       "      <td>(VMail_Plan=yes, Churn=True.)</td>\n",
       "      <td>0.096910</td>\n",
       "      <td>0.024002</td>\n",
       "      <td>0.010801</td>\n",
       "      <td>0.111455</td>\n",
       "      <td>4.643498</td>\n",
       "      <td>0.008475</td>\n",
       "      <td>1.098422</td>\n",
       "      <td>1</td>\n",
       "    </tr>\n",
       "  </tbody>\n",
       "</table>\n",
       "</div>"
      ],
      "text/plain": [
       "          antecedents                    consequents  antecedent support  \\\n",
       "0  (CustServ_Calls=5)    (Churn=True., Intl_Plan=no)            0.019802   \n",
       "1     (Intl_Plan=yes)  (VMail_Plan=yes, Churn=True.)            0.096910   \n",
       "\n",
       "   consequent support   support  confidence      lift  leverage  conviction  \\\n",
       "0            0.103810  0.010201    0.515152  4.962428  0.008145    1.848391   \n",
       "1            0.024002  0.010801    0.111455  4.643498  0.008475    1.098422   \n",
       "\n",
       "   antecedent_len  \n",
       "0               1  \n",
       "1               1  "
      ]
     },
     "execution_count": 17,
     "metadata": {},
     "output_type": "execute_result"
    }
   ],
   "source": [
    "rules5.sort_values(by = ['lift'], inplace = True, ascending=False)\n",
    "rules5.reset_index(inplace = True)\n",
    "rules5.drop('index', inplace = True, axis = 1)\n",
    "rules5.head(2)"
   ]
  },
  {
   "cell_type": "markdown",
   "metadata": {},
   "source": [
    "### Support vs Confidence plot"
   ]
  },
  {
   "cell_type": "markdown",
   "metadata": {},
   "source": [
    "From the plot below the transactions with the highest lift tend to have low support and mild to high confidence."
   ]
  },
  {
   "cell_type": "code",
   "execution_count": 18,
   "metadata": {},
   "outputs": [
    {
     "data": {
      "image/png": "[encoded data removed]",
      "text/plain": [
       "<Figure size 864x576 with 2 Axes>"
      ]
     },
     "metadata": {
      "needs_background": "light"
     },
     "output_type": "display_data"
    }
   ],
   "source": [
    "plt.figure(figsize=(12,8))\n",
    "plt.scatter(rules5['support'], rules5['confidence'], alpha = .8, c = rules5['lift'], cmap = 'seismic')\n",
    "cbar = plt.colorbar()\n",
    "plt.xlabel('Support')\n",
    "plt.ylabel('Confidence')\n",
    "plt.title('Support vs Confidence')\n",
    "plt.show()"
   ]
  },
  {
   "cell_type": "markdown",
   "metadata": {},
   "source": [
    "### Function to get number of number of instances"
   ]
  },
  {
   "cell_type": "code",
   "execution_count": 19,
   "metadata": {},
   "outputs": [],
   "source": [
    "rules6 = rules5[['antecedents', 'consequents','antecedent support', \n",
    "                 'support', 'confidence','lift']]"
   ]
  },
  {
   "cell_type": "code",
   "execution_count": 20,
   "metadata": {},
   "outputs": [],
   "source": [
    "def get_count(i):\n",
    "    x = rules6.loc[i,'antecedents']\n",
    "    v, = x\n",
    "    t = df3[df3[v] == True]\n",
    "    y = rules6.loc[i,'consequents']\n",
    "    if len(y) == 1:\n",
    "        v1, = y\n",
    "        c_all = t[(t[v1] == True)]\n",
    "        count = len(c_all)\n",
    "        return(count)\n",
    "    if len(y) == 2:\n",
    "        v1,v2 = y\n",
    "        c_all = t[(t[v1] == True) & (t[v2] == True)]\n",
    "        count = len(c_all)\n",
    "        return(count)\n",
    "    if len(y) == 3:\n",
    "        v1,v2,v3 = y\n",
    "        c_all = t[(t[v1] == True) & (t[v2] == True) & (t[v3] == True)]\n",
    "        count = len(c_all)\n",
    "        return(count)"
   ]
  },
  {
   "cell_type": "code",
   "execution_count": 21,
   "metadata": {},
   "outputs": [],
   "source": [
    "for i in range(len(rules6)):\n",
    "    cc = get_count(i)\n",
    "    rules6.loc[i,'Number_of_instances'] = cc"
   ]
  },
  {
   "cell_type": "code",
   "execution_count": 22,
   "metadata": {},
   "outputs": [
    {
     "data": {
      "text/html": [
       "<div>\n",
       "<style scoped>\n",
       "    .dataframe tbody tr th:only-of-type {\n",
       "        vertical-align: middle;\n",
       "    }\n",
       "\n",
       "    .dataframe tbody tr th {\n",
       "        vertical-align: top;\n",
       "    }\n",
       "\n",
       "    .dataframe thead th {\n",
       "        text-align: right;\n",
       "    }\n",
       "</style>\n",
       "<table border=\"1\" class=\"dataframe\">\n",
       "  <thead>\n",
       "    <tr style=\"text-align: right;\">\n",
       "      <th></th>\n",
       "      <th>antecedents</th>\n",
       "      <th>consequents</th>\n",
       "      <th>antecedent support</th>\n",
       "      <th>support</th>\n",
       "      <th>confidence</th>\n",
       "      <th>lift</th>\n",
       "      <th>Number_of_instances</th>\n",
       "    </tr>\n",
       "  </thead>\n",
       "  <tbody>\n",
       "    <tr>\n",
       "      <th>182</th>\n",
       "      <td>(VMail_Plan=yes)</td>\n",
       "      <td>(Churn=True.)</td>\n",
       "      <td>0.276628</td>\n",
       "      <td>0.024002</td>\n",
       "      <td>0.086768</td>\n",
       "      <td>0.598752</td>\n",
       "      <td>80.0</td>\n",
       "    </tr>\n",
       "    <tr>\n",
       "      <th>183</th>\n",
       "      <td>(Intl_Plan=yes)</td>\n",
       "      <td>(Churn=False., CustServ_Calls=2)</td>\n",
       "      <td>0.096910</td>\n",
       "      <td>0.011401</td>\n",
       "      <td>0.117647</td>\n",
       "      <td>0.583508</td>\n",
       "      <td>38.0</td>\n",
       "    </tr>\n",
       "  </tbody>\n",
       "</table>\n",
       "</div>"
      ],
      "text/plain": [
       "          antecedents                       consequents  antecedent support  \\\n",
       "182  (VMail_Plan=yes)                     (Churn=True.)            0.276628   \n",
       "183   (Intl_Plan=yes)  (Churn=False., CustServ_Calls=2)            0.096910   \n",
       "\n",
       "      support  confidence      lift  Number_of_instances  \n",
       "182  0.024002    0.086768  0.598752                 80.0  \n",
       "183  0.011401    0.117647  0.583508                 38.0  "
      ]
     },
     "execution_count": 22,
     "metadata": {},
     "output_type": "execute_result"
    }
   ],
   "source": [
    "rules6.tail(2)"
   ]
  },
  {
   "cell_type": "markdown",
   "metadata": {},
   "source": [
    "### Calculate the percent support and percent confidence"
   ]
  },
  {
   "cell_type": "code",
   "execution_count": 23,
   "metadata": {},
   "outputs": [
    {
     "data": {
      "text/html": [
       "<div>\n",
       "<style scoped>\n",
       "    .dataframe tbody tr th:only-of-type {\n",
       "        vertical-align: middle;\n",
       "    }\n",
       "\n",
       "    .dataframe tbody tr th {\n",
       "        vertical-align: top;\n",
       "    }\n",
       "\n",
       "    .dataframe thead th {\n",
       "        text-align: right;\n",
       "    }\n",
       "</style>\n",
       "<table border=\"1\" class=\"dataframe\">\n",
       "  <thead>\n",
       "    <tr style=\"text-align: right;\">\n",
       "      <th></th>\n",
       "      <th>antecedents</th>\n",
       "      <th>consequents</th>\n",
       "      <th>Number_of_instances</th>\n",
       "      <th>antecedent support</th>\n",
       "      <th>support_%</th>\n",
       "      <th>confidence_%</th>\n",
       "      <th>lift</th>\n",
       "    </tr>\n",
       "  </thead>\n",
       "  <tbody>\n",
       "    <tr>\n",
       "      <th>0</th>\n",
       "      <td>(CustServ_Calls=5)</td>\n",
       "      <td>(Churn=True., Intl_Plan=no)</td>\n",
       "      <td>34.0</td>\n",
       "      <td>0.019802</td>\n",
       "      <td>1.02</td>\n",
       "      <td>51.515</td>\n",
       "      <td>4.962428</td>\n",
       "    </tr>\n",
       "    <tr>\n",
       "      <th>1</th>\n",
       "      <td>(Intl_Plan=yes)</td>\n",
       "      <td>(VMail_Plan=yes, Churn=True.)</td>\n",
       "      <td>36.0</td>\n",
       "      <td>0.096910</td>\n",
       "      <td>1.08</td>\n",
       "      <td>11.146</td>\n",
       "      <td>4.643498</td>\n",
       "    </tr>\n",
       "    <tr>\n",
       "      <th>2</th>\n",
       "      <td>(Intl_Plan=yes)</td>\n",
       "      <td>(CustServ_Calls=0, Churn=True.)</td>\n",
       "      <td>39.0</td>\n",
       "      <td>0.096910</td>\n",
       "      <td>1.17</td>\n",
       "      <td>12.074</td>\n",
       "      <td>4.374310</td>\n",
       "    </tr>\n",
       "    <tr>\n",
       "      <th>3</th>\n",
       "      <td>(CustServ_Calls=5)</td>\n",
       "      <td>(Churn=True.)</td>\n",
       "      <td>40.0</td>\n",
       "      <td>0.019802</td>\n",
       "      <td>1.20</td>\n",
       "      <td>60.606</td>\n",
       "      <td>4.182195</td>\n",
       "    </tr>\n",
       "    <tr>\n",
       "      <th>4</th>\n",
       "      <td>(CustServ_Calls=4)</td>\n",
       "      <td>(Churn=True., Intl_Plan=no)</td>\n",
       "      <td>64.0</td>\n",
       "      <td>0.049805</td>\n",
       "      <td>1.92</td>\n",
       "      <td>38.554</td>\n",
       "      <td>3.713908</td>\n",
       "    </tr>\n",
       "  </tbody>\n",
       "</table>\n",
       "</div>"
      ],
      "text/plain": [
       "          antecedents                      consequents  Number_of_instances  \\\n",
       "0  (CustServ_Calls=5)      (Churn=True., Intl_Plan=no)                 34.0   \n",
       "1     (Intl_Plan=yes)    (VMail_Plan=yes, Churn=True.)                 36.0   \n",
       "2     (Intl_Plan=yes)  (CustServ_Calls=0, Churn=True.)                 39.0   \n",
       "3  (CustServ_Calls=5)                    (Churn=True.)                 40.0   \n",
       "4  (CustServ_Calls=4)      (Churn=True., Intl_Plan=no)                 64.0   \n",
       "\n",
       "   antecedent support  support_%  confidence_%      lift  \n",
       "0            0.019802       1.02        51.515  4.962428  \n",
       "1            0.096910       1.08        11.146  4.643498  \n",
       "2            0.096910       1.17        12.074  4.374310  \n",
       "3            0.019802       1.20        60.606  4.182195  \n",
       "4            0.049805       1.92        38.554  3.713908  "
      ]
     },
     "execution_count": 23,
     "metadata": {},
     "output_type": "execute_result"
    }
   ],
   "source": [
    "rules6 = pd.DataFrame(rules6)\n",
    "rules6['support_%'] = rules6.apply(lambda row: \n",
    "                                   round(row.support * 100,3), axis = 1) \n",
    "rules6['confidence_%'] = rules6.apply(lambda row: \n",
    "                                      round(row.confidence * 100,3), axis = 1) \n",
    "rules7 = rules6[['antecedents', 'consequents','Number_of_instances',\n",
    "                 'antecedent support', 'support_%', 'confidence_%','lift']]\n",
    "rules7.head()"
   ]
  },
  {
   "cell_type": "markdown",
   "metadata": {},
   "source": [
    "### Association rule with the greatest lift"
   ]
  },
  {
   "cell_type": "markdown",
   "metadata": {},
   "source": [
    "The rule with the greatest lift is if a customer makes 5 customer service calls than the customer is around 5 times as likely to churn and not have an international plan than the entire dataset. This information could be helpful to the bank when trying to understand what type of customers are churning."
   ]
  },
  {
   "cell_type": "code",
   "execution_count": 24,
   "metadata": {},
   "outputs": [
    {
     "data": {
      "text/plain": [
       "antecedents                     (CustServ_Calls=5)\n",
       "consequents            (Churn=True., Intl_Plan=no)\n",
       "Number_of_instances                             34\n",
       "antecedent support                        0.019802\n",
       "support_%                                     1.02\n",
       "confidence_%                                51.515\n",
       "lift                                       4.96243\n",
       "Name: 0, dtype: object"
      ]
     },
     "execution_count": 24,
     "metadata": {},
     "output_type": "execute_result"
    }
   ],
   "source": [
    "rules7.loc[0,:]"
   ]
  },
  {
   "cell_type": "markdown",
   "metadata": {},
   "source": [
    "### Conclusion "
   ]
  },
  {
   "cell_type": "code",
   "execution_count": 25,
   "metadata": {},
   "outputs": [
    {
     "data": {
      "text/plain": [
       "antecedents            (CustServ_Calls=5)\n",
       "consequents                 (Churn=True.)\n",
       "Number_of_instances                    40\n",
       "antecedent support               0.019802\n",
       "support_%                             1.2\n",
       "confidence_%                       60.606\n",
       "lift                              4.18219\n",
       "Name: 3, dtype: object"
      ]
     },
     "execution_count": 25,
     "metadata": {},
     "output_type": "execute_result"
    }
   ],
   "source": [
    "rules7.loc[3,:]"
   ]
  },
  {
   "cell_type": "markdown",
   "metadata": {},
   "source": [
    "Rules like the rule with the largest lift can give some useful insight into the dataset, but some other rules give a better picture into what is happening. A rule that can help the bank is rule number 4, which has customer service calls equal to five as the antecedent and a churn of true as the consequents. The lift is 4.18219, which could be viewed as a customer that makes five customer service calls is four times as likely to churn than the rest of the dataset. A rule that has a lift larger than one can be useful and give the bank information in to how customers are behaving, which could lead to less churn. "
   ]
  },
  {
   "cell_type": "code",
   "execution_count": null,
   "metadata": {},
   "outputs": [],
   "source": []
  }
 ],
 "metadata": {
  "kernelspec": {
   "display_name": "Python 3",
   "language": "python",
   "name": "python3"
  },
  "language_info": {
   "codemirror_mode": {
    "name": "ipython",
    "version": 3
   },
   "file_extension": ".py",
   "mimetype": "text/x-python",
   "name": "python",
   "nbconvert_exporter": "python",
   "pygments_lexer": "ipython3",
   "version": "3.6.8"
  }
 },
 "nbformat": 4,
 "nbformat_minor": 2
}
