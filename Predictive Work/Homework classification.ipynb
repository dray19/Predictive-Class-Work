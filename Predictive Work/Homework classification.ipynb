{
 "cells": [
  {
   "cell_type": "markdown",
   "metadata": {},
   "source": [
    "### Load libraries "
   ]
  },
  {
   "cell_type": "code",
   "execution_count": 1,
   "metadata": {},
   "outputs": [],
   "source": [
    "import pandas as pd\n",
    "import numpy as np \n",
    "import matplotlib.pyplot as plt\n",
    "import seaborn as sns\n",
    "import warnings\n",
    "warnings.filterwarnings(\"ignore\")\n",
    "from scipy.io import arff\n",
    "import os\n",
    "from sklearn.preprocessing import Imputer\n",
    "from scipy.stats import skew"
   ]
  },
  {
   "cell_type": "markdown",
   "metadata": {},
   "source": [
    "### Load Data"
   ]
  },
  {
   "cell_type": "markdown",
   "metadata": {},
   "source": [
    "I used the “arff” library to load the data for 3 years of polish companies bankruptcy data. "
   ]
  },
  {
   "cell_type": "code",
   "execution_count": 2,
   "metadata": {},
   "outputs": [],
   "source": [
    "os.chdir('/Users/drazenzack/Desktop/data_1')\n",
    "df3 = arff.loadarff('3year.arff')\n",
    "df2 = arff.loadarff('2year.arff')\n",
    "df1 = arff.loadarff('1year.arff')\n",
    "year3 = pd.DataFrame(df3[0])\n",
    "year2 = pd.DataFrame(df2[0])\n",
    "year1 = pd.DataFrame(df1[0])"
   ]
  },
  {
   "cell_type": "markdown",
   "metadata": {},
   "source": [
    "### Data Preprocessing"
   ]
  },
  {
   "cell_type": "markdown",
   "metadata": {},
   "source": [
    "Three separate years of data were merge together to create a new data frame. A count of the target variable was conducted to see that there is an imbalance in the variable. "
   ]
  },
  {
   "cell_type": "code",
   "execution_count": 3,
   "metadata": {},
   "outputs": [
    {
     "data": {
      "text/plain": [
       "0    26537\n",
       "1     1166\n",
       "Name: target, dtype: int64"
      ]
     },
     "execution_count": 3,
     "metadata": {},
     "output_type": "execute_result"
    }
   ],
   "source": [
    "### Merge Data\n",
    "df = pd.concat([year1, year2, year3], 0)\n",
    "df = df.reset_index()\n",
    "df.drop('index', axis = 1, inplace = True)\n",
    "df.rename(columns={'class':'target'}, inplace=True)\n",
    "df.replace({'target': b'1'}, int(1), inplace=True)\n",
    "df.replace({'target': b'0'}, int(0), inplace=True)\n",
    "df['target'].value_counts()"
   ]
  },
  {
   "cell_type": "markdown",
   "metadata": {},
   "source": [
    "#### Remove Duplicates"
   ]
  },
  {
   "cell_type": "markdown",
   "metadata": {},
   "source": [
    "A check to see if there were any duplicates was done. Results showed 518 duplicates. These duplicates were removed from the data set. "
   ]
  },
  {
   "cell_type": "code",
   "execution_count": 4,
   "metadata": {},
   "outputs": [
    {
     "name": "stdout",
     "output_type": "stream",
     "text": [
      "Records in dataset: 27703\n",
      "Number of duplicates in Dataset: 518\n",
      "Number of duplicates after droping duplicates: 0\n",
      "Records in dataset after droping duplicates: 27444\n"
     ]
    }
   ],
   "source": [
    "duplicates = df[df.duplicated(keep = False)]\n",
    "print('Records in dataset:',len(df))\n",
    "print('Number of duplicates in Dataset:',len(duplicates))\n",
    "df.drop_duplicates(inplace=True)\n",
    "print('Number of duplicates after droping duplicates:', len(df[df.duplicated(keep = False)]))\n",
    "print('Records in dataset after droping duplicates:',len(df))\n"
   ]
  },
  {
   "cell_type": "markdown",
   "metadata": {},
   "source": [
    "#### Count NaNs by Columns"
   ]
  },
  {
   "cell_type": "markdown",
   "metadata": {},
   "source": [
    "A check  was done to see if there were any “NaN” values. Results showed that all columns had “NaN” values but the target variable."
   ]
  },
  {
   "cell_type": "code",
   "execution_count": 5,
   "metadata": {},
   "outputs": [
    {
     "name": "stdout",
     "output_type": "stream",
     "text": [
      "        Count\n",
      "Attr1       4\n",
      "Attr2       4\n",
      "Attr3       4\n",
      "Attr4      69\n",
      "Attr5      57\n",
      "Attr6       4\n",
      "Attr7       4\n",
      "Attr8      56\n",
      "Attr9       8\n",
      "Attr10      4\n",
      "Attr11     40\n",
      "Attr12     69\n",
      "Attr13    105\n",
      "Attr14      4\n",
      "Attr15     22\n",
      "Attr16     57\n",
      "Attr17     56\n",
      "Attr18      4\n",
      "Attr19    106\n",
      "Attr20    105\n",
      "Attr21   5575\n",
      "Attr22      4\n",
      "Attr23    105\n",
      "Attr24    576\n",
      "Attr25      4\n",
      "Attr26     57\n",
      "Attr27   1725\n",
      "Attr28    469\n",
      "Attr29      4\n",
      "Attr30    105\n",
      "Attr31    105\n",
      "Attr32    225\n",
      "Attr33     69\n",
      "Attr34     56\n",
      "Attr35      4\n",
      "Attr36      4\n",
      "Attr37  11897\n",
      "Attr38      4\n",
      "Attr39    105\n",
      "Attr40     69\n",
      "Attr41    483\n",
      "Attr42    105\n",
      "Attr43    105\n",
      "Attr44    105\n",
      "Attr45   1255\n",
      "Attr46     70\n",
      "Attr47    189\n",
      "Attr48      5\n",
      "Attr49    105\n",
      "Attr50     56\n",
      "Attr51      4\n",
      "Attr52    189\n",
      "Attr53    469\n",
      "Attr54    469\n",
      "Attr55      1\n",
      "Attr56    105\n",
      "Attr57      3\n",
      "Attr58     67\n",
      "Attr59      3\n",
      "Attr60   1259\n",
      "Attr61     54\n",
      "Attr62    105\n",
      "Attr63     69\n",
      "Attr64    469\n",
      "target      0\n"
     ]
    }
   ],
   "source": [
    "pd.set_option('display.max_rows', 100)\n",
    "pd.set_option('display.max_columns', 100)\n",
    "na_columns = pd.DataFrame(df.isnull().sum(), columns = ['Count'])\n",
    "print(na_columns)"
   ]
  },
  {
   "cell_type": "markdown",
   "metadata": {},
   "source": [
    "#### Fill in NaN's with Column Median"
   ]
  },
  {
   "cell_type": "markdown",
   "metadata": {},
   "source": [
    "Instead of just removing all rows with “NaN”, the median was taken for each column and placed in the spot of the “NaN” value. "
   ]
  },
  {
   "cell_type": "code",
   "execution_count": 6,
   "metadata": {},
   "outputs": [
    {
     "name": "stderr",
     "output_type": "stream",
     "text": [
      "/anaconda3/envs/coding/lib/python3.6/site-packages/sklearn/utils/deprecation.py:66: DeprecationWarning: Class Imputer is deprecated; Imputer was deprecated in version 0.20 and will be removed in 0.22. Import impute.SimpleImputer from sklearn instead.\n",
      "  warnings.warn(msg, category=DeprecationWarning)\n"
     ]
    },
    {
     "name": "stdout",
     "output_type": "stream",
     "text": [
      "        Count\n",
      "Attr1       0\n",
      "Attr2       0\n",
      "Attr3       0\n",
      "Attr4       0\n",
      "Attr5       0\n",
      "Attr6       0\n",
      "Attr7       0\n",
      "Attr8       0\n",
      "Attr9       0\n",
      "Attr10      0\n",
      "Attr11      0\n",
      "Attr12      0\n",
      "Attr13      0\n",
      "Attr14      0\n",
      "Attr15      0\n",
      "Attr16      0\n",
      "Attr17      0\n",
      "Attr18      0\n",
      "Attr19      0\n",
      "Attr20      0\n",
      "Attr21      0\n",
      "Attr22      0\n",
      "Attr23      0\n",
      "Attr24      0\n",
      "Attr25      0\n",
      "Attr26      0\n",
      "Attr27      0\n",
      "Attr28      0\n",
      "Attr29      0\n",
      "Attr30      0\n",
      "Attr31      0\n",
      "Attr32      0\n",
      "Attr33      0\n",
      "Attr34      0\n",
      "Attr35      0\n",
      "Attr36      0\n",
      "Attr37      0\n",
      "Attr38      0\n",
      "Attr39      0\n",
      "Attr40      0\n",
      "Attr41      0\n",
      "Attr42      0\n",
      "Attr43      0\n",
      "Attr44      0\n",
      "Attr45      0\n",
      "Attr46      0\n",
      "Attr47      0\n",
      "Attr48      0\n",
      "Attr49      0\n",
      "Attr50      0\n",
      "Attr51      0\n",
      "Attr52      0\n",
      "Attr53      0\n",
      "Attr54      0\n",
      "Attr55      0\n",
      "Attr56      0\n",
      "Attr57      0\n",
      "Attr58      0\n",
      "Attr59      0\n",
      "Attr60      0\n",
      "Attr61      0\n",
      "Attr62      0\n",
      "Attr63      0\n",
      "Attr64      0\n",
      "target      0\n"
     ]
    }
   ],
   "source": [
    "im = Imputer(missing_values = 'NaN', strategy = 'median', axis = 0)\n",
    "im = im.fit(df)\n",
    "im_df = im.transform(df.values)\n",
    "im_df\n",
    "df_clean = pd.DataFrame(im_df, columns = df.columns) \n",
    "na_columns2 = pd.DataFrame(df_clean.isnull().sum(), columns = ['Count'])\n",
    "print(na_columns2)"
   ]
  },
  {
   "cell_type": "markdown",
   "metadata": {},
   "source": [
    "### EDA"
   ]
  },
  {
   "cell_type": "markdown",
   "metadata": {},
   "source": [
    "#### Count of Target Variable "
   ]
  },
  {
   "cell_type": "markdown",
   "metadata": {},
   "source": [
    "The bar chart shows that there is a big difference in the levels for the target variable. This could be a problem down the road when modeling for classification. "
   ]
  },
  {
   "cell_type": "code",
   "execution_count": 7,
   "metadata": {},
   "outputs": [
    {
     "data": {
      "text/plain": [
       "0.0    26282\n",
       "1.0     1162\n",
       "Name: target, dtype: int64"
      ]
     },
     "execution_count": 7,
     "metadata": {},
     "output_type": "execute_result"
    },
    {
     "data": {
      "image/png": "[encoded data removed]",
      "text/plain": [
       "<Figure size 432x288 with 1 Axes>"
      ]
     },
     "metadata": {
      "needs_background": "light"
     },
     "output_type": "display_data"
    }
   ],
   "source": [
    "sns.countplot(df_clean.target, label = \"Count\")\n",
    "df_clean.target.value_counts()"
   ]
  },
  {
   "cell_type": "markdown",
   "metadata": {},
   "source": [
    "### High Correlation Variables"
   ]
  },
  {
   "cell_type": "markdown",
   "metadata": {},
   "source": [
    "From looking at the top 10 highest correlated variables, there seems to be many highly correlated variables. If Logistic regression was chosen as the model technique this could become a problem."
   ]
  },
  {
   "cell_type": "code",
   "execution_count": 8,
   "metadata": {},
   "outputs": [
    {
     "name": "stdout",
     "output_type": "stream",
     "text": [
      "Correlation Greater Than 0.8\n"
     ]
    },
    {
     "data": {
      "text/plain": [
       "Attr7   Attr14    1.000000\n",
       "Attr4   Attr46    0.999916\n",
       "Attr20  Attr56    0.999907\n",
       "Attr10  Attr38    0.999901\n",
       "Attr19  Attr31    0.999824\n",
       "Attr43  Attr44    0.999776\n",
       "Attr19  Attr23    0.999697\n",
       "Attr53  Attr54    0.999595\n",
       "Attr23  Attr31    0.999525\n",
       "Attr8   Attr17    0.999162\n",
       "dtype: float64"
      ]
     },
     "execution_count": 8,
     "metadata": {},
     "output_type": "execute_result"
    }
   ],
   "source": [
    "def get_redundant_pairs(df):\n",
    "    pairs_to_drop = set()\n",
    "    cols = df.columns\n",
    "    for i in range(0, df.shape[1]):\n",
    "        for j in range(0, i+1):\n",
    "            pairs_to_drop.add((cols[i], cols[j]))\n",
    "    return pairs_to_drop\n",
    "def get_top_abs_correlations(df, n=5):\n",
    "    au_corr = df.corr().abs().unstack()\n",
    "    labels_to_drop = get_redundant_pairs(df)\n",
    "    au_corr = au_corr.drop(labels=labels_to_drop).sort_values(ascending=False)\n",
    "    return au_corr[0:n]\n",
    "print('Correlation Greater Than 0.8')\n",
    "get_top_abs_correlations(df_clean,10)"
   ]
  },
  {
   "cell_type": "markdown",
   "metadata": {},
   "source": [
    "#### Summary Statistics"
   ]
  },
  {
   "cell_type": "code",
   "execution_count": 9,
   "metadata": {},
   "outputs": [
    {
     "data": {
      "text/html": [
       "<div>\n",
       "<style scoped>\n",
       "    .dataframe tbody tr th:only-of-type {\n",
       "        vertical-align: middle;\n",
       "    }\n",
       "\n",
       "    .dataframe tbody tr th {\n",
       "        vertical-align: top;\n",
       "    }\n",
       "\n",
       "    .dataframe thead th {\n",
       "        text-align: right;\n",
       "    }\n",
       "</style>\n",
       "<table border=\"1\" class=\"dataframe\">\n",
       "  <thead>\n",
       "    <tr style=\"text-align: right;\">\n",
       "      <th></th>\n",
       "      <th>Attr1</th>\n",
       "      <th>Attr2</th>\n",
       "      <th>Attr3</th>\n",
       "      <th>Attr4</th>\n",
       "      <th>Attr5</th>\n",
       "      <th>Attr6</th>\n",
       "      <th>Attr7</th>\n",
       "      <th>Attr8</th>\n",
       "      <th>Attr9</th>\n",
       "      <th>Attr10</th>\n",
       "      <th>Attr11</th>\n",
       "      <th>Attr12</th>\n",
       "      <th>Attr13</th>\n",
       "      <th>Attr14</th>\n",
       "      <th>Attr15</th>\n",
       "      <th>Attr16</th>\n",
       "      <th>Attr17</th>\n",
       "      <th>Attr18</th>\n",
       "      <th>Attr19</th>\n",
       "      <th>Attr20</th>\n",
       "      <th>Attr21</th>\n",
       "      <th>Attr22</th>\n",
       "      <th>Attr23</th>\n",
       "      <th>Attr24</th>\n",
       "      <th>Attr25</th>\n",
       "      <th>Attr26</th>\n",
       "      <th>Attr27</th>\n",
       "      <th>Attr28</th>\n",
       "      <th>Attr29</th>\n",
       "      <th>Attr30</th>\n",
       "      <th>Attr31</th>\n",
       "      <th>Attr32</th>\n",
       "      <th>Attr33</th>\n",
       "      <th>Attr34</th>\n",
       "      <th>Attr35</th>\n",
       "      <th>Attr36</th>\n",
       "      <th>Attr37</th>\n",
       "      <th>Attr38</th>\n",
       "      <th>Attr39</th>\n",
       "      <th>Attr40</th>\n",
       "      <th>Attr41</th>\n",
       "      <th>Attr42</th>\n",
       "      <th>Attr43</th>\n",
       "      <th>Attr44</th>\n",
       "      <th>Attr45</th>\n",
       "      <th>Attr46</th>\n",
       "      <th>Attr47</th>\n",
       "      <th>Attr48</th>\n",
       "      <th>Attr49</th>\n",
       "      <th>Attr50</th>\n",
       "      <th>Attr51</th>\n",
       "      <th>Attr52</th>\n",
       "      <th>Attr53</th>\n",
       "      <th>Attr54</th>\n",
       "      <th>Attr55</th>\n",
       "      <th>Attr56</th>\n",
       "      <th>Attr57</th>\n",
       "      <th>Attr58</th>\n",
       "      <th>Attr59</th>\n",
       "      <th>Attr60</th>\n",
       "      <th>Attr61</th>\n",
       "      <th>Attr62</th>\n",
       "      <th>Attr63</th>\n",
       "      <th>Attr64</th>\n",
       "      <th>target</th>\n",
       "    </tr>\n",
       "  </thead>\n",
       "  <tbody>\n",
       "    <tr>\n",
       "      <th>count</th>\n",
       "      <td>27444.000000</td>\n",
       "      <td>27444.000000</td>\n",
       "      <td>27444.000000</td>\n",
       "      <td>27444.000000</td>\n",
       "      <td>2.744400e+04</td>\n",
       "      <td>27444.000000</td>\n",
       "      <td>27444.000000</td>\n",
       "      <td>27444.000000</td>\n",
       "      <td>27444.000000</td>\n",
       "      <td>27444.000000</td>\n",
       "      <td>27444.000000</td>\n",
       "      <td>27444.000000</td>\n",
       "      <td>27444.000000</td>\n",
       "      <td>27444.000000</td>\n",
       "      <td>2.744400e+04</td>\n",
       "      <td>27444.000000</td>\n",
       "      <td>27444.000000</td>\n",
       "      <td>27444.000000</td>\n",
       "      <td>27444.000000</td>\n",
       "      <td>2.744400e+04</td>\n",
       "      <td>27444.000000</td>\n",
       "      <td>27444.000000</td>\n",
       "      <td>27444.000000</td>\n",
       "      <td>27444.000000</td>\n",
       "      <td>27444.000000</td>\n",
       "      <td>27444.000000</td>\n",
       "      <td>2.744400e+04</td>\n",
       "      <td>27444.000000</td>\n",
       "      <td>27444.000000</td>\n",
       "      <td>27444.000000</td>\n",
       "      <td>27444.000000</td>\n",
       "      <td>2.744400e+04</td>\n",
       "      <td>27444.000000</td>\n",
       "      <td>27444.000000</td>\n",
       "      <td>27444.000000</td>\n",
       "      <td>27444.000000</td>\n",
       "      <td>27444.000000</td>\n",
       "      <td>27444.000000</td>\n",
       "      <td>27444.000000</td>\n",
       "      <td>27444.000000</td>\n",
       "      <td>27444.000000</td>\n",
       "      <td>27444.000000</td>\n",
       "      <td>2.744400e+04</td>\n",
       "      <td>2.744400e+04</td>\n",
       "      <td>27444.000000</td>\n",
       "      <td>27444.000000</td>\n",
       "      <td>2.744400e+04</td>\n",
       "      <td>27444.000000</td>\n",
       "      <td>27444.000000</td>\n",
       "      <td>27444.000000</td>\n",
       "      <td>27444.000000</td>\n",
       "      <td>27444.000000</td>\n",
       "      <td>27444.000000</td>\n",
       "      <td>27444.000000</td>\n",
       "      <td>2.744400e+04</td>\n",
       "      <td>2.744400e+04</td>\n",
       "      <td>27444.000000</td>\n",
       "      <td>2.744400e+04</td>\n",
       "      <td>27444.000000</td>\n",
       "      <td>2.744400e+04</td>\n",
       "      <td>27444.000000</td>\n",
       "      <td>2.744400e+04</td>\n",
       "      <td>27444.000000</td>\n",
       "      <td>27444.000000</td>\n",
       "      <td>27444.000000</td>\n",
       "    </tr>\n",
       "    <tr>\n",
       "      <th>mean</th>\n",
       "      <td>0.053664</td>\n",
       "      <td>0.616500</td>\n",
       "      <td>0.091843</td>\n",
       "      <td>5.991705</td>\n",
       "      <td>-6.354564e+02</td>\n",
       "      <td>-0.073594</td>\n",
       "      <td>0.156702</td>\n",
       "      <td>10.522444</td>\n",
       "      <td>3.026919</td>\n",
       "      <td>0.694479</td>\n",
       "      <td>0.188360</td>\n",
       "      <td>1.463553</td>\n",
       "      <td>1.051384</td>\n",
       "      <td>0.156709</td>\n",
       "      <td>1.834662e+03</td>\n",
       "      <td>1.732712</td>\n",
       "      <td>11.722971</td>\n",
       "      <td>0.160906</td>\n",
       "      <td>0.266055</td>\n",
       "      <td>3.482699e+02</td>\n",
       "      <td>4.566473</td>\n",
       "      <td>0.164443</td>\n",
       "      <td>0.258191</td>\n",
       "      <td>0.309804</td>\n",
       "      <td>0.407215</td>\n",
       "      <td>1.580685</td>\n",
       "      <td>1.174656e+03</td>\n",
       "      <td>4.845649</td>\n",
       "      <td>3.988367</td>\n",
       "      <td>9.515227</td>\n",
       "      <td>0.271718</td>\n",
       "      <td>1.248579e+03</td>\n",
       "      <td>8.785994</td>\n",
       "      <td>5.677064</td>\n",
       "      <td>0.156834</td>\n",
       "      <td>3.266074</td>\n",
       "      <td>63.946057</td>\n",
       "      <td>0.789925</td>\n",
       "      <td>-0.079805</td>\n",
       "      <td>1.812461</td>\n",
       "      <td>11.189372</td>\n",
       "      <td>-0.091283</td>\n",
       "      <td>1.396730e+03</td>\n",
       "      <td>1.048434e+03</td>\n",
       "      <td>6.744382</td>\n",
       "      <td>5.096809</td>\n",
       "      <td>4.919469e+02</td>\n",
       "      <td>0.072812</td>\n",
       "      <td>-0.563331</td>\n",
       "      <td>5.769883</td>\n",
       "      <td>0.502324</td>\n",
       "      <td>6.461412</td>\n",
       "      <td>32.280332</td>\n",
       "      <td>33.009113</td>\n",
       "      <td>6.930179e+03</td>\n",
       "      <td>-4.100645e+01</td>\n",
       "      <td>0.028801</td>\n",
       "      <td>4.678112e+01</td>\n",
       "      <td>1.733496</td>\n",
       "      <td>4.470619e+02</td>\n",
       "      <td>15.495428</td>\n",
       "      <td>1.589550e+03</td>\n",
       "      <td>9.648858</td>\n",
       "      <td>85.505594</td>\n",
       "      <td>0.042341</td>\n",
       "    </tr>\n",
       "    <tr>\n",
       "      <th>std</th>\n",
       "      <td>1.883338</td>\n",
       "      <td>6.273148</td>\n",
       "      <td>6.250680</td>\n",
       "      <td>325.294355</td>\n",
       "      <td>7.578004e+04</td>\n",
       "      <td>6.630136</td>\n",
       "      <td>5.703725</td>\n",
       "      <td>442.504206</td>\n",
       "      <td>74.855726</td>\n",
       "      <td>17.063258</td>\n",
       "      <td>5.930096</td>\n",
       "      <td>70.516442</td>\n",
       "      <td>105.834658</td>\n",
       "      <td>5.703725</td>\n",
       "      <td>8.556671e+04</td>\n",
       "      <td>70.074982</td>\n",
       "      <td>445.031184</td>\n",
       "      <td>5.724927</td>\n",
       "      <td>59.151884</td>\n",
       "      <td>4.714747e+04</td>\n",
       "      <td>263.427312</td>\n",
       "      <td>5.778786</td>\n",
       "      <td>58.943319</td>\n",
       "      <td>7.885613</td>\n",
       "      <td>13.564992</td>\n",
       "      <td>68.515658</td>\n",
       "      <td>3.827236e+04</td>\n",
       "      <td>97.803850</td>\n",
       "      <td>0.805482</td>\n",
       "      <td>1002.331023</td>\n",
       "      <td>59.229010</td>\n",
       "      <td>1.130485e+05</td>\n",
       "      <td>135.462562</td>\n",
       "      <td>140.434363</td>\n",
       "      <td>5.410476</td>\n",
       "      <td>74.722766</td>\n",
       "      <td>2776.189869</td>\n",
       "      <td>17.062123</td>\n",
       "      <td>17.773419</td>\n",
       "      <td>38.588241</td>\n",
       "      <td>1743.257302</td>\n",
       "      <td>18.176397</td>\n",
       "      <td>1.838316e+05</td>\n",
       "      <td>1.368048e+05</td>\n",
       "      <td>1992.535167</td>\n",
       "      <td>325.195491</td>\n",
       "      <td>4.149734e+04</td>\n",
       "      <td>5.334669</td>\n",
       "      <td>55.905879</td>\n",
       "      <td>343.289973</td>\n",
       "      <td>6.253707</td>\n",
       "      <td>598.353865</td>\n",
       "      <td>1503.969346</td>\n",
       "      <td>1511.053881</td>\n",
       "      <td>6.556030e+04</td>\n",
       "      <td>6.690409e+03</td>\n",
       "      <td>13.926933</td>\n",
       "      <td>6.702156e+03</td>\n",
       "      <td>152.709484</td>\n",
       "      <td>2.689067e+04</td>\n",
       "      <td>229.141271</td>\n",
       "      <td>1.602805e+05</td>\n",
       "      <td>143.937625</td>\n",
       "      <td>2763.197811</td>\n",
       "      <td>0.201369</td>\n",
       "    </tr>\n",
       "    <tr>\n",
       "      <th>min</th>\n",
       "      <td>-256.890000</td>\n",
       "      <td>-72.162000</td>\n",
       "      <td>-479.960000</td>\n",
       "      <td>0.000000</td>\n",
       "      <td>-1.190300e+07</td>\n",
       "      <td>-508.410000</td>\n",
       "      <td>-189.560000</td>\n",
       "      <td>-141.410000</td>\n",
       "      <td>-1.215700</td>\n",
       "      <td>-479.910000</td>\n",
       "      <td>-189.450000</td>\n",
       "      <td>-1543.800000</td>\n",
       "      <td>-1317.600000</td>\n",
       "      <td>-189.560000</td>\n",
       "      <td>-5.611900e+06</td>\n",
       "      <td>-214.670000</td>\n",
       "      <td>-0.412920</td>\n",
       "      <td>-189.560000</td>\n",
       "      <td>-1325.600000</td>\n",
       "      <td>-1.438600e-03</td>\n",
       "      <td>-1325.000000</td>\n",
       "      <td>-216.800000</td>\n",
       "      <td>-1325.600000</td>\n",
       "      <td>-189.560000</td>\n",
       "      <td>-500.930000</td>\n",
       "      <td>-214.670000</td>\n",
       "      <td>-1.901300e+05</td>\n",
       "      <td>-3829.900000</td>\n",
       "      <td>-0.886060</td>\n",
       "      <td>-6351.700000</td>\n",
       "      <td>-1325.600000</td>\n",
       "      <td>-9.295600e+03</td>\n",
       "      <td>-19.197000</td>\n",
       "      <td>-1696.000000</td>\n",
       "      <td>-169.470000</td>\n",
       "      <td>-0.000857</td>\n",
       "      <td>-525.520000</td>\n",
       "      <td>-479.910000</td>\n",
       "      <td>-1395.800000</td>\n",
       "      <td>-101.270000</td>\n",
       "      <td>-1234.400000</td>\n",
       "      <td>-1395.800000</td>\n",
       "      <td>-4.853200e+04</td>\n",
       "      <td>-4.853200e+04</td>\n",
       "      <td>-256230.000000</td>\n",
       "      <td>-101.260000</td>\n",
       "      <td>-9.611000e+01</td>\n",
       "      <td>-218.420000</td>\n",
       "      <td>-9001.000000</td>\n",
       "      <td>0.000000</td>\n",
       "      <td>0.000000</td>\n",
       "      <td>-25.467000</td>\n",
       "      <td>-3828.900000</td>\n",
       "      <td>-3828.900000</td>\n",
       "      <td>-1.805200e+06</td>\n",
       "      <td>-1.108300e+06</td>\n",
       "      <td>-1667.300000</td>\n",
       "      <td>-1.986900e+02</td>\n",
       "      <td>-327.970000</td>\n",
       "      <td>0.000000e+00</td>\n",
       "      <td>-6.590300</td>\n",
       "      <td>-2.336500e+06</td>\n",
       "      <td>-0.367890</td>\n",
       "      <td>-10677.000000</td>\n",
       "      <td>0.000000</td>\n",
       "    </tr>\n",
       "    <tr>\n",
       "      <th>25%</th>\n",
       "      <td>0.004100</td>\n",
       "      <td>0.275062</td>\n",
       "      <td>0.017886</td>\n",
       "      <td>1.043075</td>\n",
       "      <td>-4.926500e+01</td>\n",
       "      <td>0.000000</td>\n",
       "      <td>0.007087</td>\n",
       "      <td>0.421030</td>\n",
       "      <td>1.024300</td>\n",
       "      <td>0.290403</td>\n",
       "      <td>0.018379</td>\n",
       "      <td>0.017882</td>\n",
       "      <td>0.024960</td>\n",
       "      <td>0.007087</td>\n",
       "      <td>2.218775e+02</td>\n",
       "      <td>0.077495</td>\n",
       "      <td>1.440600</td>\n",
       "      <td>0.007087</td>\n",
       "      <td>0.004574</td>\n",
       "      <td>1.491850e+01</td>\n",
       "      <td>0.927400</td>\n",
       "      <td>0.000000</td>\n",
       "      <td>0.002789</td>\n",
       "      <td>0.029295</td>\n",
       "      <td>0.148097</td>\n",
       "      <td>0.070357</td>\n",
       "      <td>1.270775e-01</td>\n",
       "      <td>0.037415</td>\n",
       "      <td>3.493500</td>\n",
       "      <td>0.082444</td>\n",
       "      <td>0.008092</td>\n",
       "      <td>4.571300e+01</td>\n",
       "      <td>2.885150</td>\n",
       "      <td>0.330290</td>\n",
       "      <td>0.008026</td>\n",
       "      <td>1.139875</td>\n",
       "      <td>2.374075</td>\n",
       "      <td>0.417195</td>\n",
       "      <td>0.005239</td>\n",
       "      <td>0.053510</td>\n",
       "      <td>0.027462</td>\n",
       "      <td>0.000000</td>\n",
       "      <td>6.430150e+01</td>\n",
       "      <td>3.356750e+01</td>\n",
       "      <td>0.032383</td>\n",
       "      <td>0.596550</td>\n",
       "      <td>1.581900e+01</td>\n",
       "      <td>-0.036481</td>\n",
       "      <td>-0.024004</td>\n",
       "      <td>0.766535</td>\n",
       "      <td>0.193725</td>\n",
       "      <td>0.125040</td>\n",
       "      <td>0.682570</td>\n",
       "      <td>0.959353</td>\n",
       "      <td>2.135875e+01</td>\n",
       "      <td>1.139075e-02</td>\n",
       "      <td>0.017674</td>\n",
       "      <td>8.721500e-01</td>\n",
       "      <td>0.000000</td>\n",
       "      <td>5.856675e+00</td>\n",
       "      <td>4.655750</td>\n",
       "      <td>4.131050e+01</td>\n",
       "      <td>3.176100</td>\n",
       "      <td>2.286400</td>\n",
       "      <td>0.000000</td>\n",
       "    </tr>\n",
       "    <tr>\n",
       "      <th>50%</th>\n",
       "      <td>0.054147</td>\n",
       "      <td>0.478290</td>\n",
       "      <td>0.190525</td>\n",
       "      <td>1.546600</td>\n",
       "      <td>-1.608700e+00</td>\n",
       "      <td>0.000000</td>\n",
       "      <td>0.065117</td>\n",
       "      <td>1.043800</td>\n",
       "      <td>1.233150</td>\n",
       "      <td>0.499760</td>\n",
       "      <td>0.082282</td>\n",
       "      <td>0.184890</td>\n",
       "      <td>0.070347</td>\n",
       "      <td>0.065124</td>\n",
       "      <td>8.238550e+02</td>\n",
       "      <td>0.257230</td>\n",
       "      <td>2.086850</td>\n",
       "      <td>0.065124</td>\n",
       "      <td>0.037781</td>\n",
       "      <td>3.424000e+01</td>\n",
       "      <td>1.025900</td>\n",
       "      <td>0.067728</td>\n",
       "      <td>0.031382</td>\n",
       "      <td>0.155245</td>\n",
       "      <td>0.373560</td>\n",
       "      <td>0.231510</td>\n",
       "      <td>1.146400e+00</td>\n",
       "      <td>0.452750</td>\n",
       "      <td>3.986550</td>\n",
       "      <td>0.212440</td>\n",
       "      <td>0.045000</td>\n",
       "      <td>7.696700e+01</td>\n",
       "      <td>4.716600</td>\n",
       "      <td>2.031800</td>\n",
       "      <td>0.066158</td>\n",
       "      <td>1.703800</td>\n",
       "      <td>2.960700</td>\n",
       "      <td>0.609535</td>\n",
       "      <td>0.038816</td>\n",
       "      <td>0.174960</td>\n",
       "      <td>0.082960</td>\n",
       "      <td>0.040074</td>\n",
       "      <td>9.590300e+01</td>\n",
       "      <td>5.272300e+01</td>\n",
       "      <td>0.307800</td>\n",
       "      <td>1.012950</td>\n",
       "      <td>3.717800e+01</td>\n",
       "      <td>0.023109</td>\n",
       "      <td>0.013322</td>\n",
       "      <td>1.205400</td>\n",
       "      <td>0.344830</td>\n",
       "      <td>0.210380</td>\n",
       "      <td>1.189200</td>\n",
       "      <td>1.367200</td>\n",
       "      <td>1.017800e+03</td>\n",
       "      <td>5.563000e-02</td>\n",
       "      <td>0.131350</td>\n",
       "      <td>9.482800e-01</td>\n",
       "      <td>0.008631</td>\n",
       "      <td>1.010900e+01</td>\n",
       "      <td>6.895350</td>\n",
       "      <td>6.965200e+01</td>\n",
       "      <td>5.211100</td>\n",
       "      <td>4.417400</td>\n",
       "      <td>0.000000</td>\n",
       "    </tr>\n",
       "    <tr>\n",
       "      <th>75%</th>\n",
       "      <td>0.139440</td>\n",
       "      <td>0.693933</td>\n",
       "      <td>0.397613</td>\n",
       "      <td>2.724700</td>\n",
       "      <td>4.942425e+01</td>\n",
       "      <td>0.093021</td>\n",
       "      <td>0.162595</td>\n",
       "      <td>2.536350</td>\n",
       "      <td>2.154600</td>\n",
       "      <td>0.703825</td>\n",
       "      <td>0.180268</td>\n",
       "      <td>0.624297</td>\n",
       "      <td>0.136560</td>\n",
       "      <td>0.162595</td>\n",
       "      <td>2.164725e+03</td>\n",
       "      <td>0.693130</td>\n",
       "      <td>3.611325</td>\n",
       "      <td>0.162653</td>\n",
       "      <td>0.093959</td>\n",
       "      <td>6.216850e+01</td>\n",
       "      <td>1.131800</td>\n",
       "      <td>0.162793</td>\n",
       "      <td>0.080247</td>\n",
       "      <td>0.348263</td>\n",
       "      <td>0.602132</td>\n",
       "      <td>0.622622</td>\n",
       "      <td>4.680100e+00</td>\n",
       "      <td>1.428225</td>\n",
       "      <td>4.487525</td>\n",
       "      <td>0.398390</td>\n",
       "      <td>0.104245</td>\n",
       "      <td>1.246650e+02</td>\n",
       "      <td>7.943425</td>\n",
       "      <td>4.692925</td>\n",
       "      <td>0.163570</td>\n",
       "      <td>2.522400</td>\n",
       "      <td>3.817450</td>\n",
       "      <td>0.768715</td>\n",
       "      <td>0.095163</td>\n",
       "      <td>0.640605</td>\n",
       "      <td>0.197800</td>\n",
       "      <td>0.095683</td>\n",
       "      <td>1.362125e+02</td>\n",
       "      <td>7.785100e+01</td>\n",
       "      <td>0.979805</td>\n",
       "      <td>1.868700</td>\n",
       "      <td>6.886500e+01</td>\n",
       "      <td>0.119072</td>\n",
       "      <td>0.066916</td>\n",
       "      <td>2.151725</td>\n",
       "      <td>0.539455</td>\n",
       "      <td>0.341222</td>\n",
       "      <td>2.160625</td>\n",
       "      <td>2.310725</td>\n",
       "      <td>4.584950e+03</td>\n",
       "      <td>1.331425e-01</td>\n",
       "      <td>0.309355</td>\n",
       "      <td>9.915600e-01</td>\n",
       "      <td>0.253563</td>\n",
       "      <td>2.023950e+01</td>\n",
       "      <td>10.813000</td>\n",
       "      <td>1.140100e+02</td>\n",
       "      <td>8.794550</td>\n",
       "      <td>9.857800</td>\n",
       "      <td>0.000000</td>\n",
       "    </tr>\n",
       "    <tr>\n",
       "      <th>max</th>\n",
       "      <td>94.280000</td>\n",
       "      <td>480.960000</td>\n",
       "      <td>17.708000</td>\n",
       "      <td>53433.000000</td>\n",
       "      <td>9.909000e+05</td>\n",
       "      <td>303.670000</td>\n",
       "      <td>649.230000</td>\n",
       "      <td>53432.000000</td>\n",
       "      <td>9742.300000</td>\n",
       "      <td>1099.500000</td>\n",
       "      <td>681.540000</td>\n",
       "      <td>8259.400000</td>\n",
       "      <td>13315.000000</td>\n",
       "      <td>649.230000</td>\n",
       "      <td>1.023600e+07</td>\n",
       "      <td>8259.400000</td>\n",
       "      <td>53433.000000</td>\n",
       "      <td>649.230000</td>\n",
       "      <td>9230.500000</td>\n",
       "      <td>7.809200e+06</td>\n",
       "      <td>29907.000000</td>\n",
       "      <td>681.540000</td>\n",
       "      <td>9230.500000</td>\n",
       "      <td>831.660000</td>\n",
       "      <td>1353.300000</td>\n",
       "      <td>8262.300000</td>\n",
       "      <td>4.208800e+06</td>\n",
       "      <td>10033.000000</td>\n",
       "      <td>9.619900</td>\n",
       "      <td>152860.000000</td>\n",
       "      <td>9244.300000</td>\n",
       "      <td>1.736400e+07</td>\n",
       "      <td>21944.000000</td>\n",
       "      <td>21944.000000</td>\n",
       "      <td>626.920000</td>\n",
       "      <td>9742.300000</td>\n",
       "      <td>398920.000000</td>\n",
       "      <td>1099.500000</td>\n",
       "      <td>2156.500000</td>\n",
       "      <td>4849.300000</td>\n",
       "      <td>288770.000000</td>\n",
       "      <td>2156.800000</td>\n",
       "      <td>3.039300e+07</td>\n",
       "      <td>2.258400e+07</td>\n",
       "      <td>113820.000000</td>\n",
       "      <td>53433.000000</td>\n",
       "      <td>6.084200e+06</td>\n",
       "      <td>623.850000</td>\n",
       "      <td>178.890000</td>\n",
       "      <td>53433.000000</td>\n",
       "      <td>480.960000</td>\n",
       "      <td>84827.000000</td>\n",
       "      <td>180440.000000</td>\n",
       "      <td>180440.000000</td>\n",
       "      <td>4.398400e+06</td>\n",
       "      <td>2.931500e+02</td>\n",
       "      <td>552.640000</td>\n",
       "      <td>1.108300e+06</td>\n",
       "      <td>23853.000000</td>\n",
       "      <td>3.660200e+06</td>\n",
       "      <td>26862.000000</td>\n",
       "      <td>2.501600e+07</td>\n",
       "      <td>23454.000000</td>\n",
       "      <td>294770.000000</td>\n",
       "      <td>1.000000</td>\n",
       "    </tr>\n",
       "  </tbody>\n",
       "</table>\n",
       "</div>"
      ],
      "text/plain": [
       "              Attr1         Attr2         Attr3         Attr4         Attr5  \\\n",
       "count  27444.000000  27444.000000  27444.000000  27444.000000  2.744400e+04   \n",
       "mean       0.053664      0.616500      0.091843      5.991705 -6.354564e+02   \n",
       "std        1.883338      6.273148      6.250680    325.294355  7.578004e+04   \n",
       "min     -256.890000    -72.162000   -479.960000      0.000000 -1.190300e+07   \n",
       "25%        0.004100      0.275062      0.017886      1.043075 -4.926500e+01   \n",
       "50%        0.054147      0.478290      0.190525      1.546600 -1.608700e+00   \n",
       "75%        0.139440      0.693933      0.397613      2.724700  4.942425e+01   \n",
       "max       94.280000    480.960000     17.708000  53433.000000  9.909000e+05   \n",
       "\n",
       "              Attr6         Attr7         Attr8         Attr9        Attr10  \\\n",
       "count  27444.000000  27444.000000  27444.000000  27444.000000  27444.000000   \n",
       "mean      -0.073594      0.156702     10.522444      3.026919      0.694479   \n",
       "std        6.630136      5.703725    442.504206     74.855726     17.063258   \n",
       "min     -508.410000   -189.560000   -141.410000     -1.215700   -479.910000   \n",
       "25%        0.000000      0.007087      0.421030      1.024300      0.290403   \n",
       "50%        0.000000      0.065117      1.043800      1.233150      0.499760   \n",
       "75%        0.093021      0.162595      2.536350      2.154600      0.703825   \n",
       "max      303.670000    649.230000  53432.000000   9742.300000   1099.500000   \n",
       "\n",
       "             Attr11        Attr12        Attr13        Attr14        Attr15  \\\n",
       "count  27444.000000  27444.000000  27444.000000  27444.000000  2.744400e+04   \n",
       "mean       0.188360      1.463553      1.051384      0.156709  1.834662e+03   \n",
       "std        5.930096     70.516442    105.834658      5.703725  8.556671e+04   \n",
       "min     -189.450000  -1543.800000  -1317.600000   -189.560000 -5.611900e+06   \n",
       "25%        0.018379      0.017882      0.024960      0.007087  2.218775e+02   \n",
       "50%        0.082282      0.184890      0.070347      0.065124  8.238550e+02   \n",
       "75%        0.180268      0.624297      0.136560      0.162595  2.164725e+03   \n",
       "max      681.540000   8259.400000  13315.000000    649.230000  1.023600e+07   \n",
       "\n",
       "             Attr16        Attr17        Attr18        Attr19        Attr20  \\\n",
       "count  27444.000000  27444.000000  27444.000000  27444.000000  2.744400e+04   \n",
       "mean       1.732712     11.722971      0.160906      0.266055  3.482699e+02   \n",
       "std       70.074982    445.031184      5.724927     59.151884  4.714747e+04   \n",
       "min     -214.670000     -0.412920   -189.560000  -1325.600000 -1.438600e-03   \n",
       "25%        0.077495      1.440600      0.007087      0.004574  1.491850e+01   \n",
       "50%        0.257230      2.086850      0.065124      0.037781  3.424000e+01   \n",
       "75%        0.693130      3.611325      0.162653      0.093959  6.216850e+01   \n",
       "max     8259.400000  53433.000000    649.230000   9230.500000  7.809200e+06   \n",
       "\n",
       "             Attr21        Attr22        Attr23        Attr24        Attr25  \\\n",
       "count  27444.000000  27444.000000  27444.000000  27444.000000  27444.000000   \n",
       "mean       4.566473      0.164443      0.258191      0.309804      0.407215   \n",
       "std      263.427312      5.778786     58.943319      7.885613     13.564992   \n",
       "min    -1325.000000   -216.800000  -1325.600000   -189.560000   -500.930000   \n",
       "25%        0.927400      0.000000      0.002789      0.029295      0.148097   \n",
       "50%        1.025900      0.067728      0.031382      0.155245      0.373560   \n",
       "75%        1.131800      0.162793      0.080247      0.348263      0.602132   \n",
       "max    29907.000000    681.540000   9230.500000    831.660000   1353.300000   \n",
       "\n",
       "             Attr26        Attr27        Attr28        Attr29         Attr30  \\\n",
       "count  27444.000000  2.744400e+04  27444.000000  27444.000000   27444.000000   \n",
       "mean       1.580685  1.174656e+03      4.845649      3.988367       9.515227   \n",
       "std       68.515658  3.827236e+04     97.803850      0.805482    1002.331023   \n",
       "min     -214.670000 -1.901300e+05  -3829.900000     -0.886060   -6351.700000   \n",
       "25%        0.070357  1.270775e-01      0.037415      3.493500       0.082444   \n",
       "50%        0.231510  1.146400e+00      0.452750      3.986550       0.212440   \n",
       "75%        0.622622  4.680100e+00      1.428225      4.487525       0.398390   \n",
       "max     8262.300000  4.208800e+06  10033.000000      9.619900  152860.000000   \n",
       "\n",
       "             Attr31        Attr32        Attr33        Attr34        Attr35  \\\n",
       "count  27444.000000  2.744400e+04  27444.000000  27444.000000  27444.000000   \n",
       "mean       0.271718  1.248579e+03      8.785994      5.677064      0.156834   \n",
       "std       59.229010  1.130485e+05    135.462562    140.434363      5.410476   \n",
       "min    -1325.600000 -9.295600e+03    -19.197000  -1696.000000   -169.470000   \n",
       "25%        0.008092  4.571300e+01      2.885150      0.330290      0.008026   \n",
       "50%        0.045000  7.696700e+01      4.716600      2.031800      0.066158   \n",
       "75%        0.104245  1.246650e+02      7.943425      4.692925      0.163570   \n",
       "max     9244.300000  1.736400e+07  21944.000000  21944.000000    626.920000   \n",
       "\n",
       "             Attr36         Attr37        Attr38        Attr39        Attr40  \\\n",
       "count  27444.000000   27444.000000  27444.000000  27444.000000  27444.000000   \n",
       "mean       3.266074      63.946057      0.789925     -0.079805      1.812461   \n",
       "std       74.722766    2776.189869     17.062123     17.773419     38.588241   \n",
       "min       -0.000857    -525.520000   -479.910000  -1395.800000   -101.270000   \n",
       "25%        1.139875       2.374075      0.417195      0.005239      0.053510   \n",
       "50%        1.703800       2.960700      0.609535      0.038816      0.174960   \n",
       "75%        2.522400       3.817450      0.768715      0.095163      0.640605   \n",
       "max     9742.300000  398920.000000   1099.500000   2156.500000   4849.300000   \n",
       "\n",
       "              Attr41        Attr42        Attr43        Attr44         Attr45  \\\n",
       "count   27444.000000  27444.000000  2.744400e+04  2.744400e+04   27444.000000   \n",
       "mean       11.189372     -0.091283  1.396730e+03  1.048434e+03       6.744382   \n",
       "std      1743.257302     18.176397  1.838316e+05  1.368048e+05    1992.535167   \n",
       "min     -1234.400000  -1395.800000 -4.853200e+04 -4.853200e+04 -256230.000000   \n",
       "25%         0.027462      0.000000  6.430150e+01  3.356750e+01       0.032383   \n",
       "50%         0.082960      0.040074  9.590300e+01  5.272300e+01       0.307800   \n",
       "75%         0.197800      0.095683  1.362125e+02  7.785100e+01       0.979805   \n",
       "max    288770.000000   2156.800000  3.039300e+07  2.258400e+07  113820.000000   \n",
       "\n",
       "             Attr46        Attr47        Attr48        Attr49        Attr50  \\\n",
       "count  27444.000000  2.744400e+04  27444.000000  27444.000000  27444.000000   \n",
       "mean       5.096809  4.919469e+02      0.072812     -0.563331      5.769883   \n",
       "std      325.195491  4.149734e+04      5.334669     55.905879    343.289973   \n",
       "min     -101.260000 -9.611000e+01   -218.420000  -9001.000000      0.000000   \n",
       "25%        0.596550  1.581900e+01     -0.036481     -0.024004      0.766535   \n",
       "50%        1.012950  3.717800e+01      0.023109      0.013322      1.205400   \n",
       "75%        1.868700  6.886500e+01      0.119072      0.066916      2.151725   \n",
       "max    53433.000000  6.084200e+06    623.850000    178.890000  53433.000000   \n",
       "\n",
       "             Attr51        Attr52         Attr53         Attr54        Attr55  \\\n",
       "count  27444.000000  27444.000000   27444.000000   27444.000000  2.744400e+04   \n",
       "mean       0.502324      6.461412      32.280332      33.009113  6.930179e+03   \n",
       "std        6.253707    598.353865    1503.969346    1511.053881  6.556030e+04   \n",
       "min        0.000000    -25.467000   -3828.900000   -3828.900000 -1.805200e+06   \n",
       "25%        0.193725      0.125040       0.682570       0.959353  2.135875e+01   \n",
       "50%        0.344830      0.210380       1.189200       1.367200  1.017800e+03   \n",
       "75%        0.539455      0.341222       2.160625       2.310725  4.584950e+03   \n",
       "max      480.960000  84827.000000  180440.000000  180440.000000  4.398400e+06   \n",
       "\n",
       "             Attr56        Attr57        Attr58        Attr59        Attr60  \\\n",
       "count  2.744400e+04  27444.000000  2.744400e+04  27444.000000  2.744400e+04   \n",
       "mean  -4.100645e+01      0.028801  4.678112e+01      1.733496  4.470619e+02   \n",
       "std    6.690409e+03     13.926933  6.702156e+03    152.709484  2.689067e+04   \n",
       "min   -1.108300e+06  -1667.300000 -1.986900e+02   -327.970000  0.000000e+00   \n",
       "25%    1.139075e-02      0.017674  8.721500e-01      0.000000  5.856675e+00   \n",
       "50%    5.563000e-02      0.131350  9.482800e-01      0.008631  1.010900e+01   \n",
       "75%    1.331425e-01      0.309355  9.915600e-01      0.253563  2.023950e+01   \n",
       "max    2.931500e+02    552.640000  1.108300e+06  23853.000000  3.660200e+06   \n",
       "\n",
       "             Attr61        Attr62        Attr63         Attr64        target  \n",
       "count  27444.000000  2.744400e+04  27444.000000   27444.000000  27444.000000  \n",
       "mean      15.495428  1.589550e+03      9.648858      85.505594      0.042341  \n",
       "std      229.141271  1.602805e+05    143.937625    2763.197811      0.201369  \n",
       "min       -6.590300 -2.336500e+06     -0.367890  -10677.000000      0.000000  \n",
       "25%        4.655750  4.131050e+01      3.176100       2.286400      0.000000  \n",
       "50%        6.895350  6.965200e+01      5.211100       4.417400      0.000000  \n",
       "75%       10.813000  1.140100e+02      8.794550       9.857800      0.000000  \n",
       "max    26862.000000  2.501600e+07  23454.000000  294770.000000      1.000000  "
      ]
     },
     "execution_count": 9,
     "metadata": {},
     "output_type": "execute_result"
    }
   ],
   "source": [
    "df_clean.describe()"
   ]
  },
  {
   "cell_type": "markdown",
   "metadata": {},
   "source": [
    "#### Skewness of Variables"
   ]
  },
  {
   "cell_type": "markdown",
   "metadata": {},
   "source": [
    "The majority of the variables are highly skewed which could cause a problem when modeling with some classification techniques."
   ]
  },
  {
   "cell_type": "code",
   "execution_count": 10,
   "metadata": {},
   "outputs": [
    {
     "data": {
      "text/plain": [
       "Attr1     -92.843423\n",
       "Attr2      71.326290\n",
       "Attr3     -72.012928\n",
       "Attr4     161.626330\n",
       "Attr5    -143.280171\n",
       "Attr6     -59.667700\n",
       "Attr7      78.186374\n",
       "Attr8      88.854565\n",
       "Attr9      97.012835\n",
       "Attr10     42.590940\n",
       "Attr11     79.191537\n",
       "Attr12     97.216373\n",
       "Attr13    102.181270\n",
       "Attr14     78.186377\n",
       "Attr15     53.843330\n",
       "Attr16     99.634306\n",
       "Attr17     87.738125\n",
       "Attr18     77.393711\n",
       "Attr19    139.836939\n",
       "Attr20    165.572329\n",
       "Attr21    100.041253\n",
       "Attr22     82.498013\n",
       "Attr23    141.252914\n",
       "Attr24     74.566554\n",
       "Attr25     48.694418\n",
       "Attr26    104.983531\n",
       "Attr27     72.792185\n",
       "Attr28     55.989645\n",
       "Attr29     -0.045569\n",
       "Attr30    137.993883\n",
       "Attr31    139.909392\n",
       "Attr32    139.681406\n",
       "Attr33    155.200039\n",
       "Attr34    142.457247\n",
       "Attr35     84.301275\n",
       "Attr36     97.487047\n",
       "Attr37    117.361074\n",
       "Attr38     42.585835\n",
       "Attr39     40.457863\n",
       "Attr40     92.467074\n",
       "Attr41    165.623321\n",
       "Attr42     35.395003\n",
       "Attr43    164.692181\n",
       "Attr44    163.988316\n",
       "Attr45    -61.484329\n",
       "Attr46    161.780579\n",
       "Attr47    126.919905\n",
       "Attr48     78.227094\n",
       "Attr49   -153.021572\n",
       "Attr50    143.225694\n",
       "Attr51     72.103152\n",
       "Attr52    123.174565\n",
       "Attr53     85.483728\n",
       "Attr54     84.992593\n",
       "Attr55     31.179521\n",
       "Attr56   -165.640371\n",
       "Attr57    -74.799124\n",
       "Attr58    164.795282\n",
       "Attr59    143.608984\n",
       "Attr60    111.930010\n",
       "Attr61     93.657161\n",
       "Attr62    142.475957\n",
       "Attr63    157.667799\n",
       "Attr64     76.305067\n",
       "target      4.545808\n",
       "dtype: float64"
      ]
     },
     "execution_count": 10,
     "metadata": {},
     "output_type": "execute_result"
    }
   ],
   "source": [
    "df_clean.skew()"
   ]
  },
  {
   "cell_type": "markdown",
   "metadata": {},
   "source": [
    "### K-Nearest Neighbor"
   ]
  },
  {
   "cell_type": "markdown",
   "metadata": {},
   "source": [
    "After splitting and scaling the data, the count of the target variables shows that there is a big difference between the number of one’s and the number of zero’s. This could become a problem. "
   ]
  },
  {
   "cell_type": "code",
   "execution_count": 11,
   "metadata": {},
   "outputs": [
    {
     "name": "stdout",
     "output_type": "stream",
     "text": [
      "Y Train: Counter({0.0: 21039, 1.0: 916})\n",
      "Y Test: Counter({0.0: 5243, 1.0: 246})\n"
     ]
    }
   ],
   "source": [
    "from sklearn.neighbors import KNeighborsClassifier\n",
    "from sklearn.preprocessing import StandardScaler\n",
    "from sklearn.model_selection import train_test_split\n",
    "from sklearn.utils import shuffle\n",
    "\n",
    "df_clean2 = shuffle(df_clean)\n",
    "df_clean2 = df_clean2.reset_index()\n",
    "df_clean2.drop('index', axis = 1, inplace = True)\n",
    "\n",
    "X = df_clean2.drop('target', axis = 1)\n",
    "y = df_clean2[['target']]\n",
    "X_train, X_test, y_train, y_test = train_test_split(X,y, test_size = 0.2, random_state = 0)\n",
    "\n",
    "sc = StandardScaler()\n",
    "X_train_scaled_1 = sc.fit_transform(X_train)\n",
    "X_test_scaled_1 = sc.transform(X_test)\n",
    "##################################\n",
    "### Count of Target by train and test data\n",
    "from collections import Counter\n",
    "print('Y Train:', Counter(y_train[\"target\"]))\n",
    "print('Y Test:', Counter(y_test[\"target\"]))"
   ]
  },
  {
   "cell_type": "markdown",
   "metadata": {},
   "source": [
    "#### Grid Search for K"
   ]
  },
  {
   "cell_type": "markdown",
   "metadata": {},
   "source": [
    "A grid search was conducted to see what the best value for K is. The search used stratified K-fold cross validation to give the number for K that has the best accuracy.  "
   ]
  },
  {
   "cell_type": "code",
   "execution_count": 12,
   "metadata": {},
   "outputs": [
    {
     "name": "stdout",
     "output_type": "stream",
     "text": [
      "{'n_neighbors': 8}\n"
     ]
    }
   ],
   "source": [
    "from sklearn.model_selection import GridSearchCV, cross_val_score,StratifiedKFold\n",
    "params = {'n_neighbors' : [1,2,3,4,5,6,7,8,9]}\n",
    "knn = KNeighborsClassifier()\n",
    "gs1 = GridSearchCV(estimator=knn, param_grid=params, scoring='accuracy', cv = StratifiedKFold(n_splits = 5, random_state=0), n_jobs =1)\n",
    "gs1.fit(X_train_scaled_1, y_train)\n",
    "print(gs1.best_params_)"
   ]
  },
  {
   "cell_type": "code",
   "execution_count": 13,
   "metadata": {},
   "outputs": [
    {
     "data": {
      "text/html": [
       "<div>\n",
       "<style scoped>\n",
       "    .dataframe tbody tr th:only-of-type {\n",
       "        vertical-align: middle;\n",
       "    }\n",
       "\n",
       "    .dataframe tbody tr th {\n",
       "        vertical-align: top;\n",
       "    }\n",
       "\n",
       "    .dataframe thead th {\n",
       "        text-align: right;\n",
       "    }\n",
       "</style>\n",
       "<table border=\"1\" class=\"dataframe\">\n",
       "  <thead>\n",
       "    <tr style=\"text-align: right;\">\n",
       "      <th></th>\n",
       "      <th>param_n_neighbors</th>\n",
       "      <th>mean_test_score</th>\n",
       "    </tr>\n",
       "  </thead>\n",
       "  <tbody>\n",
       "    <tr>\n",
       "      <th>0</th>\n",
       "      <td>1</td>\n",
       "      <td>0.926167</td>\n",
       "    </tr>\n",
       "    <tr>\n",
       "      <th>1</th>\n",
       "      <td>2</td>\n",
       "      <td>0.955637</td>\n",
       "    </tr>\n",
       "    <tr>\n",
       "      <th>2</th>\n",
       "      <td>3</td>\n",
       "      <td>0.951993</td>\n",
       "    </tr>\n",
       "    <tr>\n",
       "      <th>3</th>\n",
       "      <td>4</td>\n",
       "      <td>0.957550</td>\n",
       "    </tr>\n",
       "    <tr>\n",
       "      <th>4</th>\n",
       "      <td>5</td>\n",
       "      <td>0.956639</td>\n",
       "    </tr>\n",
       "    <tr>\n",
       "      <th>5</th>\n",
       "      <td>6</td>\n",
       "      <td>0.957732</td>\n",
       "    </tr>\n",
       "    <tr>\n",
       "      <th>6</th>\n",
       "      <td>7</td>\n",
       "      <td>0.957504</td>\n",
       "    </tr>\n",
       "    <tr>\n",
       "      <th>7</th>\n",
       "      <td>8</td>\n",
       "      <td>0.958096</td>\n",
       "    </tr>\n",
       "    <tr>\n",
       "      <th>8</th>\n",
       "      <td>9</td>\n",
       "      <td>0.958051</td>\n",
       "    </tr>\n",
       "  </tbody>\n",
       "</table>\n",
       "</div>"
      ],
      "text/plain": [
       "  param_n_neighbors  mean_test_score\n",
       "0                 1         0.926167\n",
       "1                 2         0.955637\n",
       "2                 3         0.951993\n",
       "3                 4         0.957550\n",
       "4                 5         0.956639\n",
       "5                 6         0.957732\n",
       "6                 7         0.957504\n",
       "7                 8         0.958096\n",
       "8                 9         0.958051"
      ]
     },
     "execution_count": 13,
     "metadata": {},
     "output_type": "execute_result"
    }
   ],
   "source": [
    "Score1 = pd.DataFrame(gs1.cv_results_)\n",
    "Score1[['param_n_neighbors', 'mean_test_score']]"
   ]
  },
  {
   "cell_type": "code",
   "execution_count": 14,
   "metadata": {},
   "outputs": [
    {
     "name": "stdout",
     "output_type": "stream",
     "text": [
      "Cross-validation accuracy score (with optimized parameters) = 0.958 (+/- 0.00045)\n"
     ]
    }
   ],
   "source": [
    "gs_best1 = gs1.best_estimator_\n",
    "skf = StratifiedKFold(n_splits=5, random_state=0)\n",
    "new_scores = cross_val_score(gs_best1, X_train_scaled_1, y_train, cv=skf ,scoring = 'accuracy')\n",
    "print('Cross-validation accuracy score (with optimized parameters) = %1.3f '\n",
    "      '(+/- %1.5f)' % (np.mean(new_scores), np.std(new_scores)))"
   ]
  },
  {
   "cell_type": "code",
   "execution_count": 15,
   "metadata": {},
   "outputs": [],
   "source": [
    "from sklearn.metrics import roc_curve, precision_score, recall_score, f1_score, accuracy_score, confusion_matrix,classification_report\n",
    "def model_info(x, y):\n",
    "    cm = confusion_matrix(x,y)\n",
    "    TP = cm[0][0]\n",
    "    FP = cm[0][1]\n",
    "    FN = cm[1][0]\n",
    "    TN = cm[1][1]\n",
    "    acc = accuracy_score(x,y)\n",
    "    pre = precision_score(x,y)\n",
    "    pre_0 = precision_score(x,y, pos_label= 0)\n",
    "    rec = recall_score(x,y)\n",
    "    rec_0 = recall_score(x,y, pos_label=0)\n",
    "    f1 = f1_score(x,y)\n",
    "    f1_0 = f1_score(x,y, pos_label= 0)\n",
    "    fnr = 1 - rec_0\n",
    "    fpr = 1 - rec\n",
    "    data = [{\"Accuracy\":acc ,\"NPV\":pre, \"PPV\":pre_0,\"Specificity\":rec, \"Sensitivity\":rec_0, \"F1 Score 1\":f1, \"F1 Score 0\":f1_0, 'False Negative Rate': fnr , 'False Postive Rate':fpr}]\n",
    "    df = pd.DataFrame(data)\n",
    "    return (df)"
   ]
  },
  {
   "cell_type": "code",
   "execution_count": 16,
   "metadata": {},
   "outputs": [],
   "source": [
    "model = KNeighborsClassifier( n_neighbors=8, metric='minkowski')\n",
    "model.fit(X_train_scaled_1, y_train)\n",
    "y_pred = model.predict(X_test_scaled_1)\n",
    "res = model_info(y_test, y_pred)"
   ]
  },
  {
   "cell_type": "markdown",
   "metadata": {},
   "source": [
    "#### Confusion Matrix"
   ]
  },
  {
   "cell_type": "markdown",
   "metadata": {},
   "source": [
    "The confusion matrix shows that the model is not good at predicting one’s because it never once predicted a one. This could come from the imbalanced data set.\n",
    "\n",
    "- 0 is postive\n",
    "- 1 is negative"
   ]
  },
  {
   "cell_type": "code",
   "execution_count": 17,
   "metadata": {},
   "outputs": [
    {
     "data": {
      "text/plain": [
       "Text(24.0, 0.5, 'Actual')"
      ]
     },
     "execution_count": 17,
     "metadata": {},
     "output_type": "execute_result"
    },
    {
     "data": {
      "image/png": "[encoded data removed]",
      "text/plain": [
       "<Figure size 360x360 with 2 Axes>"
      ]
     },
     "metadata": {
      "needs_background": "light"
     },
     "output_type": "display_data"
    }
   ],
   "source": [
    "cm = confusion_matrix(y_test, y_pred)\n",
    "f , ax =  plt.subplots(figsize =(5,5))\n",
    "sns.heatmap(cm, annot =True, linewidth = 0.5, linecolor = \"red\", fmt = \".0f\", ax =ax)\n",
    "plt.title(\"Test Dataset\")\n",
    "plt.xlabel(\"Predicted\")\n",
    "plt.ylabel(\"Actual\")"
   ]
  },
  {
   "cell_type": "markdown",
   "metadata": {},
   "source": [
    "#### Model Metrics"
   ]
  },
  {
   "cell_type": "markdown",
   "metadata": {},
   "source": [
    "The model metrics also show that the model for the most part only predicted zeros. The PPV and accuracy for this model shows that when only predicting zero you can be right around 95% of the time.  "
   ]
  },
  {
   "cell_type": "code",
   "execution_count": 18,
   "metadata": {},
   "outputs": [
    {
     "data": {
      "text/html": [
       "<div>\n",
       "<style scoped>\n",
       "    .dataframe tbody tr th:only-of-type {\n",
       "        vertical-align: middle;\n",
       "    }\n",
       "\n",
       "    .dataframe tbody tr th {\n",
       "        vertical-align: top;\n",
       "    }\n",
       "\n",
       "    .dataframe thead th {\n",
       "        text-align: right;\n",
       "    }\n",
       "</style>\n",
       "<table border=\"1\" class=\"dataframe\">\n",
       "  <thead>\n",
       "    <tr style=\"text-align: right;\">\n",
       "      <th></th>\n",
       "      <th>Accuracy</th>\n",
       "      <th>NPV</th>\n",
       "      <th>PPV</th>\n",
       "      <th>Specificity</th>\n",
       "      <th>Sensitivity</th>\n",
       "      <th>F1 Score 1</th>\n",
       "      <th>F1 Score 0</th>\n",
       "      <th>False Negative Rate</th>\n",
       "      <th>False Postive Rate</th>\n",
       "    </tr>\n",
       "  </thead>\n",
       "  <tbody>\n",
       "    <tr>\n",
       "      <th>0</th>\n",
       "      <td>0.955183</td>\n",
       "      <td>0.0</td>\n",
       "      <td>0.955183</td>\n",
       "      <td>0.0</td>\n",
       "      <td>1.0</td>\n",
       "      <td>0.0</td>\n",
       "      <td>0.977078</td>\n",
       "      <td>0.0</td>\n",
       "      <td>1.0</td>\n",
       "    </tr>\n",
       "  </tbody>\n",
       "</table>\n",
       "</div>"
      ],
      "text/plain": [
       "   Accuracy  NPV       PPV  Specificity  Sensitivity  F1 Score 1  F1 Score 0  \\\n",
       "0  0.955183  0.0  0.955183          0.0          1.0         0.0    0.977078   \n",
       "\n",
       "   False Negative Rate  False Postive Rate  \n",
       "0                  0.0                 1.0  "
      ]
     },
     "execution_count": 18,
     "metadata": {},
     "output_type": "execute_result"
    }
   ],
   "source": [
    "res"
   ]
  },
  {
   "cell_type": "markdown",
   "metadata": {},
   "source": [
    "#### ROC Plot"
   ]
  },
  {
   "cell_type": "markdown",
   "metadata": {},
   "source": [
    "The ROC plot and the AUC shows that this model is just better than a random guess. A guess would be an AUC of 0.5, which this model is just better than. "
   ]
  },
  {
   "cell_type": "code",
   "execution_count": 19,
   "metadata": {},
   "outputs": [
    {
     "data": {
      "text/plain": [
       "Text(0, 0.5, 'True Postive Rate')"
      ]
     },
     "execution_count": 19,
     "metadata": {},
     "output_type": "execute_result"
    },
    {
     "data": {
      "image/png": "[encoded data removed]",
      "text/plain": [
       "<Figure size 432x288 with 1 Axes>"
      ]
     },
     "metadata": {
      "needs_background": "light"
     },
     "output_type": "display_data"
    }
   ],
   "source": [
    "from sklearn.metrics import roc_auc_score, roc_curve, auc\n",
    "y_pred_proba1 = model.predict_proba(X_test_scaled_1)[::,1]\n",
    "fpr, tpr, _ = roc_curve(y_test,  y_pred_proba1)\n",
    "auc2 = auc(fpr,tpr)\n",
    "##auc = roc_auc_score(y_test, y_pred)\n",
    "plt.plot(fpr,tpr,label = \"auc=\"+str(auc2))\n",
    "plt.legend(loc=4)\n",
    "plt.title('Receiver Operating Characteristics (ROC) Curve')\n",
    "plt.xlabel('False Postive Rate')\n",
    "plt.ylabel('True Postive Rate')"
   ]
  },
  {
   "cell_type": "markdown",
   "metadata": {},
   "source": [
    "### Under Sampling KNN"
   ]
  },
  {
   "cell_type": "markdown",
   "metadata": {},
   "source": [
    "##### Under Sampling"
   ]
  },
  {
   "cell_type": "markdown",
   "metadata": {},
   "source": [
    "There are many ways to handle a classification problem that is imbalance, from up sampling the minority class, under sampling the majority class, and adding weights to the classes. For this model under sampling was done on the majority class to go from around 26,000 to 4,000. This number was chosen because it creates a more balance dataset but also shows that zeros are happening more than a one outcomes. When under sampling the majority class, the model is losing some information about the zero’s which will cause a larger variance. "
   ]
  },
  {
   "cell_type": "code",
   "execution_count": 20,
   "metadata": {},
   "outputs": [
    {
     "data": {
      "text/plain": [
       "0.0    4000\n",
       "1.0    1162\n",
       "Name: target, dtype: int64"
      ]
     },
     "execution_count": 20,
     "metadata": {},
     "output_type": "execute_result"
    }
   ],
   "source": [
    "df_0 = df_clean2[df_clean2['target'] == 0]\n",
    "df_1 = df_clean2[df_clean2['target'] == 1]\n",
    "df_under = df_0.sample(4000 ,random_state=19)\n",
    "df_new = pd.concat([df_under, df_1], axis = 0)\n",
    "############################\n",
    "df_new = df_new.reset_index()\n",
    "df_new.drop('index', axis = 1, inplace = True)\n",
    "df_new[\"target\"].value_counts()"
   ]
  },
  {
   "cell_type": "code",
   "execution_count": 21,
   "metadata": {},
   "outputs": [
    {
     "name": "stdout",
     "output_type": "stream",
     "text": [
      "Y Train: Counter({0.0: 3196, 1.0: 933})\n",
      "Y Test: Counter({0.0: 804, 1.0: 229})\n"
     ]
    }
   ],
   "source": [
    "X = df_new.drop('target', axis = 1)\n",
    "y = df_new[['target']]\n",
    "X_train_1, X_test_1, y_train_1, y_test_1 = train_test_split(X,y, test_size = 0.2, random_state = 0)\n",
    "#################################\n",
    "sc = StandardScaler()\n",
    "X_train_scaled = sc.fit_transform(X_train_1)\n",
    "X_test_scaled = sc.transform(X_test_1)\n",
    "###############################\n",
    "from collections import Counter\n",
    "print('Y Train:', Counter(y_train_1[\"target\"]))\n",
    "print('Y Test:', Counter(y_test_1[\"target\"]))"
   ]
  },
  {
   "cell_type": "markdown",
   "metadata": {},
   "source": [
    "#### Grid Search for K"
   ]
  },
  {
   "cell_type": "markdown",
   "metadata": {},
   "source": [
    "A grid search was conducted to see what the best value for K is. The search used stratified K-fold cross validation to give the number for K that has the best accuracy."
   ]
  },
  {
   "cell_type": "code",
   "execution_count": 22,
   "metadata": {},
   "outputs": [
    {
     "name": "stdout",
     "output_type": "stream",
     "text": [
      "{'n_neighbors': 8}\n"
     ]
    }
   ],
   "source": [
    "params = {'n_neighbors' : [1,2,3,4,5,6,7,8,9]}\n",
    "knn = KNeighborsClassifier()\n",
    "gs2 = GridSearchCV(estimator=knn, param_grid=params, scoring='accuracy', cv = StratifiedKFold(n_splits = 5, random_state=0), n_jobs =1)\n",
    "gs2.fit(X_train_scaled, y_train_1)\n",
    "print(gs2.best_params_)"
   ]
  },
  {
   "cell_type": "code",
   "execution_count": 23,
   "metadata": {},
   "outputs": [
    {
     "data": {
      "text/html": [
       "<div>\n",
       "<style scoped>\n",
       "    .dataframe tbody tr th:only-of-type {\n",
       "        vertical-align: middle;\n",
       "    }\n",
       "\n",
       "    .dataframe tbody tr th {\n",
       "        vertical-align: top;\n",
       "    }\n",
       "\n",
       "    .dataframe thead th {\n",
       "        text-align: right;\n",
       "    }\n",
       "</style>\n",
       "<table border=\"1\" class=\"dataframe\">\n",
       "  <thead>\n",
       "    <tr style=\"text-align: right;\">\n",
       "      <th></th>\n",
       "      <th>param_n_neighbors</th>\n",
       "      <th>mean_test_score</th>\n",
       "    </tr>\n",
       "  </thead>\n",
       "  <tbody>\n",
       "    <tr>\n",
       "      <th>0</th>\n",
       "      <td>1</td>\n",
       "      <td>0.716881</td>\n",
       "    </tr>\n",
       "    <tr>\n",
       "      <th>1</th>\n",
       "      <td>2</td>\n",
       "      <td>0.766045</td>\n",
       "    </tr>\n",
       "    <tr>\n",
       "      <th>2</th>\n",
       "      <td>3</td>\n",
       "      <td>0.747639</td>\n",
       "    </tr>\n",
       "    <tr>\n",
       "      <th>3</th>\n",
       "      <td>4</td>\n",
       "      <td>0.772826</td>\n",
       "    </tr>\n",
       "    <tr>\n",
       "      <th>4</th>\n",
       "      <td>5</td>\n",
       "      <td>0.756600</td>\n",
       "    </tr>\n",
       "    <tr>\n",
       "      <th>5</th>\n",
       "      <td>6</td>\n",
       "      <td>0.772342</td>\n",
       "    </tr>\n",
       "    <tr>\n",
       "      <th>6</th>\n",
       "      <td>7</td>\n",
       "      <td>0.763381</td>\n",
       "    </tr>\n",
       "    <tr>\n",
       "      <th>7</th>\n",
       "      <td>8</td>\n",
       "      <td>0.775733</td>\n",
       "    </tr>\n",
       "    <tr>\n",
       "      <th>8</th>\n",
       "      <td>9</td>\n",
       "      <td>0.769436</td>\n",
       "    </tr>\n",
       "  </tbody>\n",
       "</table>\n",
       "</div>"
      ],
      "text/plain": [
       "  param_n_neighbors  mean_test_score\n",
       "0                 1         0.716881\n",
       "1                 2         0.766045\n",
       "2                 3         0.747639\n",
       "3                 4         0.772826\n",
       "4                 5         0.756600\n",
       "5                 6         0.772342\n",
       "6                 7         0.763381\n",
       "7                 8         0.775733\n",
       "8                 9         0.769436"
      ]
     },
     "execution_count": 23,
     "metadata": {},
     "output_type": "execute_result"
    }
   ],
   "source": [
    "Score2 = pd.DataFrame(gs2.cv_results_)\n",
    "Score2[['param_n_neighbors', 'mean_test_score']]"
   ]
  },
  {
   "cell_type": "code",
   "execution_count": 24,
   "metadata": {},
   "outputs": [
    {
     "name": "stdout",
     "output_type": "stream",
     "text": [
      "Cross-validation accuracy score (with optimized parameters) = 0.776 (+/- 0.00569)\n"
     ]
    }
   ],
   "source": [
    "gs_best2 = gs2.best_estimator_\n",
    "skf = StratifiedKFold(n_splits=5, random_state=0)\n",
    "new_scores = cross_val_score(gs_best2, X_train_scaled, y_train_1, cv=skf, scoring='accuracy')\n",
    "print('Cross-validation accuracy score (with optimized parameters) = %1.3f '\n",
    "      '(+/- %1.5f)' % (np.mean(new_scores), np.std(new_scores)))"
   ]
  },
  {
   "cell_type": "code",
   "execution_count": 25,
   "metadata": {},
   "outputs": [],
   "source": [
    "model1 = KNeighborsClassifier( n_neighbors=8, metric='minkowski')\n",
    "model1.fit(X_train_scaled, y_train_1)\n",
    "y_pred1 = model1.predict(X_test_scaled)\n",
    "res_1 = model_info(y_test_1, y_pred1)"
   ]
  },
  {
   "cell_type": "markdown",
   "metadata": {},
   "source": [
    "#### Confusion Matrix "
   ]
  },
  {
   "cell_type": "markdown",
   "metadata": {},
   "source": [
    "This confusion matrix shows that the data set is now predicting one outcomes unlike the first model created."
   ]
  },
  {
   "cell_type": "code",
   "execution_count": 26,
   "metadata": {},
   "outputs": [
    {
     "data": {
      "text/plain": [
       "Text(24.0, 0.5, 'Actual')"
      ]
     },
     "execution_count": 26,
     "metadata": {},
     "output_type": "execute_result"
    },
    {
     "data": {
      "image/png": "[encoded data removed]",
      "text/plain": [
       "<Figure size 360x360 with 2 Axes>"
      ]
     },
     "metadata": {
      "needs_background": "light"
     },
     "output_type": "display_data"
    }
   ],
   "source": [
    "cm = confusion_matrix(y_test_1, y_pred1)\n",
    "f , ax =  plt.subplots(figsize =(5,5))\n",
    "sns.heatmap(cm, annot =True, linewidth = 0.5, linecolor = \"red\", fmt = \".0f\", ax =ax)\n",
    "plt.title(\"Test Dataset\")\n",
    "plt.xlabel(\"Predicted\")\n",
    "plt.ylabel(\"Actual\")"
   ]
  },
  {
   "cell_type": "markdown",
   "metadata": {},
   "source": [
    "#### Model Metrics"
   ]
  },
  {
   "cell_type": "markdown",
   "metadata": {},
   "source": [
    "From the model metrics, the accuracy isn’t as good as the first model. This new model with under sampling is much better at predicting one outcomes. NPV and Specificity are both better than the first model. Also, the false negative rate is low, which shows that the model is not predicting a zero when it is actually a one at high rate. "
   ]
  },
  {
   "cell_type": "code",
   "execution_count": 27,
   "metadata": {},
   "outputs": [
    {
     "data": {
      "text/html": [
       "<div>\n",
       "<style scoped>\n",
       "    .dataframe tbody tr th:only-of-type {\n",
       "        vertical-align: middle;\n",
       "    }\n",
       "\n",
       "    .dataframe tbody tr th {\n",
       "        vertical-align: top;\n",
       "    }\n",
       "\n",
       "    .dataframe thead th {\n",
       "        text-align: right;\n",
       "    }\n",
       "</style>\n",
       "<table border=\"1\" class=\"dataframe\">\n",
       "  <thead>\n",
       "    <tr style=\"text-align: right;\">\n",
       "      <th></th>\n",
       "      <th>Accuracy</th>\n",
       "      <th>NPV</th>\n",
       "      <th>PPV</th>\n",
       "      <th>Specificity</th>\n",
       "      <th>Sensitivity</th>\n",
       "      <th>F1 Score 1</th>\n",
       "      <th>F1 Score 0</th>\n",
       "      <th>False Negative Rate</th>\n",
       "      <th>False Postive Rate</th>\n",
       "    </tr>\n",
       "  </thead>\n",
       "  <tbody>\n",
       "    <tr>\n",
       "      <th>0</th>\n",
       "      <td>0.773475</td>\n",
       "      <td>0.459016</td>\n",
       "      <td>0.79321</td>\n",
       "      <td>0.122271</td>\n",
       "      <td>0.958955</td>\n",
       "      <td>0.193103</td>\n",
       "      <td>0.868243</td>\n",
       "      <td>0.041045</td>\n",
       "      <td>0.877729</td>\n",
       "    </tr>\n",
       "  </tbody>\n",
       "</table>\n",
       "</div>"
      ],
      "text/plain": [
       "   Accuracy       NPV      PPV  Specificity  Sensitivity  F1 Score 1  \\\n",
       "0  0.773475  0.459016  0.79321     0.122271     0.958955    0.193103   \n",
       "\n",
       "   F1 Score 0  False Negative Rate  False Postive Rate  \n",
       "0    0.868243             0.041045            0.877729  "
      ]
     },
     "execution_count": 27,
     "metadata": {},
     "output_type": "execute_result"
    }
   ],
   "source": [
    "res_1"
   ]
  },
  {
   "cell_type": "markdown",
   "metadata": {},
   "source": [
    "#### Roc Plot"
   ]
  },
  {
   "cell_type": "markdown",
   "metadata": {},
   "source": [
    "The ROC plot and the AUC of this model is higher than the first model. An AUC of 0.70 isn’t great but still better than a random model.  "
   ]
  },
  {
   "cell_type": "code",
   "execution_count": 28,
   "metadata": {},
   "outputs": [
    {
     "data": {
      "text/plain": [
       "Text(0, 0.5, 'True Postive Rate')"
      ]
     },
     "execution_count": 28,
     "metadata": {},
     "output_type": "execute_result"
    },
    {
     "data": {
      "image/png": "[encoded data removed]",
      "text/plain": [
       "<Figure size 432x288 with 1 Axes>"
      ]
     },
     "metadata": {
      "needs_background": "light"
     },
     "output_type": "display_data"
    }
   ],
   "source": [
    "y_pred_proba2 = model1.predict_proba(X_test_scaled)[::,1]\n",
    "fpr, tpr, _ = roc_curve(y_test_1,  y_pred_proba2)\n",
    "auc3 = auc(fpr,tpr)\n",
    "#auc = roc_auc_score(y_test, y_pred_proba2)\n",
    "plt.plot(fpr,tpr,label=\"auc=\"+str(auc3))\n",
    "plt.legend(loc=4)\n",
    "plt.title('Receiver Operating Characteristics (ROC) Curve')\n",
    "plt.xlabel('False Postive Rate')\n",
    "plt.ylabel('True Postive Rate')"
   ]
  },
  {
   "cell_type": "markdown",
   "metadata": {},
   "source": [
    "### KNN with PCA"
   ]
  },
  {
   "cell_type": "markdown",
   "metadata": {},
   "source": [
    "Since KNN doesn’t do well in high dimensional spaces PCA was used to lower the number of dimensions. Also, this was done using the under sampled data set."
   ]
  },
  {
   "cell_type": "code",
   "execution_count": 29,
   "metadata": {},
   "outputs": [
    {
     "name": "stdout",
     "output_type": "stream",
     "text": [
      "Dimensions before PCA: 64\n",
      "Dimensions after PCA: 21\n"
     ]
    }
   ],
   "source": [
    "from sklearn.decomposition import PCA \n",
    "pca = PCA(.95)\n",
    "X_train_pca = pca.fit_transform(X_train_scaled)\n",
    "X_test_pca = pca.transform(X_test_scaled)\n",
    "print('Dimensions before PCA:',X_train_scaled.shape[1])\n",
    "print('Dimensions after PCA:',pca.n_components_)"
   ]
  },
  {
   "cell_type": "markdown",
   "metadata": {},
   "source": [
    "#### Grid Search for K"
   ]
  },
  {
   "cell_type": "markdown",
   "metadata": {},
   "source": [
    "A grid search was conducted to see what the best value for K is. The search used stratified K-fold cross validation to give the number for K that has the best accuracy."
   ]
  },
  {
   "cell_type": "code",
   "execution_count": 30,
   "metadata": {},
   "outputs": [
    {
     "name": "stdout",
     "output_type": "stream",
     "text": [
      "{'n_neighbors': 8}\n"
     ]
    }
   ],
   "source": [
    "params = {'n_neighbors' : [1,2,3,4,5,6,7,8,9]}\n",
    "knn = KNeighborsClassifier()\n",
    "gs3 = GridSearchCV(estimator=knn, scoring = 'accuracy',param_grid=params, cv = StratifiedKFold(n_splits = 5), n_jobs =1)\n",
    "gs3.fit(X_train_pca, y_train_1)\n",
    "print(gs3.best_params_)"
   ]
  },
  {
   "cell_type": "code",
   "execution_count": 31,
   "metadata": {},
   "outputs": [
    {
     "data": {
      "text/html": [
       "<div>\n",
       "<style scoped>\n",
       "    .dataframe tbody tr th:only-of-type {\n",
       "        vertical-align: middle;\n",
       "    }\n",
       "\n",
       "    .dataframe tbody tr th {\n",
       "        vertical-align: top;\n",
       "    }\n",
       "\n",
       "    .dataframe thead th {\n",
       "        text-align: right;\n",
       "    }\n",
       "</style>\n",
       "<table border=\"1\" class=\"dataframe\">\n",
       "  <thead>\n",
       "    <tr style=\"text-align: right;\">\n",
       "      <th></th>\n",
       "      <th>param_n_neighbors</th>\n",
       "      <th>mean_test_score</th>\n",
       "    </tr>\n",
       "  </thead>\n",
       "  <tbody>\n",
       "    <tr>\n",
       "      <th>0</th>\n",
       "      <td>1</td>\n",
       "      <td>0.707193</td>\n",
       "    </tr>\n",
       "    <tr>\n",
       "      <th>1</th>\n",
       "      <td>2</td>\n",
       "      <td>0.764592</td>\n",
       "    </tr>\n",
       "    <tr>\n",
       "      <th>2</th>\n",
       "      <td>3</td>\n",
       "      <td>0.737709</td>\n",
       "    </tr>\n",
       "    <tr>\n",
       "      <th>3</th>\n",
       "      <td>4</td>\n",
       "      <td>0.766045</td>\n",
       "    </tr>\n",
       "    <tr>\n",
       "      <th>4</th>\n",
       "      <td>5</td>\n",
       "      <td>0.756842</td>\n",
       "    </tr>\n",
       "    <tr>\n",
       "      <th>5</th>\n",
       "      <td>6</td>\n",
       "      <td>0.771858</td>\n",
       "    </tr>\n",
       "    <tr>\n",
       "      <th>6</th>\n",
       "      <td>7</td>\n",
       "      <td>0.764108</td>\n",
       "    </tr>\n",
       "    <tr>\n",
       "      <th>7</th>\n",
       "      <td>8</td>\n",
       "      <td>0.774764</td>\n",
       "    </tr>\n",
       "    <tr>\n",
       "      <th>8</th>\n",
       "      <td>9</td>\n",
       "      <td>0.768467</td>\n",
       "    </tr>\n",
       "  </tbody>\n",
       "</table>\n",
       "</div>"
      ],
      "text/plain": [
       "  param_n_neighbors  mean_test_score\n",
       "0                 1         0.707193\n",
       "1                 2         0.764592\n",
       "2                 3         0.737709\n",
       "3                 4         0.766045\n",
       "4                 5         0.756842\n",
       "5                 6         0.771858\n",
       "6                 7         0.764108\n",
       "7                 8         0.774764\n",
       "8                 9         0.768467"
      ]
     },
     "execution_count": 31,
     "metadata": {},
     "output_type": "execute_result"
    }
   ],
   "source": [
    "Score3 = pd.DataFrame(gs3.cv_results_)\n",
    "Score3[['param_n_neighbors', 'mean_test_score']]"
   ]
  },
  {
   "cell_type": "code",
   "execution_count": 32,
   "metadata": {},
   "outputs": [
    {
     "name": "stdout",
     "output_type": "stream",
     "text": [
      "Cross-validation accuracy score (with optimized parameters) = 0.775 (+/- 0.00532)\n"
     ]
    }
   ],
   "source": [
    "gs_best3 = gs3.best_estimator_\n",
    "skf = StratifiedKFold(n_splits=5, random_state=0)\n",
    "new_scores = cross_val_score(gs_best3, X_train_pca, y_train_1, cv=skf, scoring = 'accuracy')\n",
    "print('Cross-validation accuracy score (with optimized parameters) = %1.3f '\n",
    "      '(+/- %1.5f)' % (np.mean(new_scores), np.std(new_scores)))"
   ]
  },
  {
   "cell_type": "code",
   "execution_count": 33,
   "metadata": {},
   "outputs": [],
   "source": [
    "model2 = KNeighborsClassifier( n_neighbors=8, metric='minkowski')\n",
    "model2.fit(X_train_pca, y_train_1)\n",
    "y_pred2 = model2.predict(X_test_pca)\n",
    "res_2 = model_info(y_test_1, y_pred2)"
   ]
  },
  {
   "cell_type": "markdown",
   "metadata": {},
   "source": [
    "#### Confusion Matrix"
   ]
  },
  {
   "cell_type": "markdown",
   "metadata": {},
   "source": [
    "Like the first under sampled model this model also predicts one outcomes unlike the first model."
   ]
  },
  {
   "cell_type": "code",
   "execution_count": 34,
   "metadata": {},
   "outputs": [
    {
     "data": {
      "text/plain": [
       "Text(24.0, 0.5, 'Actual')"
      ]
     },
     "execution_count": 34,
     "metadata": {},
     "output_type": "execute_result"
    },
    {
     "data": {
      "image/png": "[encoded data removed]",
      "text/plain": [
       "<Figure size 360x360 with 2 Axes>"
      ]
     },
     "metadata": {
      "needs_background": "light"
     },
     "output_type": "display_data"
    }
   ],
   "source": [
    "cm = confusion_matrix(y_test_1, y_pred2)\n",
    "f , ax =  plt.subplots(figsize =(5,5))\n",
    "sns.heatmap(cm, annot =True, linewidth = 0.5, linecolor = \"red\", fmt = \".0f\", ax =ax)\n",
    "plt.title(\"Test Dataset\")\n",
    "plt.xlabel(\"Predicted\")\n",
    "plt.ylabel(\"Actual\")"
   ]
  },
  {
   "cell_type": "markdown",
   "metadata": {},
   "source": [
    "#### Model Metrics "
   ]
  },
  {
   "cell_type": "markdown",
   "metadata": {},
   "source": [
    "Model metrics are very similar to the first under sample model. Conducting PCA didn’t have as big as an impact as expected. For the most part the metrics are around the same. "
   ]
  },
  {
   "cell_type": "code",
   "execution_count": 35,
   "metadata": {},
   "outputs": [
    {
     "data": {
      "text/html": [
       "<div>\n",
       "<style scoped>\n",
       "    .dataframe tbody tr th:only-of-type {\n",
       "        vertical-align: middle;\n",
       "    }\n",
       "\n",
       "    .dataframe tbody tr th {\n",
       "        vertical-align: top;\n",
       "    }\n",
       "\n",
       "    .dataframe thead th {\n",
       "        text-align: right;\n",
       "    }\n",
       "</style>\n",
       "<table border=\"1\" class=\"dataframe\">\n",
       "  <thead>\n",
       "    <tr style=\"text-align: right;\">\n",
       "      <th></th>\n",
       "      <th>Accuracy</th>\n",
       "      <th>NPV</th>\n",
       "      <th>PPV</th>\n",
       "      <th>Specificity</th>\n",
       "      <th>Sensitivity</th>\n",
       "      <th>F1 Score 1</th>\n",
       "      <th>F1 Score 0</th>\n",
       "      <th>False Negative Rate</th>\n",
       "      <th>False Postive Rate</th>\n",
       "    </tr>\n",
       "  </thead>\n",
       "  <tbody>\n",
       "    <tr>\n",
       "      <th>0</th>\n",
       "      <td>0.770571</td>\n",
       "      <td>0.423077</td>\n",
       "      <td>0.788991</td>\n",
       "      <td>0.09607</td>\n",
       "      <td>0.962687</td>\n",
       "      <td>0.156584</td>\n",
       "      <td>0.867227</td>\n",
       "      <td>0.037313</td>\n",
       "      <td>0.90393</td>\n",
       "    </tr>\n",
       "  </tbody>\n",
       "</table>\n",
       "</div>"
      ],
      "text/plain": [
       "   Accuracy       NPV       PPV  Specificity  Sensitivity  F1 Score 1  \\\n",
       "0  0.770571  0.423077  0.788991      0.09607     0.962687    0.156584   \n",
       "\n",
       "   F1 Score 0  False Negative Rate  False Postive Rate  \n",
       "0    0.867227             0.037313             0.90393  "
      ]
     },
     "execution_count": 35,
     "metadata": {},
     "output_type": "execute_result"
    }
   ],
   "source": [
    "res_2"
   ]
  },
  {
   "cell_type": "markdown",
   "metadata": {},
   "source": [
    "#### ROC Plot"
   ]
  },
  {
   "cell_type": "markdown",
   "metadata": {},
   "source": [
    "The ROC plot and AUC show that this model is pretty close to a model that is making a random guess. "
   ]
  },
  {
   "cell_type": "code",
   "execution_count": 36,
   "metadata": {},
   "outputs": [
    {
     "data": {
      "text/plain": [
       "Text(0, 0.5, 'True Postive Rate')"
      ]
     },
     "execution_count": 36,
     "metadata": {},
     "output_type": "execute_result"
    },
    {
     "data": {
      "image/png": "[encoded data removed]",
      "text/plain": [
       "<Figure size 432x288 with 1 Axes>"
      ]
     },
     "metadata": {
      "needs_background": "light"
     },
     "output_type": "display_data"
    }
   ],
   "source": [
    "y_pred_proba3 = model2.predict_proba(X_test_pca)[::,1]\n",
    "fpr, tpr, _ = roc_curve(y_test_1,  y_pred_proba3)\n",
    "auc4 = auc(fpr,tpr)\n",
    "#auc = roc_auc_score(y_test, y_pred_proba3)\n",
    "plt.plot(fpr,tpr,label=\"auc=\"+str(auc4))\n",
    "plt.legend(loc=4)\n",
    "plt.title('Receiver Operating Characteristics (ROC) Curve')\n",
    "plt.xlabel('False Postive Rate')\n",
    "plt.ylabel('True Postive Rate')"
   ]
  },
  {
   "cell_type": "markdown",
   "metadata": {},
   "source": [
    "### RandomForest "
   ]
  },
  {
   "cell_type": "markdown",
   "metadata": {},
   "source": [
    "Using the whole data set."
   ]
  },
  {
   "cell_type": "markdown",
   "metadata": {},
   "source": [
    "#### Grid Search for max_depth and n_estimators"
   ]
  },
  {
   "cell_type": "markdown",
   "metadata": {},
   "source": [
    "A grid search was done to find the best parameters for a random forest model using stratified K fold cross validation.  "
   ]
  },
  {
   "cell_type": "code",
   "execution_count": 37,
   "metadata": {},
   "outputs": [
    {
     "name": "stdout",
     "output_type": "stream",
     "text": [
      "{'max_depth': 8, 'n_estimators': 500}\n"
     ]
    }
   ],
   "source": [
    "from sklearn.ensemble import RandomForestClassifier\n",
    "rf = RandomForestClassifier()\n",
    "params = {'max_depth' : [3,6,8],'n_estimators':[250 ,350 ,500] }\n",
    "gs5 = GridSearchCV(estimator=rf, param_grid=params, scoring='accuracy',\n",
    "                   cv = StratifiedKFold(n_splits = 3, random_state=0), n_jobs =1)\n",
    "gs5.fit(X_train, y_train)\n",
    "print(gs5.best_params_)"
   ]
  },
  {
   "cell_type": "code",
   "execution_count": 38,
   "metadata": {},
   "outputs": [
    {
     "data": {
      "text/html": [
       "<div>\n",
       "<style scoped>\n",
       "    .dataframe tbody tr th:only-of-type {\n",
       "        vertical-align: middle;\n",
       "    }\n",
       "\n",
       "    .dataframe tbody tr th {\n",
       "        vertical-align: top;\n",
       "    }\n",
       "\n",
       "    .dataframe thead th {\n",
       "        text-align: right;\n",
       "    }\n",
       "</style>\n",
       "<table border=\"1\" class=\"dataframe\">\n",
       "  <thead>\n",
       "    <tr style=\"text-align: right;\">\n",
       "      <th></th>\n",
       "      <th>param_max_depth</th>\n",
       "      <th>param_n_estimators</th>\n",
       "      <th>mean_test_score</th>\n",
       "    </tr>\n",
       "  </thead>\n",
       "  <tbody>\n",
       "    <tr>\n",
       "      <th>0</th>\n",
       "      <td>3</td>\n",
       "      <td>250</td>\n",
       "      <td>0.958278</td>\n",
       "    </tr>\n",
       "    <tr>\n",
       "      <th>1</th>\n",
       "      <td>3</td>\n",
       "      <td>350</td>\n",
       "      <td>0.958278</td>\n",
       "    </tr>\n",
       "    <tr>\n",
       "      <th>2</th>\n",
       "      <td>3</td>\n",
       "      <td>500</td>\n",
       "      <td>0.958278</td>\n",
       "    </tr>\n",
       "    <tr>\n",
       "      <th>3</th>\n",
       "      <td>6</td>\n",
       "      <td>250</td>\n",
       "      <td>0.958278</td>\n",
       "    </tr>\n",
       "    <tr>\n",
       "      <th>4</th>\n",
       "      <td>6</td>\n",
       "      <td>350</td>\n",
       "      <td>0.958324</td>\n",
       "    </tr>\n",
       "    <tr>\n",
       "      <th>5</th>\n",
       "      <td>6</td>\n",
       "      <td>500</td>\n",
       "      <td>0.958278</td>\n",
       "    </tr>\n",
       "    <tr>\n",
       "      <th>6</th>\n",
       "      <td>8</td>\n",
       "      <td>250</td>\n",
       "      <td>0.959280</td>\n",
       "    </tr>\n",
       "    <tr>\n",
       "      <th>7</th>\n",
       "      <td>8</td>\n",
       "      <td>350</td>\n",
       "      <td>0.959053</td>\n",
       "    </tr>\n",
       "    <tr>\n",
       "      <th>8</th>\n",
       "      <td>8</td>\n",
       "      <td>500</td>\n",
       "      <td>0.959508</td>\n",
       "    </tr>\n",
       "  </tbody>\n",
       "</table>\n",
       "</div>"
      ],
      "text/plain": [
       "  param_max_depth param_n_estimators  mean_test_score\n",
       "0               3                250         0.958278\n",
       "1               3                350         0.958278\n",
       "2               3                500         0.958278\n",
       "3               6                250         0.958278\n",
       "4               6                350         0.958324\n",
       "5               6                500         0.958278\n",
       "6               8                250         0.959280\n",
       "7               8                350         0.959053\n",
       "8               8                500         0.959508"
      ]
     },
     "execution_count": 38,
     "metadata": {},
     "output_type": "execute_result"
    }
   ],
   "source": [
    "Score4 = pd.DataFrame(gs5.cv_results_)\n",
    "Score4[['param_max_depth', 'param_n_estimators', 'mean_test_score']]"
   ]
  },
  {
   "cell_type": "code",
   "execution_count": 39,
   "metadata": {},
   "outputs": [
    {
     "name": "stdout",
     "output_type": "stream",
     "text": [
      "Cross-validation accuracy score (with optimized parameters) = 0.960 (+/- 0.00056)\n"
     ]
    }
   ],
   "source": [
    "gs_best5 = gs5.best_estimator_\n",
    "skf = StratifiedKFold(n_splits=3, random_state=0)\n",
    "new_scores = cross_val_score(gs_best5, X_train, y_train, cv=skf, scoring = 'accuracy')\n",
    "print('Cross-validation accuracy score (with optimized parameters) = %1.3f '\n",
    "      '(+/- %1.5f)' % (np.mean(new_scores), np.std(new_scores)))"
   ]
  },
  {
   "cell_type": "code",
   "execution_count": 40,
   "metadata": {},
   "outputs": [],
   "source": [
    "model4 = RandomForestClassifier(max_depth=8, n_estimators=250, random_state=0)\n",
    "model4.fit(X_train, y_train)\n",
    "y_pred4 = model4.predict(X_test)\n",
    "res_4 = model_info(y_test, y_pred4)"
   ]
  },
  {
   "cell_type": "markdown",
   "metadata": {},
   "source": [
    "#### Confusion Matrix"
   ]
  },
  {
   "cell_type": "markdown",
   "metadata": {},
   "source": [
    "The confusion matrix shows that this random forest model does not predict many one outcomes but the five times it did, the model was right more than wrong."
   ]
  },
  {
   "cell_type": "code",
   "execution_count": 41,
   "metadata": {},
   "outputs": [
    {
     "data": {
      "text/plain": [
       "Text(24.0, 0.5, 'Actual')"
      ]
     },
     "execution_count": 41,
     "metadata": {},
     "output_type": "execute_result"
    },
    {
     "data": {
      "image/png": "[encoded data removed]",
      "text/plain": [
       "<Figure size 360x360 with 2 Axes>"
      ]
     },
     "metadata": {
      "needs_background": "light"
     },
     "output_type": "display_data"
    }
   ],
   "source": [
    "cm = confusion_matrix(y_test, y_pred4)\n",
    "f , ax =  plt.subplots(figsize =(5,5))\n",
    "sns.heatmap(cm, annot =True, linewidth = 0.5, linecolor = \"red\", fmt = \".0f\", ax =ax)\n",
    "plt.title(\"Test Dataset\")\n",
    "plt.xlabel(\"Predicted\")\n",
    "plt.ylabel(\"Actual\")"
   ]
  },
  {
   "cell_type": "markdown",
   "metadata": {},
   "source": [
    "#### Model Metrics"
   ]
  },
  {
   "cell_type": "markdown",
   "metadata": {},
   "source": [
    "The model metrics show that the random forest model with the whole data set is better than the one using KNN. The random forest model is predicting more one outcomes unlike the KNN model. The specificity shows that when the outcome is actually one the model only gets it right 1% of the time. "
   ]
  },
  {
   "cell_type": "code",
   "execution_count": 42,
   "metadata": {},
   "outputs": [
    {
     "data": {
      "text/html": [
       "<div>\n",
       "<style scoped>\n",
       "    .dataframe tbody tr th:only-of-type {\n",
       "        vertical-align: middle;\n",
       "    }\n",
       "\n",
       "    .dataframe tbody tr th {\n",
       "        vertical-align: top;\n",
       "    }\n",
       "\n",
       "    .dataframe thead th {\n",
       "        text-align: right;\n",
       "    }\n",
       "</style>\n",
       "<table border=\"1\" class=\"dataframe\">\n",
       "  <thead>\n",
       "    <tr style=\"text-align: right;\">\n",
       "      <th></th>\n",
       "      <th>Accuracy</th>\n",
       "      <th>NPV</th>\n",
       "      <th>PPV</th>\n",
       "      <th>Specificity</th>\n",
       "      <th>Sensitivity</th>\n",
       "      <th>F1 Score 1</th>\n",
       "      <th>F1 Score 0</th>\n",
       "      <th>False Negative Rate</th>\n",
       "      <th>False Postive Rate</th>\n",
       "    </tr>\n",
       "  </thead>\n",
       "  <tbody>\n",
       "    <tr>\n",
       "      <th>0</th>\n",
       "      <td>0.955547</td>\n",
       "      <td>0.666667</td>\n",
       "      <td>0.955864</td>\n",
       "      <td>0.01626</td>\n",
       "      <td>0.999619</td>\n",
       "      <td>0.031746</td>\n",
       "      <td>0.977252</td>\n",
       "      <td>0.000381</td>\n",
       "      <td>0.98374</td>\n",
       "    </tr>\n",
       "  </tbody>\n",
       "</table>\n",
       "</div>"
      ],
      "text/plain": [
       "   Accuracy       NPV       PPV  Specificity  Sensitivity  F1 Score 1  \\\n",
       "0  0.955547  0.666667  0.955864      0.01626     0.999619    0.031746   \n",
       "\n",
       "   F1 Score 0  False Negative Rate  False Postive Rate  \n",
       "0    0.977252             0.000381             0.98374  "
      ]
     },
     "execution_count": 42,
     "metadata": {},
     "output_type": "execute_result"
    }
   ],
   "source": [
    "res_4"
   ]
  },
  {
   "cell_type": "markdown",
   "metadata": {},
   "source": [
    "#### ROC Plots"
   ]
  },
  {
   "cell_type": "markdown",
   "metadata": {},
   "source": [
    "The ROC plot and AUC both provide evidence that this model is much better than a random guess."
   ]
  },
  {
   "cell_type": "code",
   "execution_count": 43,
   "metadata": {},
   "outputs": [
    {
     "data": {
      "text/plain": [
       "Text(0, 0.5, 'True Postive Rate')"
      ]
     },
     "execution_count": 43,
     "metadata": {},
     "output_type": "execute_result"
    },
    {
     "data": {
      "image/png": "[encoded data removed]",
      "text/plain": [
       "<Figure size 432x288 with 1 Axes>"
      ]
     },
     "metadata": {
      "needs_background": "light"
     },
     "output_type": "display_data"
    }
   ],
   "source": [
    "y_pred_proba4 = model4.predict_proba(X_test)[::,1]\n",
    "fpr, tpr, _ = roc_curve(y_test,  y_pred_proba4)\n",
    "auc5 = auc(fpr,tpr)\n",
    "#auc = roc_auc_score(y_test, y_pred_proba3)\n",
    "plt.plot(fpr,tpr,label=\"auc=\"+str(auc5))\n",
    "plt.legend(loc=4)\n",
    "plt.title('Receiver Operating Characteristics (ROC) Curve')\n",
    "plt.xlabel('False Postive Rate')\n",
    "plt.ylabel('True Postive Rate')"
   ]
  },
  {
   "cell_type": "markdown",
   "metadata": {},
   "source": [
    "#### RandomForest Under Sample"
   ]
  },
  {
   "cell_type": "markdown",
   "metadata": {},
   "source": [
    "Random Forest conducted with same under sampling data from above. "
   ]
  },
  {
   "cell_type": "markdown",
   "metadata": {},
   "source": [
    "#### Grid Search for max_depth and n_estimators"
   ]
  },
  {
   "cell_type": "markdown",
   "metadata": {},
   "source": [
    "A grid search was done to find the best parameters for a random forest model using stratified K – fold cross validation."
   ]
  },
  {
   "cell_type": "code",
   "execution_count": 44,
   "metadata": {},
   "outputs": [
    {
     "name": "stdout",
     "output_type": "stream",
     "text": [
      "{'max_depth': 8, 'n_estimators': 350}\n"
     ]
    }
   ],
   "source": [
    "rf = RandomForestClassifier()\n",
    "params = {'max_depth' : [3,6,8],'n_estimators':[250 ,350 ,500] }\n",
    "gs6 = GridSearchCV(estimator=rf, param_grid=params, scoring='accuracy',\n",
    "                   cv = StratifiedKFold(n_splits = 3, random_state=0), n_jobs =1)\n",
    "gs6.fit(X_train_1, y_train_1)\n",
    "print(gs6.best_params_)"
   ]
  },
  {
   "cell_type": "code",
   "execution_count": 45,
   "metadata": {},
   "outputs": [
    {
     "data": {
      "text/html": [
       "<div>\n",
       "<style scoped>\n",
       "    .dataframe tbody tr th:only-of-type {\n",
       "        vertical-align: middle;\n",
       "    }\n",
       "\n",
       "    .dataframe tbody tr th {\n",
       "        vertical-align: top;\n",
       "    }\n",
       "\n",
       "    .dataframe thead th {\n",
       "        text-align: right;\n",
       "    }\n",
       "</style>\n",
       "<table border=\"1\" class=\"dataframe\">\n",
       "  <thead>\n",
       "    <tr style=\"text-align: right;\">\n",
       "      <th></th>\n",
       "      <th>param_max_depth</th>\n",
       "      <th>param_n_estimators</th>\n",
       "      <th>mean_test_score</th>\n",
       "    </tr>\n",
       "  </thead>\n",
       "  <tbody>\n",
       "    <tr>\n",
       "      <th>0</th>\n",
       "      <td>3</td>\n",
       "      <td>250</td>\n",
       "      <td>0.779123</td>\n",
       "    </tr>\n",
       "    <tr>\n",
       "      <th>1</th>\n",
       "      <td>3</td>\n",
       "      <td>350</td>\n",
       "      <td>0.779850</td>\n",
       "    </tr>\n",
       "    <tr>\n",
       "      <th>2</th>\n",
       "      <td>3</td>\n",
       "      <td>500</td>\n",
       "      <td>0.778639</td>\n",
       "    </tr>\n",
       "    <tr>\n",
       "      <th>3</th>\n",
       "      <td>6</td>\n",
       "      <td>250</td>\n",
       "      <td>0.826835</td>\n",
       "    </tr>\n",
       "    <tr>\n",
       "      <th>4</th>\n",
       "      <td>6</td>\n",
       "      <td>350</td>\n",
       "      <td>0.821991</td>\n",
       "    </tr>\n",
       "    <tr>\n",
       "      <th>5</th>\n",
       "      <td>6</td>\n",
       "      <td>500</td>\n",
       "      <td>0.823928</td>\n",
       "    </tr>\n",
       "    <tr>\n",
       "      <th>6</th>\n",
       "      <td>8</td>\n",
       "      <td>250</td>\n",
       "      <td>0.833616</td>\n",
       "    </tr>\n",
       "    <tr>\n",
       "      <th>7</th>\n",
       "      <td>8</td>\n",
       "      <td>350</td>\n",
       "      <td>0.837007</td>\n",
       "    </tr>\n",
       "    <tr>\n",
       "      <th>8</th>\n",
       "      <td>8</td>\n",
       "      <td>500</td>\n",
       "      <td>0.836280</td>\n",
       "    </tr>\n",
       "  </tbody>\n",
       "</table>\n",
       "</div>"
      ],
      "text/plain": [
       "  param_max_depth param_n_estimators  mean_test_score\n",
       "0               3                250         0.779123\n",
       "1               3                350         0.779850\n",
       "2               3                500         0.778639\n",
       "3               6                250         0.826835\n",
       "4               6                350         0.821991\n",
       "5               6                500         0.823928\n",
       "6               8                250         0.833616\n",
       "7               8                350         0.837007\n",
       "8               8                500         0.836280"
      ]
     },
     "execution_count": 45,
     "metadata": {},
     "output_type": "execute_result"
    }
   ],
   "source": [
    "Score5 = pd.DataFrame(gs6.cv_results_)\n",
    "Score5[['param_max_depth', 'param_n_estimators', 'mean_test_score']]"
   ]
  },
  {
   "cell_type": "code",
   "execution_count": 46,
   "metadata": {},
   "outputs": [
    {
     "name": "stdout",
     "output_type": "stream",
     "text": [
      "Cross-validation accuracy score (with optimized parameters) = 0.836 (+/- 0.00589)\n"
     ]
    }
   ],
   "source": [
    "gs_best6 = gs6.best_estimator_\n",
    "skf = StratifiedKFold(n_splits=3, random_state=0)\n",
    "new_scores = cross_val_score(gs_best6, X_train_1, y_train_1, cv=skf, scoring = 'accuracy')\n",
    "print('Cross-validation accuracy score (with optimized parameters) = %1.3f '\n",
    "      '(+/- %1.5f)' % (np.mean(new_scores), np.std(new_scores)))"
   ]
  },
  {
   "cell_type": "code",
   "execution_count": 47,
   "metadata": {},
   "outputs": [],
   "source": [
    "model5 = RandomForestClassifier(max_depth=8, n_estimators=350, random_state=0)\n",
    "model5.fit(X_train_1, y_train_1)\n",
    "y_pred5 = model5.predict(X_test_1)\n",
    "res_5 = model_info(y_test_1, y_pred5)"
   ]
  },
  {
   "cell_type": "markdown",
   "metadata": {},
   "source": [
    "#### Confusion Matrix"
   ]
  },
  {
   "cell_type": "markdown",
   "metadata": {},
   "source": [
    "The confusion matrix shows that this random forest model is predicting many more one outcomes than the first random forest model."
   ]
  },
  {
   "cell_type": "code",
   "execution_count": 48,
   "metadata": {},
   "outputs": [
    {
     "data": {
      "text/plain": [
       "Text(24.0, 0.5, 'Actual')"
      ]
     },
     "execution_count": 48,
     "metadata": {},
     "output_type": "execute_result"
    },
    {
     "data": {
      "image/png": "[encoded data removed]",
      "text/plain": [
       "<Figure size 360x360 with 2 Axes>"
      ]
     },
     "metadata": {
      "needs_background": "light"
     },
     "output_type": "display_data"
    }
   ],
   "source": [
    "cm = confusion_matrix(y_test_1, y_pred5)\n",
    "f , ax =  plt.subplots(figsize =(5,5))\n",
    "sns.heatmap(cm, annot =True, linewidth = 0.5, linecolor = \"red\", fmt = \".0f\", ax =ax)\n",
    "plt.title(\"Test Dataset\")\n",
    "plt.xlabel(\"Predicted\")\n",
    "plt.ylabel(\"Actual\")"
   ]
  },
  {
   "cell_type": "markdown",
   "metadata": {},
   "source": [
    "#### Model Metrics"
   ]
  },
  {
   "cell_type": "markdown",
   "metadata": {},
   "source": [
    "The model metrics show this model to be the best model out of all shown. The key metric that sticks out is the specificity of 37%, which is the best out of any model. This shows that this random forest model gets about 40% of the one outcomes right when it is actually a one. Doesn’t sound great but it is the best out of all models conducted. "
   ]
  },
  {
   "cell_type": "code",
   "execution_count": 49,
   "metadata": {},
   "outputs": [
    {
     "data": {
      "text/html": [
       "<div>\n",
       "<style scoped>\n",
       "    .dataframe tbody tr th:only-of-type {\n",
       "        vertical-align: middle;\n",
       "    }\n",
       "\n",
       "    .dataframe tbody tr th {\n",
       "        vertical-align: top;\n",
       "    }\n",
       "\n",
       "    .dataframe thead th {\n",
       "        text-align: right;\n",
       "    }\n",
       "</style>\n",
       "<table border=\"1\" class=\"dataframe\">\n",
       "  <thead>\n",
       "    <tr style=\"text-align: right;\">\n",
       "      <th></th>\n",
       "      <th>Accuracy</th>\n",
       "      <th>NPV</th>\n",
       "      <th>PPV</th>\n",
       "      <th>Specificity</th>\n",
       "      <th>Sensitivity</th>\n",
       "      <th>F1 Score 1</th>\n",
       "      <th>F1 Score 0</th>\n",
       "      <th>False Negative Rate</th>\n",
       "      <th>False Postive Rate</th>\n",
       "    </tr>\n",
       "  </thead>\n",
       "  <tbody>\n",
       "    <tr>\n",
       "      <th>0</th>\n",
       "      <td>0.848984</td>\n",
       "      <td>0.876289</td>\n",
       "      <td>0.846154</td>\n",
       "      <td>0.371179</td>\n",
       "      <td>0.985075</td>\n",
       "      <td>0.521472</td>\n",
       "      <td>0.910345</td>\n",
       "      <td>0.014925</td>\n",
       "      <td>0.628821</td>\n",
       "    </tr>\n",
       "  </tbody>\n",
       "</table>\n",
       "</div>"
      ],
      "text/plain": [
       "   Accuracy       NPV       PPV  Specificity  Sensitivity  F1 Score 1  \\\n",
       "0  0.848984  0.876289  0.846154     0.371179     0.985075    0.521472   \n",
       "\n",
       "   F1 Score 0  False Negative Rate  False Postive Rate  \n",
       "0    0.910345             0.014925            0.628821  "
      ]
     },
     "execution_count": 49,
     "metadata": {},
     "output_type": "execute_result"
    }
   ],
   "source": [
    "res_5"
   ]
  },
  {
   "cell_type": "markdown",
   "metadata": {},
   "source": [
    "#### ROC Plot"
   ]
  },
  {
   "cell_type": "markdown",
   "metadata": {},
   "source": [
    "The ROC plot and the AUC of .89 provide evidence that this model is the best model. "
   ]
  },
  {
   "cell_type": "code",
   "execution_count": 50,
   "metadata": {},
   "outputs": [
    {
     "data": {
      "text/plain": [
       "Text(0, 0.5, 'True Postive Rate')"
      ]
     },
     "execution_count": 50,
     "metadata": {},
     "output_type": "execute_result"
    },
    {
     "data": {
      "image/png": "[encoded data removed]",
      "text/plain": [
       "<Figure size 432x288 with 1 Axes>"
      ]
     },
     "metadata": {
      "needs_background": "light"
     },
     "output_type": "display_data"
    }
   ],
   "source": [
    "y_pred_proba5 = model5.predict_proba(X_test_1)[::,1]\n",
    "fpr, tpr, _ = roc_curve(y_test_1,  y_pred_proba5)\n",
    "auc5 = auc(fpr,tpr)\n",
    "#auc = roc_auc_score(y_test, y_pred_proba3)\n",
    "plt.plot(fpr,tpr,label=\"auc=\"+str(auc5))\n",
    "plt.legend(loc=4)\n",
    "plt.title('Receiver Operating Characteristics (ROC) Curve')\n",
    "plt.xlabel('False Postive Rate')\n",
    "plt.ylabel('True Postive Rate')"
   ]
  },
  {
   "cell_type": "markdown",
   "metadata": {},
   "source": [
    "### Results"
   ]
  },
  {
   "cell_type": "code",
   "execution_count": 51,
   "metadata": {},
   "outputs": [
    {
     "data": {
      "text/html": [
       "<div>\n",
       "<style scoped>\n",
       "    .dataframe tbody tr th:only-of-type {\n",
       "        vertical-align: middle;\n",
       "    }\n",
       "\n",
       "    .dataframe tbody tr th {\n",
       "        vertical-align: top;\n",
       "    }\n",
       "\n",
       "    .dataframe thead th {\n",
       "        text-align: right;\n",
       "    }\n",
       "</style>\n",
       "<table border=\"1\" class=\"dataframe\">\n",
       "  <thead>\n",
       "    <tr style=\"text-align: right;\">\n",
       "      <th></th>\n",
       "      <th>Model</th>\n",
       "      <th>Accuracy</th>\n",
       "      <th>NPV</th>\n",
       "      <th>PPV</th>\n",
       "      <th>Specificity</th>\n",
       "      <th>Sensitivity</th>\n",
       "      <th>F1 Score 1</th>\n",
       "      <th>F1 Score 0</th>\n",
       "      <th>False Negative Rate</th>\n",
       "      <th>False Postive Rate</th>\n",
       "    </tr>\n",
       "  </thead>\n",
       "  <tbody>\n",
       "    <tr>\n",
       "      <th>0</th>\n",
       "      <td>KNN no sample</td>\n",
       "      <td>0.955183</td>\n",
       "      <td>0.000000</td>\n",
       "      <td>0.955183</td>\n",
       "      <td>0.000000</td>\n",
       "      <td>1.000000</td>\n",
       "      <td>0.000000</td>\n",
       "      <td>0.977078</td>\n",
       "      <td>0.000000</td>\n",
       "      <td>1.000000</td>\n",
       "    </tr>\n",
       "    <tr>\n",
       "      <th>0</th>\n",
       "      <td>KNN Under Sample</td>\n",
       "      <td>0.773475</td>\n",
       "      <td>0.459016</td>\n",
       "      <td>0.793210</td>\n",
       "      <td>0.122271</td>\n",
       "      <td>0.958955</td>\n",
       "      <td>0.193103</td>\n",
       "      <td>0.868243</td>\n",
       "      <td>0.041045</td>\n",
       "      <td>0.877729</td>\n",
       "    </tr>\n",
       "    <tr>\n",
       "      <th>0</th>\n",
       "      <td>KNN Under Sample with PCA</td>\n",
       "      <td>0.770571</td>\n",
       "      <td>0.423077</td>\n",
       "      <td>0.788991</td>\n",
       "      <td>0.096070</td>\n",
       "      <td>0.962687</td>\n",
       "      <td>0.156584</td>\n",
       "      <td>0.867227</td>\n",
       "      <td>0.037313</td>\n",
       "      <td>0.903930</td>\n",
       "    </tr>\n",
       "    <tr>\n",
       "      <th>0</th>\n",
       "      <td>RandomForest</td>\n",
       "      <td>0.955547</td>\n",
       "      <td>0.666667</td>\n",
       "      <td>0.955864</td>\n",
       "      <td>0.016260</td>\n",
       "      <td>0.999619</td>\n",
       "      <td>0.031746</td>\n",
       "      <td>0.977252</td>\n",
       "      <td>0.000381</td>\n",
       "      <td>0.983740</td>\n",
       "    </tr>\n",
       "    <tr>\n",
       "      <th>0</th>\n",
       "      <td>RandomForest Under Sample</td>\n",
       "      <td>0.848984</td>\n",
       "      <td>0.876289</td>\n",
       "      <td>0.846154</td>\n",
       "      <td>0.371179</td>\n",
       "      <td>0.985075</td>\n",
       "      <td>0.521472</td>\n",
       "      <td>0.910345</td>\n",
       "      <td>0.014925</td>\n",
       "      <td>0.628821</td>\n",
       "    </tr>\n",
       "  </tbody>\n",
       "</table>\n",
       "</div>"
      ],
      "text/plain": [
       "                       Model  Accuracy       NPV       PPV  Specificity  \\\n",
       "0              KNN no sample  0.955183  0.000000  0.955183     0.000000   \n",
       "0           KNN Under Sample  0.773475  0.459016  0.793210     0.122271   \n",
       "0  KNN Under Sample with PCA  0.770571  0.423077  0.788991     0.096070   \n",
       "0               RandomForest  0.955547  0.666667  0.955864     0.016260   \n",
       "0  RandomForest Under Sample  0.848984  0.876289  0.846154     0.371179   \n",
       "\n",
       "   Sensitivity  F1 Score 1  F1 Score 0  False Negative Rate  \\\n",
       "0     1.000000    0.000000    0.977078             0.000000   \n",
       "0     0.958955    0.193103    0.868243             0.041045   \n",
       "0     0.962687    0.156584    0.867227             0.037313   \n",
       "0     0.999619    0.031746    0.977252             0.000381   \n",
       "0     0.985075    0.521472    0.910345             0.014925   \n",
       "\n",
       "   False Postive Rate  \n",
       "0            1.000000  \n",
       "0            0.877729  \n",
       "0            0.903930  \n",
       "0            0.983740  \n",
       "0            0.628821  "
      ]
     },
     "execution_count": 51,
     "metadata": {},
     "output_type": "execute_result"
    }
   ],
   "source": [
    "res['Model'] = 'KNN no sample'\n",
    "res_1['Model'] = 'KNN Under Sample'\n",
    "res_2['Model'] = 'KNN Under Sample with PCA'\n",
    "res_4['Model'] = 'RandomForest'\n",
    "res_5['Model'] = 'RandomForest Under Sample'\n",
    "df_all = pd.concat([res,res_1,res_2, res_4, res_5], axis = 0)\n",
    "df_all = df_all.iloc[:,[9,0,1,2,3,4,5,6,7,8]]\n",
    "df_all"
   ]
  }
 ],
 "metadata": {
  "kernelspec": {
   "display_name": "Python 3",
   "language": "python",
   "name": "python3"
  },
  "language_info": {
   "codemirror_mode": {
    "name": "ipython",
    "version": 3
   },
   "file_extension": ".py",
   "mimetype": "text/x-python",
   "name": "python",
   "nbconvert_exporter": "python",
   "pygments_lexer": "ipython3",
   "version": "3.6.9"
  }
 },
 "nbformat": 4,
 "nbformat_minor": 2
}
