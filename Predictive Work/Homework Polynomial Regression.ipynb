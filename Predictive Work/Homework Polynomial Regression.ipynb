{
 "cells": [
  {
   "cell_type": "markdown",
   "metadata": {},
   "source": [
    "## Polynomial Regression"
   ]
  },
  {
   "cell_type": "markdown",
   "metadata": {},
   "source": [
    "### Loading of Libraries"
   ]
  },
  {
   "cell_type": "code",
   "execution_count": 1,
   "metadata": {},
   "outputs": [],
   "source": [
    "import pandas as pd\n",
    "import numpy as np \n",
    "import matplotlib.pyplot as plt\n",
    "import seaborn as sns\n",
    "from sklearn.linear_model import LinearRegression, Ridge, Lasso\n",
    "from sklearn.preprocessing import PolynomialFeatures, MinMaxScaler\n",
    "import warnings\n",
    "warnings.filterwarnings('ignore')\n",
    "from sklearn.metrics import mean_squared_error, r2_score, mean_absolute_error"
   ]
  },
  {
   "cell_type": "markdown",
   "metadata": {},
   "source": [
    "### Loading of Data"
   ]
  },
  {
   "cell_type": "code",
   "execution_count": 2,
   "metadata": {},
   "outputs": [
    {
     "data": {
      "text/html": [
       "<div>\n",
       "<style scoped>\n",
       "    .dataframe tbody tr th:only-of-type {\n",
       "        vertical-align: middle;\n",
       "    }\n",
       "\n",
       "    .dataframe tbody tr th {\n",
       "        vertical-align: top;\n",
       "    }\n",
       "\n",
       "    .dataframe thead th {\n",
       "        text-align: right;\n",
       "    }\n",
       "</style>\n",
       "<table border=\"1\" class=\"dataframe\">\n",
       "  <thead>\n",
       "    <tr style=\"text-align: right;\">\n",
       "      <th></th>\n",
       "      <th>Position</th>\n",
       "      <th>Level</th>\n",
       "      <th>Salary</th>\n",
       "    </tr>\n",
       "  </thead>\n",
       "  <tbody>\n",
       "    <tr>\n",
       "      <th>0</th>\n",
       "      <td>Business Analyst</td>\n",
       "      <td>1</td>\n",
       "      <td>45000</td>\n",
       "    </tr>\n",
       "    <tr>\n",
       "      <th>1</th>\n",
       "      <td>Junior Consultant</td>\n",
       "      <td>2</td>\n",
       "      <td>50000</td>\n",
       "    </tr>\n",
       "    <tr>\n",
       "      <th>2</th>\n",
       "      <td>Senior Consultant</td>\n",
       "      <td>3</td>\n",
       "      <td>60000</td>\n",
       "    </tr>\n",
       "    <tr>\n",
       "      <th>3</th>\n",
       "      <td>Manager</td>\n",
       "      <td>4</td>\n",
       "      <td>80000</td>\n",
       "    </tr>\n",
       "    <tr>\n",
       "      <th>4</th>\n",
       "      <td>Country Manager</td>\n",
       "      <td>5</td>\n",
       "      <td>110000</td>\n",
       "    </tr>\n",
       "    <tr>\n",
       "      <th>5</th>\n",
       "      <td>Region Manager</td>\n",
       "      <td>6</td>\n",
       "      <td>150000</td>\n",
       "    </tr>\n",
       "    <tr>\n",
       "      <th>6</th>\n",
       "      <td>Partner</td>\n",
       "      <td>7</td>\n",
       "      <td>200000</td>\n",
       "    </tr>\n",
       "    <tr>\n",
       "      <th>7</th>\n",
       "      <td>Senior Partner</td>\n",
       "      <td>8</td>\n",
       "      <td>300000</td>\n",
       "    </tr>\n",
       "    <tr>\n",
       "      <th>8</th>\n",
       "      <td>C-level</td>\n",
       "      <td>9</td>\n",
       "      <td>500000</td>\n",
       "    </tr>\n",
       "    <tr>\n",
       "      <th>9</th>\n",
       "      <td>CEO</td>\n",
       "      <td>10</td>\n",
       "      <td>1000000</td>\n",
       "    </tr>\n",
       "  </tbody>\n",
       "</table>\n",
       "</div>"
      ],
      "text/plain": [
       "            Position  Level   Salary\n",
       "0   Business Analyst      1    45000\n",
       "1  Junior Consultant      2    50000\n",
       "2  Senior Consultant      3    60000\n",
       "3            Manager      4    80000\n",
       "4    Country Manager      5   110000\n",
       "5     Region Manager      6   150000\n",
       "6            Partner      7   200000\n",
       "7     Senior Partner      8   300000\n",
       "8            C-level      9   500000\n",
       "9                CEO     10  1000000"
      ]
     },
     "execution_count": 2,
     "metadata": {},
     "output_type": "execute_result"
    }
   ],
   "source": [
    "df = pd.read_csv('Position_Salary.csv')\n",
    "df"
   ]
  },
  {
   "cell_type": "markdown",
   "metadata": {},
   "source": [
    "### Scatterplot"
   ]
  },
  {
   "cell_type": "markdown",
   "metadata": {},
   "source": [
    "A scatterplot was created to see the relationship between the independent variable Level and the dependent variable Salary. The relationship is somewhat linear but not a perfect linear relationship. "
   ]
  },
  {
   "cell_type": "code",
   "execution_count": 3,
   "metadata": {},
   "outputs": [
    {
     "data": {
      "text/plain": [
       "Text(0.5,1,'Level vs. Salary')"
      ]
     },
     "execution_count": 3,
     "metadata": {},
     "output_type": "execute_result"
    },
    {
     "data": {
      "text/plain": [
       "<Figure size 1440x576 with 0 Axes>"
      ]
     },
     "metadata": {},
     "output_type": "display_data"
    },
    {
     "data": {
      "image/png": "[encoded data removed]",
      "text/plain": [
       "<Figure size 360x360 with 1 Axes>"
      ]
     },
     "metadata": {},
     "output_type": "display_data"
    }
   ],
   "source": [
    "sns.set_style(\"darkgrid\")\n",
    "plt.figure(figsize=(20,8))\n",
    "sns.lmplot(x=\"Level\", y=\"Salary\", data=df, fit_reg =False)\n",
    "plt.title('Level vs. Salary')"
   ]
  },
  {
   "cell_type": "markdown",
   "metadata": {},
   "source": [
    "### Correlation"
   ]
  },
  {
   "cell_type": "markdown",
   "metadata": {},
   "source": [
    "The correlation between Level and Salary was conducted and the results show that these to variables have a high correlation. "
   ]
  },
  {
   "cell_type": "code",
   "execution_count": 4,
   "metadata": {},
   "outputs": [
    {
     "data": {
      "text/html": [
       "<div>\n",
       "<style scoped>\n",
       "    .dataframe tbody tr th:only-of-type {\n",
       "        vertical-align: middle;\n",
       "    }\n",
       "\n",
       "    .dataframe tbody tr th {\n",
       "        vertical-align: top;\n",
       "    }\n",
       "\n",
       "    .dataframe thead th {\n",
       "        text-align: right;\n",
       "    }\n",
       "</style>\n",
       "<table border=\"1\" class=\"dataframe\">\n",
       "  <thead>\n",
       "    <tr style=\"text-align: right;\">\n",
       "      <th></th>\n",
       "      <th>Level</th>\n",
       "      <th>Salary</th>\n",
       "    </tr>\n",
       "  </thead>\n",
       "  <tbody>\n",
       "    <tr>\n",
       "      <th>Level</th>\n",
       "      <td>1.000000</td>\n",
       "      <td>0.817949</td>\n",
       "    </tr>\n",
       "    <tr>\n",
       "      <th>Salary</th>\n",
       "      <td>0.817949</td>\n",
       "      <td>1.000000</td>\n",
       "    </tr>\n",
       "  </tbody>\n",
       "</table>\n",
       "</div>"
      ],
      "text/plain": [
       "           Level    Salary\n",
       "Level   1.000000  0.817949\n",
       "Salary  0.817949  1.000000"
      ]
     },
     "execution_count": 4,
     "metadata": {},
     "output_type": "execute_result"
    }
   ],
   "source": [
    "cor = df.corr()\n",
    "cor"
   ]
  },
  {
   "cell_type": "markdown",
   "metadata": {},
   "source": [
    "### Spliting data in to X & Y"
   ]
  },
  {
   "cell_type": "code",
   "execution_count": 5,
   "metadata": {},
   "outputs": [],
   "source": [
    "X = df.iloc[:, 1:2].values\n",
    "y = df.iloc[:, 2].values"
   ]
  },
  {
   "cell_type": "markdown",
   "metadata": {},
   "source": [
    "### Basic Linear Model"
   ]
  },
  {
   "cell_type": "markdown",
   "metadata": {},
   "source": [
    "Based on the R-squared and the plot below this model is not a good fit for seeing if the new employee is bluffing. The R-squared of 0.51 shows that the model does not explain much of the variance in the dependent variable. The scatterplot blow has Level on the x-axis and Salary on the y-axis with a blue line, which shows the outcome when the Level values are predicted with the formula created. The line is no ware near the red points, which are the actual salaries.  A salary prediction of 209,060 does not make sense for a Level 5 employee. "
   ]
  },
  {
   "cell_type": "code",
   "execution_count": 6,
   "metadata": {},
   "outputs": [
    {
     "name": "stdout",
     "output_type": "stream",
     "text": [
      "Model Coef: [80878.78787879]\n",
      "Model Intercept: -195333.3333333332\n",
      "Model R-squared: 0.5053238120653418\n",
      "--------------------------------------------------------------------------------\n",
      "Predicting for Salary for HR: [209060.60606061]\n"
     ]
    },
    {
     "data": {
      "text/plain": [
       "Text(0,0.5,'Salary')"
      ]
     },
     "execution_count": 6,
     "metadata": {},
     "output_type": "execute_result"
    },
    {
     "data": {
      "image/png": "[encoded data removed]",
      "text/plain": [
       "<Figure size 432x288 with 1 Axes>"
      ]
     },
     "metadata": {},
     "output_type": "display_data"
    }
   ],
   "source": [
    "lin = LinearRegression().fit(X,y)\n",
    "print('Model Coef: {}'.format(lin.coef_))\n",
    "print('Model Intercept: {}'.format(lin.intercept_))\n",
    "y_pred = lin.predict(X)\n",
    "print('Model R-squared: {}'.format(r2_score(y_pred, y)))\n",
    "print('--'*40)\n",
    "pred = lin.predict([[5]])\n",
    "print('Predicting for Salary for HR:', pred)\n",
    "plt.scatter(X,y, color = 'red')\n",
    "plt.plot(X, y_pred, color = 'blue')\n",
    "plt.title('Linear Regression')\n",
    "plt.xlabel('Level')\n",
    "plt.ylabel('Salary')"
   ]
  },
  {
   "cell_type": "markdown",
   "metadata": {},
   "source": [
    "### Ploynoimal Regression With Linear Degree 2"
   ]
  },
  {
   "cell_type": "markdown",
   "metadata": {},
   "source": [
    "Based on the R-squared and the plot below this model is somewhat of a good fit for seeing if the new employee is bluffing. The R-squared of 0.90 shows that the model explains most of the variance in the dependent variable. The scatterplot blow shows that the model fits well but is not perfect. The model seems to predict low for a level 5 employee. A salary prediction for a Level 5 employee of 53,606 backs this observation up. "
   ]
  },
  {
   "cell_type": "code",
   "execution_count": 7,
   "metadata": {},
   "outputs": [
    {
     "name": "stdout",
     "output_type": "stream",
     "text": [
      "Model Coef: [      0.         -132871.21212121   19431.81818182]\n",
      "Model Intercept: 232166.6666666665\n",
      "Model R-squared: 0.908545049225284\n",
      "--------------------------------------------------------------------------------\n",
      "Predicting for Salary for HR: [53606.06060606]\n"
     ]
    },
    {
     "data": {
      "text/plain": [
       "Text(0,0.5,'Salary')"
      ]
     },
     "execution_count": 7,
     "metadata": {},
     "output_type": "execute_result"
    },
    {
     "data": {
      "image/png": "[encoded data removed]",
      "text/plain": [
       "<Figure size 432x288 with 1 Axes>"
      ]
     },
     "metadata": {},
     "output_type": "display_data"
    }
   ],
   "source": [
    "poly_reg = PolynomialFeatures(degree=2)\n",
    "X_poly = poly_reg.fit_transform(X)\n",
    "pol_reg = LinearRegression()\n",
    "pol_reg.fit(X_poly, y)\n",
    "print('Model Coef: {}'.format(pol_reg.coef_))\n",
    "print('Model Intercept: {}'.format(pol_reg.intercept_))\n",
    "y_pred = pol_reg.predict(X_poly)\n",
    "r2_lin2 = r2_score(y_pred, y)\n",
    "print('Model R-squared: {}'.format(r2_lin2))\n",
    "print('--'*40)\n",
    "pred1 = pol_reg.predict(poly_reg.transform([[5]]))\n",
    "print('Predicting for Salary for HR:', pred1)\n",
    "plt.scatter(X,y, color = 'red')\n",
    "plt.plot(X, y_pred, color = 'blue')\n",
    "plt.title('Linear + Polynomial Regression Degree = 2')\n",
    "plt.xlabel('Level')\n",
    "plt.ylabel('Salary')"
   ]
  },
  {
   "cell_type": "markdown",
   "metadata": {},
   "source": [
    "### Ploynoimal Regression With Linear Degree 3"
   ]
  },
  {
   "cell_type": "markdown",
   "metadata": {},
   "source": [
    "The R-squared of 0.98 shows that the model explains almost all of the variance in the dependent variable. The scatterplot blow shows that the model fits well but is still a little low when it comes to predicting of a Level 5 employee. A salary prediction for a Level 5 employee of 83,270 backs this observation up. "
   ]
  },
  {
   "cell_type": "code",
   "execution_count": 8,
   "metadata": {},
   "outputs": [
    {
     "name": "stdout",
     "output_type": "stream",
     "text": [
      "Model Coef: [     0.         180664.33566432 -48548.95104895   4120.04662005]\n",
      "Model Intercept: -121333.33333331218\n",
      "Model R-squared: 0.9808499387901433\n",
      "--------------------------------------------------------------------------------\n",
      "Predicting for Salary for HR: [83270.3962704]\n"
     ]
    },
    {
     "data": {
      "text/plain": [
       "Text(0,0.5,'Salary')"
      ]
     },
     "execution_count": 8,
     "metadata": {},
     "output_type": "execute_result"
    },
    {
     "data": {
      "image/png": "[encoded data removed]",
      "text/plain": [
       "<Figure size 432x288 with 1 Axes>"
      ]
     },
     "metadata": {},
     "output_type": "display_data"
    }
   ],
   "source": [
    "poly_reg = PolynomialFeatures(degree=3)\n",
    "X_poly = poly_reg.fit_transform(X)\n",
    "pol_reg = LinearRegression()\n",
    "pol_reg.fit(X_poly, y)\n",
    "print('Model Coef: {}'.format(pol_reg.coef_))\n",
    "print('Model Intercept: {}'.format(pol_reg.intercept_))\n",
    "y_pred = pol_reg.predict(X_poly)\n",
    "r2_lin3 = r2_score(y_pred, y)\n",
    "print('Model R-squared: {}'.format(r2_lin3))\n",
    "print('--'*40)\n",
    "pred2 = pol_reg.predict(poly_reg.transform([[5]]))\n",
    "print('Predicting for Salary for HR:', pred2)\n",
    "plt.scatter(X,y, color = 'red')\n",
    "plt.plot(X, y_pred, color = 'blue')\n",
    "plt.title('Linear + Polynomial Regression Degree = 3')\n",
    "plt.xlabel('Level')\n",
    "plt.ylabel('Salary')"
   ]
  },
  {
   "cell_type": "markdown",
   "metadata": {},
   "source": [
    "### Ploynoimal Regression With Linear Degree 4"
   ]
  },
  {
   "cell_type": "markdown",
   "metadata": {},
   "source": [
    "The R-squared of 0.997 shows that the model explains all of the variance in the dependent variable. The scatterplot blow shows that the model fit is almost perfect. A salary prediction for a Level 5 employee of 132,148 is a little high, which points to this model being over fit to the training data. "
   ]
  },
  {
   "cell_type": "code",
   "execution_count": 9,
   "metadata": {},
   "outputs": [
    {
     "name": "stdout",
     "output_type": "stream",
     "text": [
      "Model Coef: [      0.         -211002.33100266   94765.44289054  -15463.2867133\n",
      "     890.15151515]\n",
      "Model Intercept: 184166.6666670672\n",
      "Model R-squared: 0.9973854712356878\n",
      "--------------------------------------------------------------------------------\n",
      "Predicting for Salary for HR: [132148.43750003]\n"
     ]
    },
    {
     "data": {
      "text/plain": [
       "Text(0,0.5,'Salary')"
      ]
     },
     "execution_count": 9,
     "metadata": {},
     "output_type": "execute_result"
    },
    {
     "data": {
      "image/png": "[encoded data removed]",
      "text/plain": [
       "<Figure size 432x288 with 1 Axes>"
      ]
     },
     "metadata": {},
     "output_type": "display_data"
    }
   ],
   "source": [
    "poly_reg = PolynomialFeatures(degree=4)\n",
    "X_poly = poly_reg.fit_transform(X)\n",
    "pol_reg = LinearRegression()\n",
    "pol_reg.fit(X_poly, y)\n",
    "print('Model Coef: {}'.format(pol_reg.coef_))\n",
    "print('Model Intercept: {}'.format(pol_reg.intercept_))\n",
    "y_pred = pol_reg.predict(X_poly)\n",
    "r2_lin4 = r2_score(y_pred, y)\n",
    "print('Model R-squared: {}'.format(r2_lin4))\n",
    "print('--'*40)\n",
    "pred3 = pol_reg.predict(poly_reg.transform([[5.5]]))\n",
    "print('Predicting for Salary for HR:', pred3)\n",
    "plt.scatter(X,y, color = 'red')\n",
    "plt.plot(X, y_pred, color = 'blue')\n",
    "plt.title('Linear + Polynomial Regression Degree = 4')\n",
    "plt.xlabel('Level')\n",
    "plt.ylabel('Salary')"
   ]
  },
  {
   "cell_type": "markdown",
   "metadata": {},
   "source": [
    "### Ridge Regression"
   ]
  },
  {
   "cell_type": "markdown",
   "metadata": {},
   "source": [
    "### Ploynoimal Regression With Ridge Degree 2"
   ]
  },
  {
   "cell_type": "markdown",
   "metadata": {},
   "source": [
    "The R-squared of 0.90 shows that the model explains most of the variance in the dependent variable. The scatterplot shows that the model fit is good but could be better. A salary prediction for a Level 5 employee of 71,011 is a little low. "
   ]
  },
  {
   "cell_type": "code",
   "execution_count": 10,
   "metadata": {},
   "outputs": [
    {
     "name": "stdout",
     "output_type": "stream",
     "text": [
      "Model Coef: [      0.         -106754.76419101   17175.2317465 ]\n",
      "Model Intercept: 175404.7808102807\n",
      "Model R-squared: 0.9012166755290071\n",
      "--------------------------------------------------------------------------------\n",
      "Predicting for Salary for HR: [71011.75351775]\n"
     ]
    },
    {
     "data": {
      "text/plain": [
       "Text(0,0.5,'Salary')"
      ]
     },
     "execution_count": 10,
     "metadata": {},
     "output_type": "execute_result"
    },
    {
     "data": {
      "image/png": "[encoded data removed]",
      "text/plain": [
       "<Figure size 432x288 with 1 Axes>"
      ]
     },
     "metadata": {},
     "output_type": "display_data"
    }
   ],
   "source": [
    "poly_reg = PolynomialFeatures(degree=2)\n",
    "X_poly = poly_reg.fit_transform(X)\n",
    "pol_reg = Ridge()\n",
    "pol_reg.fit(X_poly, y)\n",
    "print('Model Coef: {}'.format(pol_reg.coef_))\n",
    "print('Model Intercept: {}'.format(pol_reg.intercept_))\n",
    "y_pred = pol_reg.predict(X_poly)\n",
    "r2_rid2 = r2_score(y_pred, y)\n",
    "print('Model R-squared: {}'.format(r2_rid2))\n",
    "print('--'*40)\n",
    "pred4 = pol_reg.predict(poly_reg.transform([[5]]))\n",
    "print('Predicting for Salary for HR:', pred4)\n",
    "plt.scatter(X,y, color = 'red')\n",
    "plt.plot(X, y_pred, color = 'blue')\n",
    "plt.title('Ridge + Polynomial Regression Degree = 2')\n",
    "plt.xlabel('Level')\n",
    "plt.ylabel('Salary')"
   ]
  },
  {
   "cell_type": "markdown",
   "metadata": {},
   "source": [
    "### Ploynoimal Regression With Ridge Degree 3"
   ]
  },
  {
   "cell_type": "markdown",
   "metadata": {},
   "source": [
    "The R-squared of 0.97 shows that the model explains most of the variance in the dependent variable. The scatterplot shows that the model fit is good, but when looking at the blue line there seems to be points where the model is predicting much lower or much higher. A salary prediction for a Level 5 employee of 63,508 is low. "
   ]
  },
  {
   "cell_type": "code",
   "execution_count": 11,
   "metadata": {},
   "outputs": [
    {
     "name": "stdout",
     "output_type": "stream",
     "text": [
      "Model Coef: [     0.          54794.8886108  -23043.47813546   2646.09087562]\n",
      "Model Intercept: 34859.53098167229\n",
      "Model R-squared: 0.9708516334586302\n",
      "--------------------------------------------------------------------------------\n",
      "Predicting for Salary for HR: [63508.38010126]\n"
     ]
    },
    {
     "data": {
      "text/plain": [
       "Text(0,0.5,'Salary')"
      ]
     },
     "execution_count": 11,
     "metadata": {},
     "output_type": "execute_result"
    },
    {
     "data": {
      "image/png": "[encoded data removed]",
      "text/plain": [
       "<Figure size 432x288 with 1 Axes>"
      ]
     },
     "metadata": {},
     "output_type": "display_data"
    }
   ],
   "source": [
    "poly_reg = PolynomialFeatures(degree=3)\n",
    "X_poly = poly_reg.fit_transform(X)\n",
    "pol_reg = Ridge()\n",
    "pol_reg.fit(X_poly, y)\n",
    "print('Model Coef: {}'.format(pol_reg.coef_))\n",
    "print('Model Intercept: {}'.format(pol_reg.intercept_))\n",
    "y_pred = pol_reg.predict(X_poly)\n",
    "r2_rid3 = r2_score(y_pred, y)\n",
    "print('Model R-squared: {}'.format(r2_rid3))\n",
    "print('--'*40)\n",
    "pred5 = pol_reg.predict(poly_reg.transform([[5]]))\n",
    "print('Predicting for Salary for HR:', pred5)\n",
    "plt.scatter(X,y, color = 'red')\n",
    "plt.plot(X, y_pred, color = 'blue')\n",
    "plt.title('Ridge + Polynomial Regression Degree = 3')\n",
    "plt.xlabel('Level')\n",
    "plt.ylabel('Salary')"
   ]
  },
  {
   "cell_type": "markdown",
   "metadata": {},
   "source": [
    "### Ploynoimal Regression With Ridge Degree 4"
   ]
  },
  {
   "cell_type": "markdown",
   "metadata": {},
   "source": [
    "The R-squared of 0.993 shows that the model explains most of the variance in the dependent variable. The scatterplot shows that the model fit is almost perfect. The blue line shows a great fit and doesn’t seem to be to over fit. A salary prediction for a Level 5 employee of 107,423 seems about right. "
   ]
  },
  {
   "cell_type": "code",
   "execution_count": 12,
   "metadata": {},
   "outputs": [
    {
     "name": "stdout",
     "output_type": "stream",
     "text": [
      "Model Coef: [    0.         -6397.56562921 23714.21579411 -6137.96307511\n",
      "   479.28612486]\n",
      "Model Intercept: 14247.592993241851\n",
      "Model R-squared: 0.9935580296705666\n",
      "--------------------------------------------------------------------------------\n",
      "Predicting for Salary for HR: [107423.60335064]\n"
     ]
    },
    {
     "data": {
      "text/plain": [
       "Text(0,0.5,'Salary')"
      ]
     },
     "execution_count": 12,
     "metadata": {},
     "output_type": "execute_result"
    },
    {
     "data": {
      "image/png": "[encoded data removed]",
      "text/plain": [
       "<Figure size 432x288 with 1 Axes>"
      ]
     },
     "metadata": {},
     "output_type": "display_data"
    }
   ],
   "source": [
    "poly_reg = PolynomialFeatures(degree=4)\n",
    "X_poly = poly_reg.fit_transform(X)\n",
    "pol_reg = Ridge()\n",
    "pol_reg.fit(X_poly, y)\n",
    "print('Model Coef: {}'.format(pol_reg.coef_))\n",
    "print('Model Intercept: {}'.format(pol_reg.intercept_))\n",
    "y_pred = pol_reg.predict(X_poly)\n",
    "r2_rid4 = r2_score(y_pred, y)\n",
    "print('Model R-squared: {}'.format(r2_rid4))\n",
    "print('--'*40)\n",
    "pred6 = pol_reg.predict(poly_reg.transform([[5]]))\n",
    "print('Predicting for Salary for HR:', pred6)\n",
    "plt.scatter(X,y, color = 'red')\n",
    "plt.plot(X, y_pred, color = 'blue')\n",
    "plt.title('Ridge + Polynomial Regression Degree = 4')\n",
    "plt.xlabel('Level')\n",
    "plt.ylabel('Salary')"
   ]
  },
  {
   "cell_type": "markdown",
   "metadata": {},
   "source": [
    "### Lasso Regression"
   ]
  },
  {
   "cell_type": "markdown",
   "metadata": {},
   "source": [
    "### Ploynoimal Regression With Ridge Degree 2"
   ]
  },
  {
   "cell_type": "markdown",
   "metadata": {},
   "source": [
    "The R-squared of 0.90 shows that the model explains most of the variance in the dependent variable. The scatterplot shows that the model fit is somewhat of a good fit. When looking at the blue line there seems to be points where the model is predicting much lower or much higher than the actual salaries. A salary prediction for a Level 5 employee of 53,607 is really low. "
   ]
  },
  {
   "cell_type": "code",
   "execution_count": 13,
   "metadata": {},
   "outputs": [
    {
     "name": "stdout",
     "output_type": "stream",
     "text": [
      "Model Coef: [      0.         -132868.46936253   19431.58041449]\n",
      "Model Intercept: 232160.73553605692\n",
      "Model R-squared: 0.9085446556716869\n",
      "--------------------------------------------------------------------------------\n",
      "Predicting for Salary for HR: [53607.89908565]\n"
     ]
    },
    {
     "data": {
      "text/plain": [
       "Text(0,0.5,'Salary')"
      ]
     },
     "execution_count": 13,
     "metadata": {},
     "output_type": "execute_result"
    },
    {
     "data": {
      "image/png": "[encoded data removed]",
      "text/plain": [
       "<Figure size 432x288 with 1 Axes>"
      ]
     },
     "metadata": {},
     "output_type": "display_data"
    }
   ],
   "source": [
    "poly_reg = PolynomialFeatures(degree=2)\n",
    "X_poly = poly_reg.fit_transform(X)\n",
    "pol_reg = Lasso()\n",
    "pol_reg.fit(X_poly, y)\n",
    "print('Model Coef: {}'.format(pol_reg.coef_))\n",
    "print('Model Intercept: {}'.format(pol_reg.intercept_))\n",
    "y_pred = pol_reg.predict(X_poly)\n",
    "r2_las2 = r2_score(y_pred, y)\n",
    "print('Model R-squared: {}'.format(r2_las2))\n",
    "print('--'*40)\n",
    "pred7 = pol_reg.predict(poly_reg.transform([[5]]))\n",
    "print('Predicting for Salary for HR:', pred7)\n",
    "plt.scatter(X,y, color = 'red')\n",
    "plt.plot(X, y_pred, color = 'blue')\n",
    "plt.title('Ridge + Polynomial Regression Degree = 2')\n",
    "plt.xlabel('Level')\n",
    "plt.ylabel('Salary')"
   ]
  },
  {
   "cell_type": "markdown",
   "metadata": {},
   "source": [
    "### Ploynoimal Regression With Ridge Degree 3"
   ]
  },
  {
   "cell_type": "markdown",
   "metadata": {},
   "source": [
    "The R-squared of 0.97 shows that the model explains most of the variance in the dependent variable. The scatterplot shows that the model fit is good, but there are still points where the model is predicting a little higher or lower than the actual salaries. A salary prediction for a Level 5 employee of 73,850 is low. "
   ]
  },
  {
   "cell_type": "code",
   "execution_count": 14,
   "metadata": {},
   "outputs": [
    {
     "name": "stdout",
     "output_type": "stream",
     "text": [
      "Model Coef: [     0.         110222.40887607 -33856.77001754   3254.11209895]\n",
      "Model Intercept: -37606.513074315386\n",
      "Model R-squared: 0.9774534482257463\n",
      "--------------------------------------------------------------------------------\n",
      "Predicting for Salary for HR: [73850.29323582]\n"
     ]
    },
    {
     "data": {
      "text/plain": [
       "Text(0,0.5,'Salary')"
      ]
     },
     "execution_count": 14,
     "metadata": {},
     "output_type": "execute_result"
    },
    {
     "data": {
      "image/png": "[encoded data removed]",
      "text/plain": [
       "<Figure size 432x288 with 1 Axes>"
      ]
     },
     "metadata": {},
     "output_type": "display_data"
    }
   ],
   "source": [
    "poly_reg = PolynomialFeatures(degree=3)\n",
    "X_poly = poly_reg.fit_transform(X)\n",
    "pol_reg = Lasso()\n",
    "pol_reg.fit(X_poly, y)\n",
    "print('Model Coef: {}'.format(pol_reg.coef_))\n",
    "print('Model Intercept: {}'.format(pol_reg.intercept_))\n",
    "y_pred = pol_reg.predict(X_poly)\n",
    "r2_las3 = r2_score(y_pred, y)\n",
    "print('Model R-squared: {}'.format(r2_las3))\n",
    "print('--'*40)\n",
    "pred8 = pol_reg.predict(poly_reg.transform([[5]]))\n",
    "print('Predicting for Salary for HR:', pred8)\n",
    "plt.scatter(X,y, color = 'red')\n",
    "plt.plot(X, y_pred, color = 'blue')\n",
    "plt.title('Ridge + Polynomial Regression Degree = 3')\n",
    "plt.xlabel('Level')\n",
    "plt.ylabel('Salary')"
   ]
  },
  {
   "cell_type": "markdown",
   "metadata": {},
   "source": [
    "### Ploynoimal Regression With Ridge Degree 4"
   ]
  },
  {
   "cell_type": "markdown",
   "metadata": {},
   "source": [
    "The R-squared of 0.987 shows that the model explains most of the variance in the dependent variable. The scatterplot shows that the model fit is all most perfect. The blue line seems to cover the shape of the actual salaries.  A salary prediction for a Level 5 employee of 93,845 is a little low. "
   ]
  },
  {
   "cell_type": "code",
   "execution_count": 15,
   "metadata": {},
   "outputs": [
    {
     "name": "stdout",
     "output_type": "stream",
     "text": [
      "Model Coef: [ 0.00000000e+00  1.12096627e+05 -2.06567040e+04  7.02615912e+00\n",
      "  1.97675472e+02]\n",
      "Model Intercept: -74645.03061477805\n",
      "Model R-squared: 0.9872389646547449\n",
      "--------------------------------------------------------------------------------\n",
      "Predicting for Salary for HR: [93845.94360665]\n"
     ]
    },
    {
     "data": {
      "text/plain": [
       "Text(0,0.5,'Salary')"
      ]
     },
     "execution_count": 15,
     "metadata": {},
     "output_type": "execute_result"
    },
    {
     "data": {
      "image/png": "[encoded data removed]",
      "text/plain": [
       "<Figure size 432x288 with 1 Axes>"
      ]
     },
     "metadata": {},
     "output_type": "display_data"
    }
   ],
   "source": [
    "poly_reg = PolynomialFeatures(degree=4)\n",
    "X_poly = poly_reg.fit_transform(X)\n",
    "pol_reg = Lasso()\n",
    "pol_reg.fit(X_poly, y)\n",
    "print('Model Coef: {}'.format(pol_reg.coef_))\n",
    "print('Model Intercept: {}'.format(pol_reg.intercept_))\n",
    "y_pred = pol_reg.predict(X_poly)\n",
    "r2_las4 = r2_score(y_pred, y)\n",
    "print('Model R-squared: {}'.format(r2_las4))\n",
    "print('--'*40)\n",
    "pred9 = pol_reg.predict(poly_reg.transform([[5]]))\n",
    "print('Predicting for Salary for HR:',pred9)\n",
    "plt.scatter(X,y, color = 'red')\n",
    "plt.plot(X, y_pred, color = 'blue')\n",
    "plt.title('Ridge + Polynomial Regression Degree = 4')\n",
    "plt.xlabel('Level')\n",
    "plt.ylabel('Salary')"
   ]
  },
  {
   "cell_type": "markdown",
   "metadata": {},
   "source": [
    "### Models, R2, Prediction"
   ]
  },
  {
   "cell_type": "code",
   "execution_count": 16,
   "metadata": {},
   "outputs": [
    {
     "data": {
      "text/html": [
       "<div>\n",
       "<style scoped>\n",
       "    .dataframe tbody tr th:only-of-type {\n",
       "        vertical-align: middle;\n",
       "    }\n",
       "\n",
       "    .dataframe tbody tr th {\n",
       "        vertical-align: top;\n",
       "    }\n",
       "\n",
       "    .dataframe thead th {\n",
       "        text-align: right;\n",
       "    }\n",
       "</style>\n",
       "<table border=\"1\" class=\"dataframe\">\n",
       "  <thead>\n",
       "    <tr style=\"text-align: right;\">\n",
       "      <th></th>\n",
       "      <th>Models</th>\n",
       "      <th>R2</th>\n",
       "      <th>Prediction</th>\n",
       "    </tr>\n",
       "  </thead>\n",
       "  <tbody>\n",
       "    <tr>\n",
       "      <th>0</th>\n",
       "      <td>Lin Degree = 2</td>\n",
       "      <td>0.908545</td>\n",
       "      <td>53606.0</td>\n",
       "    </tr>\n",
       "    <tr>\n",
       "      <th>1</th>\n",
       "      <td>Lin Degree = 3</td>\n",
       "      <td>0.980850</td>\n",
       "      <td>83270.0</td>\n",
       "    </tr>\n",
       "    <tr>\n",
       "      <th>2</th>\n",
       "      <td>Lin Degree = 4</td>\n",
       "      <td>0.997385</td>\n",
       "      <td>132148.0</td>\n",
       "    </tr>\n",
       "    <tr>\n",
       "      <th>3</th>\n",
       "      <td>Ridge Degree = 2</td>\n",
       "      <td>0.901217</td>\n",
       "      <td>71012.0</td>\n",
       "    </tr>\n",
       "    <tr>\n",
       "      <th>4</th>\n",
       "      <td>Ridge Degree = 3</td>\n",
       "      <td>0.970852</td>\n",
       "      <td>63508.0</td>\n",
       "    </tr>\n",
       "    <tr>\n",
       "      <th>5</th>\n",
       "      <td>Ridge Degree = 4</td>\n",
       "      <td>0.993558</td>\n",
       "      <td>107424.0</td>\n",
       "    </tr>\n",
       "    <tr>\n",
       "      <th>6</th>\n",
       "      <td>Lasso Degree = 2</td>\n",
       "      <td>0.908545</td>\n",
       "      <td>53608.0</td>\n",
       "    </tr>\n",
       "    <tr>\n",
       "      <th>7</th>\n",
       "      <td>Lasso Degree = 3</td>\n",
       "      <td>0.977453</td>\n",
       "      <td>73850.0</td>\n",
       "    </tr>\n",
       "    <tr>\n",
       "      <th>8</th>\n",
       "      <td>Lasso Degree = 4</td>\n",
       "      <td>0.987239</td>\n",
       "      <td>93846.0</td>\n",
       "    </tr>\n",
       "  </tbody>\n",
       "</table>\n",
       "</div>"
      ],
      "text/plain": [
       "             Models        R2  Prediction\n",
       "0    Lin Degree = 2  0.908545     53606.0\n",
       "1    Lin Degree = 3  0.980850     83270.0\n",
       "2    Lin Degree = 4  0.997385    132148.0\n",
       "3  Ridge Degree = 2  0.901217     71012.0\n",
       "4  Ridge Degree = 3  0.970852     63508.0\n",
       "5  Ridge Degree = 4  0.993558    107424.0\n",
       "6  Lasso Degree = 2  0.908545     53608.0\n",
       "7  Lasso Degree = 3  0.977453     73850.0\n",
       "8  Lasso Degree = 4  0.987239     93846.0"
      ]
     },
     "execution_count": 16,
     "metadata": {},
     "output_type": "execute_result"
    }
   ],
   "source": [
    "r_squared = [r2_lin2, r2_lin3, r2_lin4, r2_rid2,r2_rid3, \n",
    "             r2_rid4, r2_las2, r2_las3, r2_las4 ]\n",
    "\n",
    "nam = ['Lin Degree = 2','Lin Degree = 3','Lin Degree = 4',\n",
    "       'Ridge Degree = 2','Ridge Degree = 3','Ridge Degree = 4',\n",
    "      'Lasso Degree = 2','Lasso Degree = 3','Lasso Degree = 4']\n",
    "\n",
    "pred_out = [pred1, pred2,pred3, pred4, pred5, pred6,pred7,pred8, pred9]\n",
    "\n",
    "r2 = pd.DataFrame(r_squared, columns=['R2'])\n",
    "\n",
    "models = pd.DataFrame(nam, columns=['Models'])\n",
    "\n",
    "pred_df = pd.DataFrame(pred_out, columns=['Prediction'])\n",
    "\n",
    "pd.concat([models, r2,round(pred_df,0)], axis = 1)\n"
   ]
  },
  {
   "cell_type": "markdown",
   "metadata": {},
   "source": [
    "### Conclusion"
   ]
  },
  {
   "cell_type": "markdown",
   "metadata": {},
   "source": [
    "When examining all the models together and looking back at the scatterplots the ridge regression model with 4 degrees is the best model. The scatterplot shows that it is not to over fit to the data and the R-squared shows that the model can explain almost all of the variance in the dependent variable. The prediction of 107,424 make sense as a salary for a Level 5 employee. Based on this information we can say that the new employee is bluffing and wasn’t being payed 123,000. "
   ]
  },
  {
   "cell_type": "code",
   "execution_count": null,
   "metadata": {},
   "outputs": [],
   "source": []
  }
 ],
 "metadata": {
  "kernelspec": {
   "display_name": "Python 3",
   "language": "python",
   "name": "python3"
  },
  "language_info": {
   "codemirror_mode": {
    "name": "ipython",
    "version": 3
   },
   "file_extension": ".py",
   "mimetype": "text/x-python",
   "name": "python",
   "nbconvert_exporter": "python",
   "pygments_lexer": "ipython3",
   "version": "3.6.5"
  }
 },
 "nbformat": 4,
 "nbformat_minor": 2
}
